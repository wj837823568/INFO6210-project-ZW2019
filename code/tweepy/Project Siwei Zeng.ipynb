{
 "cells": [
  {
   "cell_type": "markdown",
   "metadata": {
    "colab_type": "text",
    "id": "7U6unCWWkhsz"
   },
   "source": [
    "# Import Libraries and Setting API"
   ]
  },
  {
   "cell_type": "code",
   "execution_count": 1,
   "metadata": {
    "colab": {},
    "colab_type": "code",
    "id": "4Tx8TdjddmKg"
   },
   "outputs": [],
   "source": [
    "import tweepy\n",
    "import json\n",
    "import datetime\n",
    "import warnings\n",
    "import time\n",
    "warnings.filterwarnings('ignore')\n",
    "consumer_key = 'nRO8b2R7tnipKtrFTJVRUru7V'\n",
    "consumer_secret = 'bK2v3PVVZGktAT2BbviC96Tz9vzjq0ZDj2WLKZ1pmm5aGgu4eW'\n",
    "access_token = '1098973181468205057-xXfZG8xbtYbXjE6T2s0Ok5J0bKRpsN'\n",
    "access_token_secret = 'W7muOM4ABrbSH59nHLH43YMeRl3GZCfN1v8FOh1p8tPHh'\n",
    "auth = tweepy.OAuthHandler(consumer_key, consumer_secret)\n",
    "auth.set_access_token(access_token, access_token_secret)\n",
    "api = tweepy.API(auth, wait_on_rate_limit = True)"
   ]
  },
  {
   "cell_type": "markdown",
   "metadata": {
    "colab_type": "text",
    "id": "Dz1WamUSk3ci"
   },
   "source": [
    "# API 2 function"
   ]
  },
  {
   "cell_type": "code",
   "execution_count": 2,
   "metadata": {
    "colab": {},
    "colab_type": "code",
    "id": "oMKAgDogdmKw"
   },
   "outputs": [],
   "source": [
    "# SNSUser.accountID, SNSUser.userName, Person.personName OR Team.teamName -> API.user\n",
    "def anyname2user(anyname):\n",
    "    user = api.get_user(anyname)\n",
    "    return user"
   ]
  },
  {
   "cell_type": "code",
   "execution_count": 3,
   "metadata": {
    "colab": {},
    "colab_type": "code",
    "id": "MBYP6JA3dmK3"
   },
   "outputs": [],
   "source": [
    "# API.user -> SNSUser.accountID\n",
    "def user2accountid(user):\n",
    "    return user.id"
   ]
  },
  {
   "cell_type": "code",
   "execution_count": 4,
   "metadata": {
    "colab": {},
    "colab_type": "code",
    "id": "yfgv-Xl_dmK9"
   },
   "outputs": [],
   "source": [
    "# API.user -> Person.personName OR Team.teamName\n",
    "def user2name(user):\n",
    "    return user.name"
   ]
  },
  {
   "cell_type": "code",
   "execution_count": 5,
   "metadata": {
    "colab": {},
    "colab_type": "code",
    "id": "50EwnC6CdmLC"
   },
   "outputs": [],
   "source": [
    "# API.user -> SNSUser.userName\n",
    "def user2username(user):\n",
    "    return user.screen_name"
   ]
  },
  {
   "cell_type": "code",
   "execution_count": 6,
   "metadata": {
    "colab": {},
    "colab_type": "code",
    "id": "NDSOQIsFdmLI"
   },
   "outputs": [],
   "source": [
    "# API.user -> Location.locationName\n",
    "def user2locationname(user):\n",
    "    location = \"\"\n",
    "    pgcount = 1\n",
    "    allflag = False\n",
    "    timenow   = datetime.datetime.now()\n",
    "    tweetlist = []\n",
    "    start = time.clock()\n",
    "    while not allflag:\n",
    "        tweets = api.user_timeline(user.id, page = pgcount, tweet_mode = 'extended')\n",
    "        for tweet in tweets:\n",
    "            if (timenow - tweet.created_at).days < 1:\n",
    "                tweetlist.append(tweet)\n",
    "            else:\n",
    "                 allflag = True\n",
    "        if not allflag:\n",
    "            pgcount += 1\n",
    "        timeused = time.clock() - start\n",
    "        if timeused > 5:\n",
    "            break\n",
    "    for tweet in tweetlist:\n",
    "        if not tweet.place == None:\n",
    "            location = tweet.place.__dict__.get(\"full_name\")\n",
    "            if location != \"\":\n",
    "                break\n",
    "    if location == \"\":\n",
    "        location = user.location\n",
    "    return location"
   ]
  },
  {
   "cell_type": "code",
   "execution_count": 7,
   "metadata": {
    "colab": {},
    "colab_type": "code",
    "id": "kqGj04p7dmLO"
   },
   "outputs": [],
   "source": [
    "# API.user -> SNSUser.followersCount\n",
    "def user2followerscount(user):\n",
    "    return user.followers_count"
   ]
  },
  {
   "cell_type": "code",
   "execution_count": 8,
   "metadata": {
    "colab": {},
    "colab_type": "code",
    "id": "UdUnIMuXdmLs"
   },
   "outputs": [],
   "source": [
    "# API.user -> SNSUser.postsCount\n",
    "def user2postscount(user):\n",
    "    return user.statuses_count"
   ]
  },
  {
   "cell_type": "code",
   "execution_count": 9,
   "metadata": {
    "colab": {},
    "colab_type": "code",
    "id": "xNKo4yModmL4"
   },
   "outputs": [],
   "source": [
    "# API.post -> Post.postID\n",
    "def post2postid(tweet):\n",
    "    return tweet._json.get(\"id\")"
   ]
  },
  {
   "cell_type": "code",
   "execution_count": 10,
   "metadata": {
    "colab": {},
    "colab_type": "code",
    "id": "Gktldr1-dmMB"
   },
   "outputs": [],
   "source": [
    "# API.post -> Post.SNSUserID\n",
    "def post2snsuserid(tweet):\n",
    "    return tweet._json.get(\"user\").get(\"id\")"
   ]
  },
  {
   "cell_type": "code",
   "execution_count": 11,
   "metadata": {
    "colab": {},
    "colab_type": "code",
    "id": "s-w9mOJydmMR"
   },
   "outputs": [],
   "source": [
    "# API.post -> Post.content\n",
    "def post2content(tweet):\n",
    "    return tweet._json.get(\"full_text\")"
   ]
  },
  {
   "cell_type": "code",
   "execution_count": 12,
   "metadata": {
    "colab": {},
    "colab_type": "code",
    "id": "0kZuvegEdmMc"
   },
   "outputs": [],
   "source": [
    "# API.post -> Post.favoriteCount\n",
    "def post2favoritecount(tweet):\n",
    "    return tweet._json.get(\"favorite_count\")"
   ]
  },
  {
   "cell_type": "code",
   "execution_count": 13,
   "metadata": {
    "colab": {},
    "colab_type": "code",
    "id": "ZdfEOuQjdmMi"
   },
   "outputs": [],
   "source": [
    "# API.post -> Post.createdTime\n",
    "def post2createdtime(tweet):\n",
    "    return tweet.created_at"
   ]
  },
  {
   "cell_type": "code",
   "execution_count": 14,
   "metadata": {
    "colab": {},
    "colab_type": "code",
    "id": "lAS5NaTpdmMo"
   },
   "outputs": [],
   "source": [
    "# API.post -> API.post.location\n",
    "def post2postlocation(tweet):\n",
    "    return tweet.place.__dict__.get(\"full_name\")"
   ]
  },
  {
   "cell_type": "code",
   "execution_count": 15,
   "metadata": {
    "colab": {},
    "colab_type": "code",
    "id": "viqx77OUdmMw"
   },
   "outputs": [],
   "source": [
    "# API.post -> Tag.tagText(hashtag) list\n",
    "def post2tagtexthashtaglist(tweet):\n",
    "    hashtags = tweet._json.get(\"entities\").get(\"hashtags\")\n",
    "    hashtagList = []\n",
    "    for hashtag in hashtags:\n",
    "        hashtagList.append(hashtag.get(\"text\"))\n",
    "    return hashtagList"
   ]
  },
  {
   "cell_type": "code",
   "execution_count": 16,
   "metadata": {
    "colab": {},
    "colab_type": "code",
    "id": "xVLLTnzfdmM6"
   },
   "outputs": [],
   "source": [
    "# API.post -> Tag.tagText(mention) list\n",
    "def post2tagtextmentionlist(tweet):\n",
    "    mentions = tweet._json.get(\"entities\").get(\"user_mentions\")\n",
    "    mentionList = []\n",
    "    for mention in mentions:\n",
    "        mentionList.append(mention.get(\"screen_name\"))\n",
    "    return mentionList"
   ]
  },
  {
   "cell_type": "code",
   "execution_count": 17,
   "metadata": {
    "colab": {},
    "colab_type": "code",
    "id": "vnasWPxUdmNB"
   },
   "outputs": [],
   "source": [
    "# SNSUser.accountID, SNSUser.userName, Person.personName OR Team.teamName -> @param number days posts list\n",
    "def anyname2dayspostlist(anyname, number):\n",
    "    pgcount = 1\n",
    "    allflag = False\n",
    "    timenow   = datetime.datetime.now()\n",
    "    tweetlist = []\n",
    "    while not allflag:\n",
    "        tweets = api.user_timeline(anyname, page = pgcount, tweet_mode = 'extended')\n",
    "        for tweet in tweets:\n",
    "            if (timenow - tweet.created_at).days < number:\n",
    "                tweetlist.append(tweet)\n",
    "            else:\n",
    "                 allflag = True\n",
    "        if not allflag:\n",
    "            pgcount += 1\n",
    "        else:\n",
    "            return tweetlist"
   ]
  },
  {
   "cell_type": "code",
   "execution_count": 18,
   "metadata": {
    "colab": {},
    "colab_type": "code",
    "id": "rKdrbeiqdmNL"
   },
   "outputs": [],
   "source": [
    "# Tag.tagText(hashtag) -> posts list\n",
    "def tagtexthashtag2postlist(hashtag, number):\n",
    "    tweets = []\n",
    "    for tweet in tweepy.Cursor(api.search, q='#' + hashtag, tweet_mode = 'extended').items(number):\n",
    "        tweets.append(tweet)\n",
    "    return tweets"
   ]
  },
  {
   "cell_type": "code",
   "execution_count": 19,
   "metadata": {
    "colab": {},
    "colab_type": "code",
    "id": "QuS6vH4FdmNR"
   },
   "outputs": [],
   "source": [
    "# Tag.tagText(mention) -> posts list\n",
    "def tagtextmention2postlist(mention, number):\n",
    "    tweets = []\n",
    "    for tweet in tweepy.Cursor(api.search, q='@' + mention, tweet_mode = 'extended').items(number):\n",
    "        tweets.append(tweet)\n",
    "    return tweets"
   ]
  },
  {
   "cell_type": "markdown",
   "metadata": {
    "colab_type": "text",
    "id": "S9OwmCryl_yw"
   },
   "source": [
    "# Make DataFrame"
   ]
  },
  {
   "cell_type": "code",
   "execution_count": 20,
   "metadata": {
    "colab": {},
    "colab_type": "code",
    "id": "uVockPQKdmNk"
   },
   "outputs": [],
   "source": [
    "import pandas as pd\n",
    "Player = pd.DataFrame(columns = [\"personID\"])\n",
    "Player_Fan = pd.DataFrame(columns = [\"prfID\", \"PlayerpersonID\", \"FanpersonID\"])\n",
    "Fan = pd.DataFrame(columns = [\"personID\"])\n",
    "Fan_Team = pd.DataFrame(columns = [\"frtID\", \"FanpersonID\", \"TeamteamID\"])\n",
    "Person = pd.DataFrame(columns = [\"personID\", \"personName\", \"locationID\"])\n",
    "Team = pd.DataFrame(columns = [\"teamID\", \"teamName\", \"locationID\"])\n",
    "Person_SNSUser = pd.DataFrame(columns = [\"prsID\", \"PersonpersonID\", \"SNSUserSNSUserID\"])\n",
    "Location = pd.DataFrame(columns = [\"locationID\", \"locationName\"])\n",
    "Team_SNSUser = pd.DataFrame(columns = [\"trsID\", \"TeamteamID\", \"SNSUserSNSUserID\"])\n",
    "SNSUser = pd.DataFrame(columns = [\"SNSUserID\", \"SNSType\", \"accountID\", \"userName\", \"followersCount\", \"postsCount\"])\n",
    "Post = pd.DataFrame(columns = [\"SNSpostID\", \"postID\", \"SNSUserID\", \"content\", \"favoriteCount\", \"createdTime\"])\n",
    "Post_Tag = pd.DataFrame(columns = [\"prtID\", \"PostSNSpostID\", \"TagTagID\"])\n",
    "Tag = pd.DataFrame(columns = [\"tagID\", \"tagText\", \"tagType\"])\n",
    "DomainTag = pd.DataFrame(columns = [\"tagID\"])\n",
    "SynonymsTag = pd.DataFrame(columns = [\"tagID1\", \"tagID2\"])\n",
    "MisspellingsTag = pd.DataFrame(columns = [\"tagID1\", \"tagID2\"])\n",
    "TagCatagory_Tag = pd.DataFrame(columns = [\"trtID\", \"TagCatagorycatagoryID\", \"TagTagID\"])\n",
    "TagCatagory = pd.DataFrame(columns = [\"catagoryID\", \"catagoryName\"])"
   ]
  },
  {
   "cell_type": "markdown",
   "metadata": {
    "colab_type": "text",
    "id": "ePLuQvWembJb"
   },
   "source": [
    "# Data Retriving Function"
   ]
  },
  {
   "cell_type": "markdown",
   "metadata": {
    "colab_type": "text",
    "id": "IwlpHBu5mJkH"
   },
   "source": [
    "## User Saving Function"
   ]
  },
  {
   "cell_type": "code",
   "execution_count": 21,
   "metadata": {
    "colab": {},
    "colab_type": "code",
    "id": "XfQaIIl1dmN0"
   },
   "outputs": [],
   "source": [
    "# user saving function\n",
    "def savesnsuser(user):\n",
    "    if SNSUser[SNSUser[\"accountID\"].isin([user2accountid(user)])].shape[0] == 0:\n",
    "        SNSUser.loc[SNSUser.shape[0] + 1] = {\"SNSUserID\": SNSUser.shape[0] + 1, \n",
    "                                             \"SNSType\": \"Twitter\", \n",
    "                                             \"accountID\": user2accountid(user), \n",
    "                                             \"userName\": user2username(user), \n",
    "                                             \"followersCount\": user2followerscount(user), \n",
    "                                             \"postsCount\":user2postscount(user)}\n",
    "    else:\n",
    "        SNSUser.set_value(SNSUser[SNSUser[\"accountID\"].isin([user2accountid(user)])].loc[:, [\"SNSUserID\"]].values[0][0], \"followersCount\", user2followerscount(user))\n",
    "        SNSUser.set_value(SNSUser[SNSUser[\"accountID\"].isin([user2accountid(user)])].loc[:, [\"SNSUserID\"]].values[0][0], \"postsCount\", user2postscount(user))"
   ]
  },
  {
   "cell_type": "markdown",
   "metadata": {
    "colab_type": "text",
    "id": "NVmMIgmbmPvU"
   },
   "source": [
    "## Post Saving Function"
   ]
  },
  {
   "cell_type": "code",
   "execution_count": 22,
   "metadata": {
    "colab": {},
    "colab_type": "code",
    "id": "1RIMrGIEdmN8"
   },
   "outputs": [],
   "source": [
    "# post saving function\n",
    "def savesnspost(post):\n",
    "    if Post[Post[\"postID\"].isin([post2postid(post)])].shape[0] == 0:\n",
    "        Post.loc[Post.shape[0] + 1] = {\"SNSpostID\": Post.shape[0] + 1, \n",
    "                                       \"postID\": post2postid(post), \n",
    "                                       \"SNSUserID\": SNSUser[(SNSUser[\"accountID\"].isin([post2snsuserid(post)])) & (SNSUser[\"SNSType\"] == \"Twitter\")].loc[:, [\"SNSUserID\"]].values[0][0], \n",
    "                                       \"content\":post2content(post), \n",
    "                                       \"favoriteCount\":post2favoritecount(post), \n",
    "                                       \"createdTime\":post2createdtime(post)}\n",
    "        taglist = post2tagtexthashtaglist(post)\n",
    "        for tag in taglist:\n",
    "            savesnstag(tag, \"hashtag\")\n",
    "        taglist=post2tagtextmentionlist(post)\n",
    "        for tag in taglist:\n",
    "            savesnstag(tag, \"mention\")\n",
    "    else:\n",
    "        Post.set_value(Post[Post[\"postID\"].isin([post2postid(post)])].loc[:, [\"SNSpostID\"]].values[0][0], \"favoriteCount\", post2favoritecount(post))"
   ]
  },
  {
   "cell_type": "markdown",
   "metadata": {
    "colab_type": "text",
    "id": "LXvgcc7-mq1h"
   },
   "source": [
    "## Tag Saving Function"
   ]
  },
  {
   "cell_type": "code",
   "execution_count": 23,
   "metadata": {
    "colab": {},
    "colab_type": "code",
    "id": "8PwhkjUgdmOL"
   },
   "outputs": [],
   "source": [
    "# tag saving function\n",
    "def savesnstag(tag, tagType):\n",
    "    if tagType == \"hashtag\":\n",
    "        if Tag[(Tag[\"tagText\"].isin([tag])) & (Tag[\"tagType\"] == \"hashtag\")].shape[0] == 0:\n",
    "            Tag.loc[Tag.shape[0] + 1] = {\"tagID\": Tag.shape[0] + 1, \n",
    "                                         \"tagText\": tag, \n",
    "                                         \"tagType\": \"hashtag\"}\n",
    "        Post_Tag.loc[Post_Tag.shape[0] + 1] = {\"prtID\": Post_Tag.shape[0] + 1, \n",
    "                                               \"PostSNSpostID\": Post.shape[0], \n",
    "                                               \"TagTagID\": Tag[(Tag[\"tagText\"].isin([tag])) & (Tag[\"tagType\"] == \"hashtag\")].loc[:, [\"tagID\"]].values[0][0]}\n",
    "\n",
    "\n",
    "    if tagType == \"mention\":\n",
    "        if Tag[(Tag[\"tagText\"].isin([tag])) & (Tag[\"tagType\"] == \"mention\")].shape[0] == 0:\n",
    "            Tag.loc[Tag.shape[0] + 1] = {\"tagID\": Tag.shape[0] + 1, \n",
    "                                         \"tagText\": tag, \n",
    "                                         \"tagType\": \"mention\"}\n",
    "        Post_Tag.loc[Post_Tag.shape[0] + 1] = {\"prtID\": Post_Tag.shape[0] + 1, \n",
    "                                               \"PostSNSpostID\": Post.shape[0], \n",
    "                                               \"TagTagID\": Tag[(Tag[\"tagText\"].isin([tag])) & (Tag[\"tagType\"] == \"mention\")].loc[:, [\"tagID\"]].values[0][0]}"
   ]
  },
  {
   "cell_type": "markdown",
   "metadata": {
    "colab_type": "text",
    "id": "b74CNPBgmpiP"
   },
   "source": [
    "## Team Saving Function"
   ]
  },
  {
   "cell_type": "code",
   "execution_count": 24,
   "metadata": {
    "colab": {},
    "colab_type": "code",
    "id": "xCQvhj4ydmOU"
   },
   "outputs": [],
   "source": [
    "# team saving function\n",
    "def saveteam(teamName, userName):\n",
    "    teamID = 0\n",
    "    teamIDtemp = 0\n",
    "    userExistFlag = True\n",
    "    if SNSUser[SNSUser[\"accountID\"].isin([user2accountid(anyname2user(userName))])].shape[0] == 0:\n",
    "        userExistFlag = False\n",
    "    savesnsuser(anyname2user(userName))\n",
    "    locationName = user2locationname(anyname2user(userName))\n",
    "    if Location[Location[\"locationName\"].isin([locationName])].shape[0] == 0:\n",
    "        Location.loc[Location.shape[0] + 1] = {\"locationID\": Location.shape[0] + 1, \n",
    "                                               \"locationName\": locationName}\n",
    "    if not userExistFlag:\n",
    "        Team.loc[Team.shape[0] + 1] = {\"teamID\": Team.shape[0] + 1, \n",
    "                                       \"teamName\": teamName, \n",
    "                                       \"locationID\": Location[Location[\"locationName\"].isin([locationName])].loc[:, [\"locationID\"]].values[0][0]}\n",
    "        teamIDtemp = Team.shape[0]\n",
    "        teamID = Team.shape[0]\n",
    "    else:\n",
    "        teamID = Team[Team[\"teamName\"].isin([teamName])].loc[:, [\"teamID\"]].values[0][0]\n",
    "        if (teamIDtemp != 0):\n",
    "            teamID = teamIDtemp\n",
    "        Team.set_value(teamID, \"locationID\", Location[Location[\"locationName\"].isin([locationName])].loc[:, [\"locationID\"]].values[0][0])\n",
    "    Team_SNSUser.loc[Team_SNSUser.shape[0] + 1] = {\"trsID\": Team_SNSUser.shape[0] + 1, \n",
    "                                                   \"TeamteamID\": teamID, \n",
    "                                                   \"SNSUserSNSUserID\": SNSUser[SNSUser[\"userName\"].isin([userName])].loc[:, [\"SNSUserID\"]].values[0][0]}\n",
    "    Team_SNSUser.drop_duplicates(subset = [\"TeamteamID\",\"SNSUserSNSUserID\"], keep='first', inplace=True)"
   ]
  },
  {
   "cell_type": "markdown",
   "metadata": {
    "colab_type": "text",
    "id": "ZqbGtllim69V"
   },
   "source": [
    "## Player Saving Function"
   ]
  },
  {
   "cell_type": "code",
   "execution_count": 25,
   "metadata": {
    "colab": {},
    "colab_type": "code",
    "id": "SEw5BnUhdmOa"
   },
   "outputs": [],
   "source": [
    "# player saving function\n",
    "def saveplayer(personName, userName):\n",
    "    personID = 0\n",
    "    personIDtemp = 0\n",
    "    userExistFlag = True\n",
    "    if SNSUser[SNSUser[\"accountID\"].isin([user2accountid(anyname2user(userName))])].shape[0] == 0:\n",
    "        userExistFlag = False\n",
    "    savesnsuser(anyname2user(userName))\n",
    "    locationName = user2locationname(anyname2user(userName))\n",
    "    if Location[Location[\"locationName\"].isin([locationName])].shape[0] == 0:\n",
    "        Location.loc[Location.shape[0] + 1] = {\"locationID\": Location.shape[0] + 1, \n",
    "                                               \"locationName\": locationName}\n",
    "    if not userExistFlag:\n",
    "        Person.loc[Person.shape[0] + 1] = {\"personID\": Person.shape[0] + 1, \n",
    "                                           \"personName\": personName, \n",
    "                                           \"locationID\": Location[Location[\"locationName\"].isin([locationName])].loc[:, [\"locationID\"]].values[0][0]}\n",
    "        Player.loc[Player.shape[0] + 1] = {\"personID\": Person.shape[0]}\n",
    "        personIDtemp = Person.shape[0]\n",
    "        personID = Person.shape[0]\n",
    "    else:\n",
    "        personID = Person[Person[\"personName\"].isin([personName])].loc[:, [\"personID\"]].values[0][0]\n",
    "        if (personIDtemp != 0):\n",
    "            personID = personIDtemp\n",
    "        Person.set_value(Person[Person[\"personName\"].isin([personName])].loc[:, [\"personID\"]].values[0][0], \"locationID\", Location[Location[\"locationName\"].isin([locationName])].loc[:, [\"locationID\"]].values[0][0])\n",
    "    Person_SNSUser.loc[Person_SNSUser.shape[0] + 1] = {\"prsID\": Person_SNSUser.shape[0] + 1, \n",
    "                                                       \"PersonpersonID\": personID, \n",
    "                                                       \"SNSUserSNSUserID\": SNSUser[SNSUser[\"userName\"].isin([userName])].loc[:, [\"SNSUserID\"]].values[0][0]}\n",
    "    Person_SNSUser.drop_duplicates(subset = [\"PersonpersonID\",\"SNSUserSNSUserID\"], keep='first', inplace=True)"
   ]
  },
  {
   "cell_type": "markdown",
   "metadata": {
    "colab_type": "text",
    "id": "gZBF5M4HnAkC"
   },
   "source": [
    "## save user's posts"
   ]
  },
  {
   "cell_type": "code",
   "execution_count": 26,
   "metadata": {
    "colab": {},
    "colab_type": "code",
    "id": "XsWEMoaudmOi"
   },
   "outputs": [],
   "source": [
    "# save user's posts\n",
    "def saveposts(userName, number):\n",
    "    postlist = anyname2dayspostlist(userName,number)\n",
    "    for post in postlist:\n",
    "        savesnspost(post)"
   ]
  },
  {
   "cell_type": "markdown",
   "metadata": {
    "colab_type": "text",
    "id": "r9mgCtrpnAKU"
   },
   "source": [
    "## save posts with team #hashtag"
   ]
  },
  {
   "cell_type": "code",
   "execution_count": 27,
   "metadata": {
    "colab": {},
    "colab_type": "code",
    "id": "7SzZ6YJadmOn"
   },
   "outputs": [],
   "source": [
    "# save posts with team #hashtag\n",
    "def saveteamhashtagposts(hashtag, number):\n",
    "    postlist = tagtexthashtag2postlist(hashtag, number)\n",
    "    for post in postlist:\n",
    "        user = anyname2user(post2snsuserid(post))\n",
    "        userName = user2username(user)\n",
    "        personName = user2name(user)\n",
    "        personID = 0\n",
    "        userExistFlag = True\n",
    "        if SNSUser[SNSUser[\"accountID\"].isin([user2accountid(anyname2user(userName))])].shape[0] == 0:\n",
    "            userExistFlag = False\n",
    "        personExistFlag = True\n",
    "        if Person[Person[\"personName\"].isin([personName])].shape[0] == 0: \n",
    "            personExistFlag = False\n",
    "        savesnsuser(anyname2user(userName))\n",
    "        locationName = user2locationname(anyname2user(userName))\n",
    "        if Location[Location[\"locationName\"].isin([locationName])].shape[0] == 0:\n",
    "            Location.loc[Location.shape[0] + 1] = {\"locationID\": Location.shape[0] + 1, \n",
    "                                                   \"locationName\": locationName}\n",
    "        if not personExistFlag:\n",
    "            Person.loc[Person.shape[0] + 1] = {\"personID\": Person.shape[0] + 1, \n",
    "                                               \"personName\": personName, \n",
    "                                               \"locationID\": Location[Location[\"locationName\"].isin([locationName])].loc[:, [\"locationID\"]].values[0][0]}\n",
    "            personID = Person.shape[0]\n",
    "        else:\n",
    "            personID = Person[Person[\"personName\"].isin([personName])].loc[:, [\"personID\"]].values[0][0]\n",
    "            Person.set_value(Person[Person[\"personName\"].isin([personName])].loc[:, [\"personID\"]].values[0][0], \"locationID\", Location[Location[\"locationName\"].isin([locationName])].loc[:, [\"locationID\"]].values[0][0])\n",
    "        if (not userExistFlag) | (not personExistFlag):\n",
    "            Person_SNSUser.loc[Person_SNSUser.shape[0] + 1] = {\"prsID\": Person_SNSUser.shape[0] + 1, \n",
    "                                                               \"PersonpersonID\": personID, \n",
    "                                                               \"SNSUserSNSUserID\": SNSUser[SNSUser[\"userName\"].isin([userName])].loc[:, [\"SNSUserID\"]].values[0][0]}\n",
    "            Person_SNSUser.drop_duplicates(subset=[\"PersonpersonID\",\"SNSUserSNSUserID\"], keep='first', inplace=True)\n",
    "        if Fan[Fan[\"personID\"].isin([personID])].shape[0] == 0:\n",
    "            Fan.loc[Fan.shape[0] + 1] = {\"personID\": personID}\n",
    "        teamsnsid = SNSUser[SNSUser[\"userName\"].isin([hashtag])].loc[:, [\"SNSUserID\"]].values[0][0]\n",
    "        teamteamid = Team_SNSUser[Team_SNSUser[\"SNSUserSNSUserID\"].isin([teamsnsid])].loc[:, [\"TeamteamID\"]].values[0][0]\n",
    "        teamName = Team[Team[\"teamID\"].isin([teamteamid])].loc[:, [\"teamName\"]].values[0][0]\n",
    "        Fan_Team.loc[Fan_Team.shape[0] + 1] = {\"frtID\": Fan_Team.shape[0] + 1, \n",
    "                                               \"FanpersonID\": personID, \n",
    "                                               \"TeamteamID\": Team[Team[\"teamName\"].isin([teamName])].loc[:, [\"teamID\"]].values[0][0]}\n",
    "        Fan_Team.drop_duplicates(subset=[\"FanpersonID\",\"TeamteamID\"], keep='first', inplace=True)"
   ]
  },
  {
   "cell_type": "markdown",
   "metadata": {
    "colab_type": "text",
    "id": "A_uAGrZCnJXN"
   },
   "source": [
    "## save posts with player #hashtag"
   ]
  },
  {
   "cell_type": "code",
   "execution_count": 28,
   "metadata": {
    "colab": {},
    "colab_type": "code",
    "id": "kjWdxJ4JdmOz"
   },
   "outputs": [],
   "source": [
    "# save posts with player #hashtag\n",
    "def saveplayerhashtagposts(hashtag, number):\n",
    "    postlist = tagtexthashtag2postlist(hashtag, number)\n",
    "    for post in postlist:\n",
    "        user = anyname2user(post2snsuserid(post))\n",
    "        userName = user2username(user)\n",
    "        personName = user2name(user)\n",
    "        personID = 0\n",
    "        userExistFlag = True\n",
    "        if SNSUser[SNSUser[\"accountID\"].isin([user2accountid(anyname2user(userName))])].shape[0] == 0:\n",
    "            userExistFlag = False\n",
    "        personExistFlag = True\n",
    "        if Person[Person[\"personName\"].isin([personName])].shape[0] == 0: \n",
    "            personExistFlag = False\n",
    "        savesnsuser(anyname2user(userName))\n",
    "        locationName = user2locationname(anyname2user(userName))\n",
    "        if Location[Location[\"locationName\"].isin([locationName])].shape[0] == 0:\n",
    "            Location.loc[Location.shape[0] + 1] = {\"locationID\": Location.shape[0] + 1, \n",
    "                                                   \"locationName\": locationName}\n",
    "        if not personExistFlag:\n",
    "            Person.loc[Person.shape[0] + 1] = {\"personID\": Person.shape[0] + 1, \n",
    "                                               \"personName\": personName, \n",
    "                                               \"locationID\": Location[Location[\"locationName\"].isin([locationName])].loc[:, [\"locationID\"]].values[0][0]}\n",
    "            personID = Person.shape[0]\n",
    "        else:\n",
    "            personID = Person[Person[\"personName\"].isin([personName])].loc[:, [\"personID\"]].values[0][0]\n",
    "            Person.set_value(Person[Person[\"personName\"].isin([personName])].loc[:, [\"personID\"]].values[0][0], \"locationID\", Location[Location[\"locationName\"].isin([locationName])].loc[:, [\"locationID\"]].values[0][0])\n",
    "        if (not userExistFlag) | (not personExistFlag):\n",
    "            Person_SNSUser.loc[Person_SNSUser.shape[0] + 1] = {\"prsID\": Person_SNSUser.shape[0] + 1, \n",
    "                                                               \"PersonpersonID\": personID, \n",
    "                                                               \"SNSUserSNSUserID\": SNSUser[SNSUser[\"userName\"].isin([userName])].loc[:, [\"SNSUserID\"]].values[0][0]}\n",
    "            Person_SNSUser.drop_duplicates(subset=[\"PersonpersonID\",\"SNSUserSNSUserID\"], keep='first', inplace=True)\n",
    "        if Fan[Fan[\"personID\"].isin([personID])].shape[0] == 0:\n",
    "            Fan.loc[Fan.shape[0] + 1] = {\"personID\": personID}\n",
    "        playersnsid = SNSUser[SNSUser[\"userName\"].isin([hashtag])].loc[:, [\"SNSUserID\"]].values[0][0]\n",
    "        personpersonid = Person_SNSUser[Person_SNSUser[\"SNSUserSNSUserID\"].isin([playersnsid])].loc[:, [\"PersonpersonID\"]].values[0][0]\n",
    "        personName = Person[Person[\"personID\"].isin([personpersonid])].loc[:, [\"personName\"]].values[0][0]\n",
    "        Player_Fan.loc[Player_Fan.shape[0] + 1] = {\"prfID\": Player_Fan.shape[0] + 1, \n",
    "                                                   \"PlayerpersonID\": Person[Person[\"personName\"].isin([personName])].loc[:, [\"personID\"]].values[0][0], \n",
    "                                                   \"FanpersonID\": personID}\n",
    "        Player_Fan.drop_duplicates(subset=[\"PlayerpersonID\",\"FanpersonID\"], keep='first', inplace=True)\n",
    "        savesnspost(post)"
   ]
  },
  {
   "cell_type": "markdown",
   "metadata": {
    "colab_type": "text",
    "id": "uZZ9InWFnRtG"
   },
   "source": [
    "## save posts with @mention"
   ]
  },
  {
   "cell_type": "code",
   "execution_count": 29,
   "metadata": {
    "colab": {},
    "colab_type": "code",
    "id": "Ay_GADYqdmO3"
   },
   "outputs": [],
   "source": [
    "# save posts with @mention\n",
    "def savementionposts(mention, number):\n",
    "    postlist = tagtextmention2postlist(mention, number)   \n",
    "    for post in postlist:\n",
    "        user = anyname2user(post2snsuserid(post))\n",
    "        userName = user2username(user)\n",
    "        personName = user2name(user)\n",
    "        personID = 0\n",
    "        userExistFlag = True\n",
    "        if SNSUser[SNSUser[\"accountID\"].isin([user2accountid(anyname2user(userName))])].shape[0] == 0:\n",
    "            userExistFlag = False\n",
    "        personExistFlag = True\n",
    "        if Person[Person[\"personName\"].isin([personName])].shape[0] == 0: \n",
    "            personExistFlag = False\n",
    "        savesnsuser(anyname2user(userName))\n",
    "        locationName = user2locationname(anyname2user(userName))\n",
    "        if Location[Location[\"locationName\"].isin([locationName])].shape[0] == 0:\n",
    "            Location.loc[Location.shape[0] + 1] = {\"locationID\": Location.shape[0] + 1, \n",
    "                                                   \"locationName\": locationName}\n",
    "        if not personExistFlag:\n",
    "            Person.loc[Person.shape[0] + 1] = {\"personID\": Person.shape[0] + 1, \n",
    "                                               \"personName\": personName, \n",
    "                                               \"locationID\": Location[Location[\"locationName\"].isin([locationName])].loc[:, [\"locationID\"]].values[0][0]}\n",
    "            personID = Person.shape[0]\n",
    "        else:\n",
    "            personID = Person[Person[\"personName\"].isin([personName])].loc[:, [\"personID\"]].values[0][0]\n",
    "            Person.set_value(Person[Person[\"personName\"].isin([personName])].loc[:, [\"personID\"]].values[0][0], \"locationID\", Location[Location[\"locationName\"].isin([locationName])].loc[:, [\"locationID\"]].values[0][0])\n",
    "        if (not userExistFlag) | (not personExistFlag):\n",
    "            Person_SNSUser.loc[Person_SNSUser.shape[0] + 1] = {\"prsID\": Person_SNSUser.shape[0] + 1, \n",
    "                                                               \"PersonpersonID\": personID, \n",
    "                                                               \"SNSUserSNSUserID\": SNSUser[SNSUser[\"userName\"].isin([userName])].loc[:, [\"SNSUserID\"]].values[0][0]}\n",
    "            Person_SNSUser.drop_duplicates(subset = [\"PersonpersonID\",\"SNSUserSNSUserID\"], keep='first', inplace=True)\n",
    "        savesnspost(post)"
   ]
  },
  {
   "cell_type": "markdown",
   "metadata": {
    "colab_type": "text",
    "id": "XWAmLsazn8yW"
   },
   "source": [
    "# Saving"
   ]
  },
  {
   "cell_type": "markdown",
   "metadata": {
    "colab_type": "text",
    "id": "5roFKHuMnVpK"
   },
   "source": [
    "## save teams & players"
   ]
  },
  {
   "cell_type": "code",
   "execution_count": 30,
   "metadata": {
    "colab": {},
    "colab_type": "code",
    "id": "0lqC0VdUGAI3"
   },
   "outputs": [],
   "source": [
    "teamSNS = [[\"Houston Astros\", \"astros\"], \n",
    "           [\"Detroit Tigers\", \"tigers\"], \n",
    "           [\"Texas Rangers\", \"Rangers\"]]\n",
    "playerSNS = [[\"Alexander David Bregman\", \"ABREG_1\"], \n",
    "             [\"Carlos Javier Correa\", \"TeamCJCorrea\"], \n",
    "             [\"José Carlos Altuve\", \"JoseAltuve27\"], \n",
    "             [\"Nicholas A. Castellanos\", \"Ncastellano22\"], \n",
    "             [\"Jose Miguel Cabrera\", \"MiguelCabrera\"], \n",
    "             [\"Jeimer Candelario\", \"jeimer24C\"], \n",
    "             [\"Elvis Augusto Andrus\", \"ElvisandrusSS1\"], \n",
    "             [\"Hunter Andrew Pence\", \"hunterpence\"], \n",
    "             [\"Nomar Shamir Mazara\", \"NomarMzra26\"]]"
   ]
  },
  {
   "cell_type": "code",
   "execution_count": 31,
   "metadata": {
    "colab": {
     "base_uri": "https://localhost:8080/",
     "height": 221
    },
    "colab_type": "code",
    "executionInfo": {
     "elapsed": 12165,
     "status": "ok",
     "timestamp": 1556240546602,
     "user": {
      "displayName": "Jing Wang",
      "photoUrl": "",
      "userId": "06552028597999080834"
     },
     "user_tz": 240
    },
    "id": "Cm5AXDNWdmO7",
    "outputId": "7bcd28b2-03ba-49bd-f1db-73e6a2d605ff"
   },
   "outputs": [
    {
     "name": "stdout",
     "output_type": "stream",
     "text": [
      "1\n",
      "2\n",
      "3\n",
      "4\n",
      "5\n",
      "6\n",
      "7\n",
      "8\n",
      "9\n",
      "10\n",
      "11\n",
      "12\n"
     ]
    }
   ],
   "source": [
    "try:\n",
    "    counter = 0\n",
    "    for team in teamSNS:\n",
    "        saveteam(team[0], team[1])\n",
    "        counter = counter + 1\n",
    "        print(counter)\n",
    "    for player in playerSNS:\n",
    "        saveplayer(player[0], player[1])\n",
    "        counter = counter + 1\n",
    "        print(counter)\n",
    "    counter = 0\n",
    "except tweepy.error.TweepError:\n",
    "    pass"
   ]
  },
  {
   "cell_type": "markdown",
   "metadata": {
    "colab_type": "text",
    "id": "yezo3Cr6ndZs"
   },
   "source": [
    " ## save teams' and players' posts"
   ]
  },
  {
   "cell_type": "code",
   "execution_count": 32,
   "metadata": {
    "colab": {
     "base_uri": "https://localhost:8080/",
     "height": 51
    },
    "colab_type": "code",
    "executionInfo": {
     "elapsed": 33158,
     "status": "ok",
     "timestamp": 1556240567613,
     "user": {
      "displayName": "Jing Wang",
      "photoUrl": "",
      "userId": "06552028597999080834"
     },
     "user_tz": 240
    },
    "id": "belvCvdsdmPF",
    "outputId": "cf507d3b-4d74-4dd8-bd3b-d326934228f1"
   },
   "outputs": [
    {
     "name": "stdout",
     "output_type": "stream",
     "text": [
      "1\n",
      "2\n",
      "3\n",
      "4\n",
      "5\n",
      "6\n",
      "7\n",
      "8\n",
      "9\n",
      "10\n",
      "11\n",
      "12\n"
     ]
    }
   ],
   "source": [
    "days = 30\n",
    "try:\n",
    "    counter = 0\n",
    "    for team in teamSNS:\n",
    "        saveposts(team[1], days)\n",
    "        counter = counter + 1\n",
    "        print(counter)\n",
    "    for player in playerSNS:\n",
    "        saveposts(player[1], days)\n",
    "        counter = counter + 1\n",
    "        print(counter)\n",
    "    counter = 0\n",
    "except tweepy.error.TweepError:\n",
    "    pass"
   ]
  },
  {
   "cell_type": "markdown",
   "metadata": {
    "colab_type": "text",
    "id": "fvBfeORPnrXm"
   },
   "source": [
    "## save tags posts"
   ]
  },
  {
   "cell_type": "code",
   "execution_count": 33,
   "metadata": {
    "colab": {
     "base_uri": "https://localhost:8080/",
     "height": 221
    },
    "colab_type": "code",
    "executionInfo": {
     "elapsed": 135156,
     "status": "ok",
     "timestamp": 1556240669630,
     "user": {
      "displayName": "Jing Wang",
      "photoUrl": "",
      "userId": "06552028597999080834"
     },
     "user_tz": 240
    },
    "id": "yTyAGutrdmPL",
    "outputId": "258aac99-daaf-4ca4-a92b-ad5296785c42",
    "scrolled": true
   },
   "outputs": [
    {
     "name": "stdout",
     "output_type": "stream",
     "text": [
      "1\n",
      "2\n",
      "3\n",
      "4\n",
      "5\n",
      "6\n",
      "7\n",
      "8\n",
      "9\n",
      "10\n",
      "11\n",
      "12\n"
     ]
    }
   ],
   "source": [
    "postscount = 100\n",
    "try:\n",
    "    counter = 0\n",
    "    for team in teamSNS:\n",
    "        saveteamhashtagposts(team[1], postscount)\n",
    "        savementionposts(team[1], postscount)\n",
    "        counter = counter + 1\n",
    "        print(counter)\n",
    "    for player in playerSNS:\n",
    "        saveplayerhashtagposts(player[1], postscount)\n",
    "        savementionposts(player[1], postscount)\n",
    "        counter = counter + 1\n",
    "        print(counter)\n",
    "    counter = 0\n",
    "except tweepy.error.TweepError:\n",
    "    pass"
   ]
  },
  {
   "cell_type": "markdown",
   "metadata": {
    "colab_type": "text",
    "id": "Y35EKf3XoLKw"
   },
   "source": [
    "# Show tables"
   ]
  },
  {
   "cell_type": "code",
   "execution_count": 34,
   "metadata": {
    "colab": {
     "base_uri": "https://localhost:8080/",
     "height": 204
    },
    "colab_type": "code",
    "executionInfo": {
     "elapsed": 135147,
     "status": "ok",
     "timestamp": 1556240669631,
     "user": {
      "displayName": "Jing Wang",
      "photoUrl": "",
      "userId": "06552028597999080834"
     },
     "user_tz": 240
    },
    "id": "u4kATJr6dmPR",
    "outputId": "e88d8b3f-0a7d-4e11-e7b0-90d9b95d19bf"
   },
   "outputs": [
    {
     "data": {
      "text/html": [
       "<div>\n",
       "<style scoped>\n",
       "    .dataframe tbody tr th:only-of-type {\n",
       "        vertical-align: middle;\n",
       "    }\n",
       "\n",
       "    .dataframe tbody tr th {\n",
       "        vertical-align: top;\n",
       "    }\n",
       "\n",
       "    .dataframe thead th {\n",
       "        text-align: right;\n",
       "    }\n",
       "</style>\n",
       "<table border=\"1\" class=\"dataframe\">\n",
       "  <thead>\n",
       "    <tr style=\"text-align: right;\">\n",
       "      <th></th>\n",
       "      <th>personID</th>\n",
       "    </tr>\n",
       "  </thead>\n",
       "  <tbody>\n",
       "    <tr>\n",
       "      <th>1</th>\n",
       "      <td>1</td>\n",
       "    </tr>\n",
       "    <tr>\n",
       "      <th>2</th>\n",
       "      <td>2</td>\n",
       "    </tr>\n",
       "    <tr>\n",
       "      <th>3</th>\n",
       "      <td>3</td>\n",
       "    </tr>\n",
       "    <tr>\n",
       "      <th>4</th>\n",
       "      <td>4</td>\n",
       "    </tr>\n",
       "    <tr>\n",
       "      <th>5</th>\n",
       "      <td>5</td>\n",
       "    </tr>\n",
       "  </tbody>\n",
       "</table>\n",
       "</div>"
      ],
      "text/plain": [
       "  personID\n",
       "1        1\n",
       "2        2\n",
       "3        3\n",
       "4        4\n",
       "5        5"
      ]
     },
     "execution_count": 34,
     "metadata": {},
     "output_type": "execute_result"
    }
   ],
   "source": [
    "Player.head()"
   ]
  },
  {
   "cell_type": "code",
   "execution_count": 35,
   "metadata": {
    "colab": {
     "base_uri": "https://localhost:8080/",
     "height": 204
    },
    "colab_type": "code",
    "executionInfo": {
     "elapsed": 135134,
     "status": "ok",
     "timestamp": 1556240669632,
     "user": {
      "displayName": "Jing Wang",
      "photoUrl": "",
      "userId": "06552028597999080834"
     },
     "user_tz": 240
    },
    "id": "XdKr2JoUdmPW",
    "outputId": "782f1c2d-9269-4f2d-9050-39d287ac8a18"
   },
   "outputs": [
    {
     "data": {
      "text/html": [
       "<div>\n",
       "<style scoped>\n",
       "    .dataframe tbody tr th:only-of-type {\n",
       "        vertical-align: middle;\n",
       "    }\n",
       "\n",
       "    .dataframe tbody tr th {\n",
       "        vertical-align: top;\n",
       "    }\n",
       "\n",
       "    .dataframe thead th {\n",
       "        text-align: right;\n",
       "    }\n",
       "</style>\n",
       "<table border=\"1\" class=\"dataframe\">\n",
       "  <thead>\n",
       "    <tr style=\"text-align: right;\">\n",
       "      <th></th>\n",
       "      <th>prfID</th>\n",
       "      <th>PlayerpersonID</th>\n",
       "      <th>FanpersonID</th>\n",
       "    </tr>\n",
       "  </thead>\n",
       "  <tbody>\n",
       "    <tr>\n",
       "      <th>1</th>\n",
       "      <td>1</td>\n",
       "      <td>3</td>\n",
       "      <td>684</td>\n",
       "    </tr>\n",
       "    <tr>\n",
       "      <th>2</th>\n",
       "      <td>2</td>\n",
       "      <td>5</td>\n",
       "      <td>758</td>\n",
       "    </tr>\n",
       "    <tr>\n",
       "      <th>3</th>\n",
       "      <td>3</td>\n",
       "      <td>5</td>\n",
       "      <td>759</td>\n",
       "    </tr>\n",
       "    <tr>\n",
       "      <th>4</th>\n",
       "      <td>4</td>\n",
       "      <td>5</td>\n",
       "      <td>760</td>\n",
       "    </tr>\n",
       "    <tr>\n",
       "      <th>5</th>\n",
       "      <td>5</td>\n",
       "      <td>5</td>\n",
       "      <td>761</td>\n",
       "    </tr>\n",
       "  </tbody>\n",
       "</table>\n",
       "</div>"
      ],
      "text/plain": [
       "  prfID PlayerpersonID FanpersonID\n",
       "1     1              3         684\n",
       "2     2              5         758\n",
       "3     3              5         759\n",
       "4     4              5         760\n",
       "5     5              5         761"
      ]
     },
     "execution_count": 35,
     "metadata": {},
     "output_type": "execute_result"
    }
   ],
   "source": [
    "Player_Fan.head()"
   ]
  },
  {
   "cell_type": "code",
   "execution_count": 36,
   "metadata": {
    "colab": {
     "base_uri": "https://localhost:8080/",
     "height": 204
    },
    "colab_type": "code",
    "executionInfo": {
     "elapsed": 135114,
     "status": "ok",
     "timestamp": 1556240669632,
     "user": {
      "displayName": "Jing Wang",
      "photoUrl": "",
      "userId": "06552028597999080834"
     },
     "user_tz": 240
    },
    "id": "L91Z9fzydmPa",
    "outputId": "c8b5631c-264d-45ef-d078-f392a6c6064f"
   },
   "outputs": [
    {
     "data": {
      "text/html": [
       "<div>\n",
       "<style scoped>\n",
       "    .dataframe tbody tr th:only-of-type {\n",
       "        vertical-align: middle;\n",
       "    }\n",
       "\n",
       "    .dataframe tbody tr th {\n",
       "        vertical-align: top;\n",
       "    }\n",
       "\n",
       "    .dataframe thead th {\n",
       "        text-align: right;\n",
       "    }\n",
       "</style>\n",
       "<table border=\"1\" class=\"dataframe\">\n",
       "  <thead>\n",
       "    <tr style=\"text-align: right;\">\n",
       "      <th></th>\n",
       "      <th>personID</th>\n",
       "    </tr>\n",
       "  </thead>\n",
       "  <tbody>\n",
       "    <tr>\n",
       "      <th>1</th>\n",
       "      <td>10</td>\n",
       "    </tr>\n",
       "    <tr>\n",
       "      <th>2</th>\n",
       "      <td>11</td>\n",
       "    </tr>\n",
       "    <tr>\n",
       "      <th>3</th>\n",
       "      <td>12</td>\n",
       "    </tr>\n",
       "    <tr>\n",
       "      <th>4</th>\n",
       "      <td>13</td>\n",
       "    </tr>\n",
       "    <tr>\n",
       "      <th>5</th>\n",
       "      <td>14</td>\n",
       "    </tr>\n",
       "  </tbody>\n",
       "</table>\n",
       "</div>"
      ],
      "text/plain": [
       "  personID\n",
       "1       10\n",
       "2       11\n",
       "3       12\n",
       "4       13\n",
       "5       14"
      ]
     },
     "execution_count": 36,
     "metadata": {},
     "output_type": "execute_result"
    }
   ],
   "source": [
    "Fan.head()"
   ]
  },
  {
   "cell_type": "code",
   "execution_count": 37,
   "metadata": {
    "colab": {
     "base_uri": "https://localhost:8080/",
     "height": 204
    },
    "colab_type": "code",
    "executionInfo": {
     "elapsed": 135105,
     "status": "ok",
     "timestamp": 1556240669633,
     "user": {
      "displayName": "Jing Wang",
      "photoUrl": "",
      "userId": "06552028597999080834"
     },
     "user_tz": 240
    },
    "id": "LDZfCQLFdmPe",
    "outputId": "99a5848c-3a1c-4679-e074-a7a828f243a6"
   },
   "outputs": [
    {
     "data": {
      "text/html": [
       "<div>\n",
       "<style scoped>\n",
       "    .dataframe tbody tr th:only-of-type {\n",
       "        vertical-align: middle;\n",
       "    }\n",
       "\n",
       "    .dataframe tbody tr th {\n",
       "        vertical-align: top;\n",
       "    }\n",
       "\n",
       "    .dataframe thead th {\n",
       "        text-align: right;\n",
       "    }\n",
       "</style>\n",
       "<table border=\"1\" class=\"dataframe\">\n",
       "  <thead>\n",
       "    <tr style=\"text-align: right;\">\n",
       "      <th></th>\n",
       "      <th>frtID</th>\n",
       "      <th>FanpersonID</th>\n",
       "      <th>TeamteamID</th>\n",
       "    </tr>\n",
       "  </thead>\n",
       "  <tbody>\n",
       "    <tr>\n",
       "      <th>1</th>\n",
       "      <td>1</td>\n",
       "      <td>10</td>\n",
       "      <td>1</td>\n",
       "    </tr>\n",
       "    <tr>\n",
       "      <th>2</th>\n",
       "      <td>2</td>\n",
       "      <td>11</td>\n",
       "      <td>1</td>\n",
       "    </tr>\n",
       "    <tr>\n",
       "      <th>3</th>\n",
       "      <td>3</td>\n",
       "      <td>12</td>\n",
       "      <td>1</td>\n",
       "    </tr>\n",
       "    <tr>\n",
       "      <th>4</th>\n",
       "      <td>4</td>\n",
       "      <td>13</td>\n",
       "      <td>1</td>\n",
       "    </tr>\n",
       "    <tr>\n",
       "      <th>5</th>\n",
       "      <td>5</td>\n",
       "      <td>14</td>\n",
       "      <td>1</td>\n",
       "    </tr>\n",
       "  </tbody>\n",
       "</table>\n",
       "</div>"
      ],
      "text/plain": [
       "  frtID FanpersonID TeamteamID\n",
       "1     1          10          1\n",
       "2     2          11          1\n",
       "3     3          12          1\n",
       "4     4          13          1\n",
       "5     5          14          1"
      ]
     },
     "execution_count": 37,
     "metadata": {},
     "output_type": "execute_result"
    }
   ],
   "source": [
    "Fan_Team.head()"
   ]
  },
  {
   "cell_type": "code",
   "execution_count": 38,
   "metadata": {
    "colab": {
     "base_uri": "https://localhost:8080/",
     "height": 204
    },
    "colab_type": "code",
    "executionInfo": {
     "elapsed": 135100,
     "status": "ok",
     "timestamp": 1556240669636,
     "user": {
      "displayName": "Jing Wang",
      "photoUrl": "",
      "userId": "06552028597999080834"
     },
     "user_tz": 240
    },
    "id": "r6sSDzVHdmPj",
    "outputId": "8ef9f229-e7e2-4bc2-eb7e-bf5b08e19e01"
   },
   "outputs": [
    {
     "data": {
      "text/html": [
       "<div>\n",
       "<style scoped>\n",
       "    .dataframe tbody tr th:only-of-type {\n",
       "        vertical-align: middle;\n",
       "    }\n",
       "\n",
       "    .dataframe tbody tr th {\n",
       "        vertical-align: top;\n",
       "    }\n",
       "\n",
       "    .dataframe thead th {\n",
       "        text-align: right;\n",
       "    }\n",
       "</style>\n",
       "<table border=\"1\" class=\"dataframe\">\n",
       "  <thead>\n",
       "    <tr style=\"text-align: right;\">\n",
       "      <th></th>\n",
       "      <th>personID</th>\n",
       "      <th>personName</th>\n",
       "      <th>locationID</th>\n",
       "    </tr>\n",
       "  </thead>\n",
       "  <tbody>\n",
       "    <tr>\n",
       "      <th>1</th>\n",
       "      <td>1</td>\n",
       "      <td>Alexander David Bregman</td>\n",
       "      <td>4</td>\n",
       "    </tr>\n",
       "    <tr>\n",
       "      <th>2</th>\n",
       "      <td>2</td>\n",
       "      <td>Carlos Javier Correa</td>\n",
       "      <td>5</td>\n",
       "    </tr>\n",
       "    <tr>\n",
       "      <th>3</th>\n",
       "      <td>3</td>\n",
       "      <td>José Carlos Altuve</td>\n",
       "      <td>5</td>\n",
       "    </tr>\n",
       "    <tr>\n",
       "      <th>4</th>\n",
       "      <td>4</td>\n",
       "      <td>Nicholas A. Castellanos</td>\n",
       "      <td>6</td>\n",
       "    </tr>\n",
       "    <tr>\n",
       "      <th>5</th>\n",
       "      <td>5</td>\n",
       "      <td>Jose Miguel Cabrera</td>\n",
       "      <td>7</td>\n",
       "    </tr>\n",
       "  </tbody>\n",
       "</table>\n",
       "</div>"
      ],
      "text/plain": [
       "  personID               personName locationID\n",
       "1        1  Alexander David Bregman          4\n",
       "2        2     Carlos Javier Correa          5\n",
       "3        3       José Carlos Altuve          5\n",
       "4        4  Nicholas A. Castellanos          6\n",
       "5        5      Jose Miguel Cabrera          7"
      ]
     },
     "execution_count": 38,
     "metadata": {},
     "output_type": "execute_result"
    }
   ],
   "source": [
    "Person.head()"
   ]
  },
  {
   "cell_type": "code",
   "execution_count": 39,
   "metadata": {
    "colab": {
     "base_uri": "https://localhost:8080/",
     "height": 142
    },
    "colab_type": "code",
    "executionInfo": {
     "elapsed": 135094,
     "status": "ok",
     "timestamp": 1556240669637,
     "user": {
      "displayName": "Jing Wang",
      "photoUrl": "",
      "userId": "06552028597999080834"
     },
     "user_tz": 240
    },
    "id": "qBNdVXFzdmPo",
    "outputId": "7805774f-3825-43bf-9b6e-1a0c4c2f3d9e"
   },
   "outputs": [
    {
     "data": {
      "text/html": [
       "<div>\n",
       "<style scoped>\n",
       "    .dataframe tbody tr th:only-of-type {\n",
       "        vertical-align: middle;\n",
       "    }\n",
       "\n",
       "    .dataframe tbody tr th {\n",
       "        vertical-align: top;\n",
       "    }\n",
       "\n",
       "    .dataframe thead th {\n",
       "        text-align: right;\n",
       "    }\n",
       "</style>\n",
       "<table border=\"1\" class=\"dataframe\">\n",
       "  <thead>\n",
       "    <tr style=\"text-align: right;\">\n",
       "      <th></th>\n",
       "      <th>teamID</th>\n",
       "      <th>teamName</th>\n",
       "      <th>locationID</th>\n",
       "    </tr>\n",
       "  </thead>\n",
       "  <tbody>\n",
       "    <tr>\n",
       "      <th>1</th>\n",
       "      <td>1</td>\n",
       "      <td>Houston Astros</td>\n",
       "      <td>1</td>\n",
       "    </tr>\n",
       "    <tr>\n",
       "      <th>2</th>\n",
       "      <td>2</td>\n",
       "      <td>Detroit Tigers</td>\n",
       "      <td>2</td>\n",
       "    </tr>\n",
       "    <tr>\n",
       "      <th>3</th>\n",
       "      <td>3</td>\n",
       "      <td>Texas Rangers</td>\n",
       "      <td>3</td>\n",
       "    </tr>\n",
       "  </tbody>\n",
       "</table>\n",
       "</div>"
      ],
      "text/plain": [
       "  teamID        teamName locationID\n",
       "1      1  Houston Astros          1\n",
       "2      2  Detroit Tigers          2\n",
       "3      3   Texas Rangers          3"
      ]
     },
     "execution_count": 39,
     "metadata": {},
     "output_type": "execute_result"
    }
   ],
   "source": [
    "Team.head()"
   ]
  },
  {
   "cell_type": "code",
   "execution_count": 40,
   "metadata": {
    "colab": {
     "base_uri": "https://localhost:8080/",
     "height": 204
    },
    "colab_type": "code",
    "executionInfo": {
     "elapsed": 135276,
     "status": "ok",
     "timestamp": 1556240669826,
     "user": {
      "displayName": "Jing Wang",
      "photoUrl": "",
      "userId": "06552028597999080834"
     },
     "user_tz": 240
    },
    "id": "SOHXuoekdmPt",
    "outputId": "01af63b3-50d1-48ef-da38-613f0724c8ef"
   },
   "outputs": [
    {
     "data": {
      "text/html": [
       "<div>\n",
       "<style scoped>\n",
       "    .dataframe tbody tr th:only-of-type {\n",
       "        vertical-align: middle;\n",
       "    }\n",
       "\n",
       "    .dataframe tbody tr th {\n",
       "        vertical-align: top;\n",
       "    }\n",
       "\n",
       "    .dataframe thead th {\n",
       "        text-align: right;\n",
       "    }\n",
       "</style>\n",
       "<table border=\"1\" class=\"dataframe\">\n",
       "  <thead>\n",
       "    <tr style=\"text-align: right;\">\n",
       "      <th></th>\n",
       "      <th>prsID</th>\n",
       "      <th>PersonpersonID</th>\n",
       "      <th>SNSUserSNSUserID</th>\n",
       "    </tr>\n",
       "  </thead>\n",
       "  <tbody>\n",
       "    <tr>\n",
       "      <th>1</th>\n",
       "      <td>1</td>\n",
       "      <td>1</td>\n",
       "      <td>4</td>\n",
       "    </tr>\n",
       "    <tr>\n",
       "      <th>2</th>\n",
       "      <td>2</td>\n",
       "      <td>2</td>\n",
       "      <td>5</td>\n",
       "    </tr>\n",
       "    <tr>\n",
       "      <th>3</th>\n",
       "      <td>3</td>\n",
       "      <td>3</td>\n",
       "      <td>6</td>\n",
       "    </tr>\n",
       "    <tr>\n",
       "      <th>4</th>\n",
       "      <td>4</td>\n",
       "      <td>4</td>\n",
       "      <td>7</td>\n",
       "    </tr>\n",
       "    <tr>\n",
       "      <th>5</th>\n",
       "      <td>5</td>\n",
       "      <td>5</td>\n",
       "      <td>8</td>\n",
       "    </tr>\n",
       "  </tbody>\n",
       "</table>\n",
       "</div>"
      ],
      "text/plain": [
       "  prsID PersonpersonID SNSUserSNSUserID\n",
       "1     1              1                4\n",
       "2     2              2                5\n",
       "3     3              3                6\n",
       "4     4              4                7\n",
       "5     5              5                8"
      ]
     },
     "execution_count": 40,
     "metadata": {},
     "output_type": "execute_result"
    }
   ],
   "source": [
    "Person_SNSUser.head()"
   ]
  },
  {
   "cell_type": "code",
   "execution_count": 41,
   "metadata": {
    "colab": {
     "base_uri": "https://localhost:8080/",
     "height": 204
    },
    "colab_type": "code",
    "executionInfo": {
     "elapsed": 135270,
     "status": "ok",
     "timestamp": 1556240669827,
     "user": {
      "displayName": "Jing Wang",
      "photoUrl": "",
      "userId": "06552028597999080834"
     },
     "user_tz": 240
    },
    "id": "An0JbfksdmPx",
    "outputId": "4896a8e0-9f81-43d2-aca2-f8a99482b316"
   },
   "outputs": [
    {
     "data": {
      "text/html": [
       "<div>\n",
       "<style scoped>\n",
       "    .dataframe tbody tr th:only-of-type {\n",
       "        vertical-align: middle;\n",
       "    }\n",
       "\n",
       "    .dataframe tbody tr th {\n",
       "        vertical-align: top;\n",
       "    }\n",
       "\n",
       "    .dataframe thead th {\n",
       "        text-align: right;\n",
       "    }\n",
       "</style>\n",
       "<table border=\"1\" class=\"dataframe\">\n",
       "  <thead>\n",
       "    <tr style=\"text-align: right;\">\n",
       "      <th></th>\n",
       "      <th>locationID</th>\n",
       "      <th>locationName</th>\n",
       "    </tr>\n",
       "  </thead>\n",
       "  <tbody>\n",
       "    <tr>\n",
       "      <th>1</th>\n",
       "      <td>1</td>\n",
       "      <td>Minute Maid Park</td>\n",
       "    </tr>\n",
       "    <tr>\n",
       "      <th>2</th>\n",
       "      <td>2</td>\n",
       "      <td>Comerica Park</td>\n",
       "    </tr>\n",
       "    <tr>\n",
       "      <th>3</th>\n",
       "      <td>3</td>\n",
       "      <td>Deep in the Heart of Texas</td>\n",
       "    </tr>\n",
       "    <tr>\n",
       "      <th>4</th>\n",
       "      <td>4</td>\n",
       "      <td>Albuquerque, NM</td>\n",
       "    </tr>\n",
       "    <tr>\n",
       "      <th>5</th>\n",
       "      <td>5</td>\n",
       "      <td></td>\n",
       "    </tr>\n",
       "  </tbody>\n",
       "</table>\n",
       "</div>"
      ],
      "text/plain": [
       "  locationID                locationName\n",
       "1          1            Minute Maid Park\n",
       "2          2               Comerica Park\n",
       "3          3  Deep in the Heart of Texas\n",
       "4          4             Albuquerque, NM\n",
       "5          5                            "
      ]
     },
     "execution_count": 41,
     "metadata": {},
     "output_type": "execute_result"
    }
   ],
   "source": [
    "Location.head()"
   ]
  },
  {
   "cell_type": "code",
   "execution_count": 42,
   "metadata": {
    "colab": {
     "base_uri": "https://localhost:8080/",
     "height": 142
    },
    "colab_type": "code",
    "executionInfo": {
     "elapsed": 135254,
     "status": "ok",
     "timestamp": 1556240669828,
     "user": {
      "displayName": "Jing Wang",
      "photoUrl": "",
      "userId": "06552028597999080834"
     },
     "user_tz": 240
    },
    "id": "ECFBuTlhdmP2",
    "outputId": "c1245444-20ea-4a6c-faaa-b4974eb1112b"
   },
   "outputs": [
    {
     "data": {
      "text/html": [
       "<div>\n",
       "<style scoped>\n",
       "    .dataframe tbody tr th:only-of-type {\n",
       "        vertical-align: middle;\n",
       "    }\n",
       "\n",
       "    .dataframe tbody tr th {\n",
       "        vertical-align: top;\n",
       "    }\n",
       "\n",
       "    .dataframe thead th {\n",
       "        text-align: right;\n",
       "    }\n",
       "</style>\n",
       "<table border=\"1\" class=\"dataframe\">\n",
       "  <thead>\n",
       "    <tr style=\"text-align: right;\">\n",
       "      <th></th>\n",
       "      <th>trsID</th>\n",
       "      <th>TeamteamID</th>\n",
       "      <th>SNSUserSNSUserID</th>\n",
       "    </tr>\n",
       "  </thead>\n",
       "  <tbody>\n",
       "    <tr>\n",
       "      <th>1</th>\n",
       "      <td>1</td>\n",
       "      <td>1</td>\n",
       "      <td>1</td>\n",
       "    </tr>\n",
       "    <tr>\n",
       "      <th>2</th>\n",
       "      <td>2</td>\n",
       "      <td>2</td>\n",
       "      <td>2</td>\n",
       "    </tr>\n",
       "    <tr>\n",
       "      <th>3</th>\n",
       "      <td>3</td>\n",
       "      <td>3</td>\n",
       "      <td>3</td>\n",
       "    </tr>\n",
       "  </tbody>\n",
       "</table>\n",
       "</div>"
      ],
      "text/plain": [
       "  trsID TeamteamID SNSUserSNSUserID\n",
       "1     1          1                1\n",
       "2     2          2                2\n",
       "3     3          3                3"
      ]
     },
     "execution_count": 42,
     "metadata": {},
     "output_type": "execute_result"
    }
   ],
   "source": [
    "Team_SNSUser.head()"
   ]
  },
  {
   "cell_type": "code",
   "execution_count": 43,
   "metadata": {
    "colab": {
     "base_uri": "https://localhost:8080/",
     "height": 204
    },
    "colab_type": "code",
    "executionInfo": {
     "elapsed": 135247,
     "status": "ok",
     "timestamp": 1556240669829,
     "user": {
      "displayName": "Jing Wang",
      "photoUrl": "",
      "userId": "06552028597999080834"
     },
     "user_tz": 240
    },
    "id": "P-O2tdGZdmP5",
    "outputId": "a97f77e8-5206-4819-8a15-9f0b0f152c50"
   },
   "outputs": [
    {
     "data": {
      "text/html": [
       "<div>\n",
       "<style scoped>\n",
       "    .dataframe tbody tr th:only-of-type {\n",
       "        vertical-align: middle;\n",
       "    }\n",
       "\n",
       "    .dataframe tbody tr th {\n",
       "        vertical-align: top;\n",
       "    }\n",
       "\n",
       "    .dataframe thead th {\n",
       "        text-align: right;\n",
       "    }\n",
       "</style>\n",
       "<table border=\"1\" class=\"dataframe\">\n",
       "  <thead>\n",
       "    <tr style=\"text-align: right;\">\n",
       "      <th></th>\n",
       "      <th>SNSUserID</th>\n",
       "      <th>SNSType</th>\n",
       "      <th>accountID</th>\n",
       "      <th>userName</th>\n",
       "      <th>followersCount</th>\n",
       "      <th>postsCount</th>\n",
       "    </tr>\n",
       "  </thead>\n",
       "  <tbody>\n",
       "    <tr>\n",
       "      <th>1</th>\n",
       "      <td>1</td>\n",
       "      <td>Twitter</td>\n",
       "      <td>52803520</td>\n",
       "      <td>astros</td>\n",
       "      <td>1455653</td>\n",
       "      <td>72000</td>\n",
       "    </tr>\n",
       "    <tr>\n",
       "      <th>2</th>\n",
       "      <td>2</td>\n",
       "      <td>Twitter</td>\n",
       "      <td>30008146</td>\n",
       "      <td>tigers</td>\n",
       "      <td>1453071</td>\n",
       "      <td>49251</td>\n",
       "    </tr>\n",
       "    <tr>\n",
       "      <th>3</th>\n",
       "      <td>3</td>\n",
       "      <td>Twitter</td>\n",
       "      <td>40931019</td>\n",
       "      <td>Rangers</td>\n",
       "      <td>1426982</td>\n",
       "      <td>43627</td>\n",
       "    </tr>\n",
       "    <tr>\n",
       "      <th>4</th>\n",
       "      <td>4</td>\n",
       "      <td>Twitter</td>\n",
       "      <td>382708289</td>\n",
       "      <td>ABREG_1</td>\n",
       "      <td>242213</td>\n",
       "      <td>7895</td>\n",
       "    </tr>\n",
       "    <tr>\n",
       "      <th>5</th>\n",
       "      <td>5</td>\n",
       "      <td>Twitter</td>\n",
       "      <td>2811330143</td>\n",
       "      <td>TeamCJCorrea</td>\n",
       "      <td>221551</td>\n",
       "      <td>740</td>\n",
       "    </tr>\n",
       "  </tbody>\n",
       "</table>\n",
       "</div>"
      ],
      "text/plain": [
       "  SNSUserID  SNSType   accountID      userName followersCount postsCount\n",
       "1         1  Twitter    52803520        astros        1455653      72000\n",
       "2         2  Twitter    30008146        tigers        1453071      49251\n",
       "3         3  Twitter    40931019       Rangers        1426982      43627\n",
       "4         4  Twitter   382708289       ABREG_1         242213       7895\n",
       "5         5  Twitter  2811330143  TeamCJCorrea         221551        740"
      ]
     },
     "execution_count": 43,
     "metadata": {},
     "output_type": "execute_result"
    }
   ],
   "source": [
    "SNSUser.head()"
   ]
  },
  {
   "cell_type": "code",
   "execution_count": 44,
   "metadata": {
    "colab": {
     "base_uri": "https://localhost:8080/",
     "height": 204
    },
    "colab_type": "code",
    "executionInfo": {
     "elapsed": 135241,
     "status": "ok",
     "timestamp": 1556240669830,
     "user": {
      "displayName": "Jing Wang",
      "photoUrl": "",
      "userId": "06552028597999080834"
     },
     "user_tz": 240
    },
    "id": "eOHjVq0GdmP9",
    "outputId": "a5487721-269f-4b07-86fd-a7d9cfe614f2",
    "scrolled": true
   },
   "outputs": [
    {
     "data": {
      "text/html": [
       "<div>\n",
       "<style scoped>\n",
       "    .dataframe tbody tr th:only-of-type {\n",
       "        vertical-align: middle;\n",
       "    }\n",
       "\n",
       "    .dataframe tbody tr th {\n",
       "        vertical-align: top;\n",
       "    }\n",
       "\n",
       "    .dataframe thead th {\n",
       "        text-align: right;\n",
       "    }\n",
       "</style>\n",
       "<table border=\"1\" class=\"dataframe\">\n",
       "  <thead>\n",
       "    <tr style=\"text-align: right;\">\n",
       "      <th></th>\n",
       "      <th>SNSpostID</th>\n",
       "      <th>postID</th>\n",
       "      <th>SNSUserID</th>\n",
       "      <th>content</th>\n",
       "      <th>favoriteCount</th>\n",
       "      <th>createdTime</th>\n",
       "    </tr>\n",
       "  </thead>\n",
       "  <tbody>\n",
       "    <tr>\n",
       "      <th>1</th>\n",
       "      <td>1</td>\n",
       "      <td>1121607683507810304</td>\n",
       "      <td>1</td>\n",
       "      <td>Final: Indians 2, #Astros 1</td>\n",
       "      <td>111</td>\n",
       "      <td>2019-04-26 02:51:24</td>\n",
       "    </tr>\n",
       "    <tr>\n",
       "      <th>2</th>\n",
       "      <td>2</td>\n",
       "      <td>1121598945145147392</td>\n",
       "      <td>1</td>\n",
       "      <td>We know you'd like this in your living room. \\...</td>\n",
       "      <td>1068</td>\n",
       "      <td>2019-04-26 02:16:41</td>\n",
       "    </tr>\n",
       "    <tr>\n",
       "      <th>3</th>\n",
       "      <td>3</td>\n",
       "      <td>1121582532955230208</td>\n",
       "      <td>1</td>\n",
       "      <td>Hang it, then bang it. 💥\\n\\nWe're all square! ...</td>\n",
       "      <td>2829</td>\n",
       "      <td>2019-04-26 01:11:28</td>\n",
       "    </tr>\n",
       "    <tr>\n",
       "      <th>4</th>\n",
       "      <td>4</td>\n",
       "      <td>1121579802551435264</td>\n",
       "      <td>1</td>\n",
       "      <td>George doesn't look too frustrated anymore.\\n\\...</td>\n",
       "      <td>1453</td>\n",
       "      <td>2019-04-26 01:00:37</td>\n",
       "    </tr>\n",
       "    <tr>\n",
       "      <th>5</th>\n",
       "      <td>5</td>\n",
       "      <td>1121575278755471360</td>\n",
       "      <td>1</td>\n",
       "      <td>Special message from the @Indians to Uncle Mik...</td>\n",
       "      <td>623</td>\n",
       "      <td>2019-04-26 00:42:38</td>\n",
       "    </tr>\n",
       "  </tbody>\n",
       "</table>\n",
       "</div>"
      ],
      "text/plain": [
       "  SNSpostID               postID SNSUserID  \\\n",
       "1         1  1121607683507810304         1   \n",
       "2         2  1121598945145147392         1   \n",
       "3         3  1121582532955230208         1   \n",
       "4         4  1121579802551435264         1   \n",
       "5         5  1121575278755471360         1   \n",
       "\n",
       "                                             content favoriteCount  \\\n",
       "1                        Final: Indians 2, #Astros 1           111   \n",
       "2  We know you'd like this in your living room. \\...          1068   \n",
       "3  Hang it, then bang it. 💥\\n\\nWe're all square! ...          2829   \n",
       "4  George doesn't look too frustrated anymore.\\n\\...          1453   \n",
       "5  Special message from the @Indians to Uncle Mik...           623   \n",
       "\n",
       "          createdTime  \n",
       "1 2019-04-26 02:51:24  \n",
       "2 2019-04-26 02:16:41  \n",
       "3 2019-04-26 01:11:28  \n",
       "4 2019-04-26 01:00:37  \n",
       "5 2019-04-26 00:42:38  "
      ]
     },
     "execution_count": 44,
     "metadata": {},
     "output_type": "execute_result"
    }
   ],
   "source": [
    "Post.head()"
   ]
  },
  {
   "cell_type": "code",
   "execution_count": 45,
   "metadata": {
    "colab": {
     "base_uri": "https://localhost:8080/",
     "height": 204
    },
    "colab_type": "code",
    "executionInfo": {
     "elapsed": 135234,
     "status": "ok",
     "timestamp": 1556240669830,
     "user": {
      "displayName": "Jing Wang",
      "photoUrl": "",
      "userId": "06552028597999080834"
     },
     "user_tz": 240
    },
    "id": "Vp-RT6E-dmQC",
    "outputId": "27332c3b-c33e-47e7-ae2b-42f7651b2f16"
   },
   "outputs": [
    {
     "data": {
      "text/html": [
       "<div>\n",
       "<style scoped>\n",
       "    .dataframe tbody tr th:only-of-type {\n",
       "        vertical-align: middle;\n",
       "    }\n",
       "\n",
       "    .dataframe tbody tr th {\n",
       "        vertical-align: top;\n",
       "    }\n",
       "\n",
       "    .dataframe thead th {\n",
       "        text-align: right;\n",
       "    }\n",
       "</style>\n",
       "<table border=\"1\" class=\"dataframe\">\n",
       "  <thead>\n",
       "    <tr style=\"text-align: right;\">\n",
       "      <th></th>\n",
       "      <th>prtID</th>\n",
       "      <th>PostSNSpostID</th>\n",
       "      <th>TagTagID</th>\n",
       "    </tr>\n",
       "  </thead>\n",
       "  <tbody>\n",
       "    <tr>\n",
       "      <th>1</th>\n",
       "      <td>1</td>\n",
       "      <td>1</td>\n",
       "      <td>1</td>\n",
       "    </tr>\n",
       "    <tr>\n",
       "      <th>2</th>\n",
       "      <td>2</td>\n",
       "      <td>2</td>\n",
       "      <td>2</td>\n",
       "    </tr>\n",
       "    <tr>\n",
       "      <th>3</th>\n",
       "      <td>3</td>\n",
       "      <td>3</td>\n",
       "      <td>2</td>\n",
       "    </tr>\n",
       "    <tr>\n",
       "      <th>4</th>\n",
       "      <td>4</td>\n",
       "      <td>4</td>\n",
       "      <td>2</td>\n",
       "    </tr>\n",
       "    <tr>\n",
       "      <th>5</th>\n",
       "      <td>5</td>\n",
       "      <td>5</td>\n",
       "      <td>2</td>\n",
       "    </tr>\n",
       "  </tbody>\n",
       "</table>\n",
       "</div>"
      ],
      "text/plain": [
       "  prtID PostSNSpostID TagTagID\n",
       "1     1             1        1\n",
       "2     2             2        2\n",
       "3     3             3        2\n",
       "4     4             4        2\n",
       "5     5             5        2"
      ]
     },
     "execution_count": 45,
     "metadata": {},
     "output_type": "execute_result"
    }
   ],
   "source": [
    "Post_Tag.head()"
   ]
  },
  {
   "cell_type": "code",
   "execution_count": 46,
   "metadata": {
    "colab": {
     "base_uri": "https://localhost:8080/",
     "height": 204
    },
    "colab_type": "code",
    "executionInfo": {
     "elapsed": 135230,
     "status": "ok",
     "timestamp": 1556240669832,
     "user": {
      "displayName": "Jing Wang",
      "photoUrl": "",
      "userId": "06552028597999080834"
     },
     "user_tz": 240
    },
    "id": "wPqkkgVTdmQH",
    "outputId": "7539e22d-b370-4360-be45-d9d5eeb41751"
   },
   "outputs": [
    {
     "data": {
      "text/html": [
       "<div>\n",
       "<style scoped>\n",
       "    .dataframe tbody tr th:only-of-type {\n",
       "        vertical-align: middle;\n",
       "    }\n",
       "\n",
       "    .dataframe tbody tr th {\n",
       "        vertical-align: top;\n",
       "    }\n",
       "\n",
       "    .dataframe thead th {\n",
       "        text-align: right;\n",
       "    }\n",
       "</style>\n",
       "<table border=\"1\" class=\"dataframe\">\n",
       "  <thead>\n",
       "    <tr style=\"text-align: right;\">\n",
       "      <th></th>\n",
       "      <th>tagID</th>\n",
       "      <th>tagText</th>\n",
       "      <th>tagType</th>\n",
       "    </tr>\n",
       "  </thead>\n",
       "  <tbody>\n",
       "    <tr>\n",
       "      <th>1</th>\n",
       "      <td>1</td>\n",
       "      <td>Astros</td>\n",
       "      <td>hashtag</td>\n",
       "    </tr>\n",
       "    <tr>\n",
       "      <th>2</th>\n",
       "      <td>2</td>\n",
       "      <td>TakeItBack</td>\n",
       "      <td>hashtag</td>\n",
       "    </tr>\n",
       "    <tr>\n",
       "      <th>3</th>\n",
       "      <td>3</td>\n",
       "      <td>Indians</td>\n",
       "      <td>mention</td>\n",
       "    </tr>\n",
       "    <tr>\n",
       "      <th>4</th>\n",
       "      <td>4</td>\n",
       "      <td>ABREG_1</td>\n",
       "      <td>mention</td>\n",
       "    </tr>\n",
       "    <tr>\n",
       "      <th>5</th>\n",
       "      <td>5</td>\n",
       "      <td>ATTSportsNetSW</td>\n",
       "      <td>mention</td>\n",
       "    </tr>\n",
       "  </tbody>\n",
       "</table>\n",
       "</div>"
      ],
      "text/plain": [
       "  tagID         tagText  tagType\n",
       "1     1          Astros  hashtag\n",
       "2     2      TakeItBack  hashtag\n",
       "3     3         Indians  mention\n",
       "4     4         ABREG_1  mention\n",
       "5     5  ATTSportsNetSW  mention"
      ]
     },
     "execution_count": 46,
     "metadata": {},
     "output_type": "execute_result"
    }
   ],
   "source": [
    "Tag.head()"
   ]
  },
  {
   "cell_type": "code",
   "execution_count": 47,
   "metadata": {
    "colab": {
     "base_uri": "https://localhost:8080/",
     "height": 49
    },
    "colab_type": "code",
    "executionInfo": {
     "elapsed": 135224,
     "status": "ok",
     "timestamp": 1556240669833,
     "user": {
      "displayName": "Jing Wang",
      "photoUrl": "",
      "userId": "06552028597999080834"
     },
     "user_tz": 240
    },
    "id": "RmP8PibwdmQL",
    "outputId": "f4a89b9d-c281-4c83-c2db-40ea5cf3f9cb"
   },
   "outputs": [
    {
     "data": {
      "text/html": [
       "<div>\n",
       "<style scoped>\n",
       "    .dataframe tbody tr th:only-of-type {\n",
       "        vertical-align: middle;\n",
       "    }\n",
       "\n",
       "    .dataframe tbody tr th {\n",
       "        vertical-align: top;\n",
       "    }\n",
       "\n",
       "    .dataframe thead th {\n",
       "        text-align: right;\n",
       "    }\n",
       "</style>\n",
       "<table border=\"1\" class=\"dataframe\">\n",
       "  <thead>\n",
       "    <tr style=\"text-align: right;\">\n",
       "      <th></th>\n",
       "      <th>tagID</th>\n",
       "    </tr>\n",
       "  </thead>\n",
       "  <tbody>\n",
       "  </tbody>\n",
       "</table>\n",
       "</div>"
      ],
      "text/plain": [
       "Empty DataFrame\n",
       "Columns: [tagID]\n",
       "Index: []"
      ]
     },
     "execution_count": 47,
     "metadata": {},
     "output_type": "execute_result"
    }
   ],
   "source": [
    "DomainTag.head()"
   ]
  },
  {
   "cell_type": "code",
   "execution_count": 48,
   "metadata": {
    "colab": {
     "base_uri": "https://localhost:8080/",
     "height": 49
    },
    "colab_type": "code",
    "executionInfo": {
     "elapsed": 135214,
     "status": "ok",
     "timestamp": 1556240669834,
     "user": {
      "displayName": "Jing Wang",
      "photoUrl": "",
      "userId": "06552028597999080834"
     },
     "user_tz": 240
    },
    "id": "SIH_qD2tdmQQ",
    "outputId": "ab2bac2f-b95b-44e3-af16-09261b1a4197"
   },
   "outputs": [
    {
     "data": {
      "text/html": [
       "<div>\n",
       "<style scoped>\n",
       "    .dataframe tbody tr th:only-of-type {\n",
       "        vertical-align: middle;\n",
       "    }\n",
       "\n",
       "    .dataframe tbody tr th {\n",
       "        vertical-align: top;\n",
       "    }\n",
       "\n",
       "    .dataframe thead th {\n",
       "        text-align: right;\n",
       "    }\n",
       "</style>\n",
       "<table border=\"1\" class=\"dataframe\">\n",
       "  <thead>\n",
       "    <tr style=\"text-align: right;\">\n",
       "      <th></th>\n",
       "      <th>tagID1</th>\n",
       "      <th>tagID2</th>\n",
       "    </tr>\n",
       "  </thead>\n",
       "  <tbody>\n",
       "  </tbody>\n",
       "</table>\n",
       "</div>"
      ],
      "text/plain": [
       "Empty DataFrame\n",
       "Columns: [tagID1, tagID2]\n",
       "Index: []"
      ]
     },
     "execution_count": 48,
     "metadata": {},
     "output_type": "execute_result"
    }
   ],
   "source": [
    "SynonymsTag.head()"
   ]
  },
  {
   "cell_type": "code",
   "execution_count": 49,
   "metadata": {
    "colab": {
     "base_uri": "https://localhost:8080/",
     "height": 49
    },
    "colab_type": "code",
    "executionInfo": {
     "elapsed": 135206,
     "status": "ok",
     "timestamp": 1556240669835,
     "user": {
      "displayName": "Jing Wang",
      "photoUrl": "",
      "userId": "06552028597999080834"
     },
     "user_tz": 240
    },
    "id": "OuKRuwcFdmQX",
    "outputId": "fa82ae95-90a1-4273-a9e4-e7e607153698"
   },
   "outputs": [
    {
     "data": {
      "text/html": [
       "<div>\n",
       "<style scoped>\n",
       "    .dataframe tbody tr th:only-of-type {\n",
       "        vertical-align: middle;\n",
       "    }\n",
       "\n",
       "    .dataframe tbody tr th {\n",
       "        vertical-align: top;\n",
       "    }\n",
       "\n",
       "    .dataframe thead th {\n",
       "        text-align: right;\n",
       "    }\n",
       "</style>\n",
       "<table border=\"1\" class=\"dataframe\">\n",
       "  <thead>\n",
       "    <tr style=\"text-align: right;\">\n",
       "      <th></th>\n",
       "      <th>tagID1</th>\n",
       "      <th>tagID2</th>\n",
       "    </tr>\n",
       "  </thead>\n",
       "  <tbody>\n",
       "  </tbody>\n",
       "</table>\n",
       "</div>"
      ],
      "text/plain": [
       "Empty DataFrame\n",
       "Columns: [tagID1, tagID2]\n",
       "Index: []"
      ]
     },
     "execution_count": 49,
     "metadata": {},
     "output_type": "execute_result"
    }
   ],
   "source": [
    "MisspellingsTag.head()"
   ]
  },
  {
   "cell_type": "code",
   "execution_count": 50,
   "metadata": {
    "colab": {
     "base_uri": "https://localhost:8080/",
     "height": 49
    },
    "colab_type": "code",
    "executionInfo": {
     "elapsed": 135368,
     "status": "ok",
     "timestamp": 1556240670005,
     "user": {
      "displayName": "Jing Wang",
      "photoUrl": "",
      "userId": "06552028597999080834"
     },
     "user_tz": 240
    },
    "id": "2CO0VL1YdmQc",
    "outputId": "1e3e5102-d904-4d48-e824-e881b0d093bb"
   },
   "outputs": [
    {
     "data": {
      "text/html": [
       "<div>\n",
       "<style scoped>\n",
       "    .dataframe tbody tr th:only-of-type {\n",
       "        vertical-align: middle;\n",
       "    }\n",
       "\n",
       "    .dataframe tbody tr th {\n",
       "        vertical-align: top;\n",
       "    }\n",
       "\n",
       "    .dataframe thead th {\n",
       "        text-align: right;\n",
       "    }\n",
       "</style>\n",
       "<table border=\"1\" class=\"dataframe\">\n",
       "  <thead>\n",
       "    <tr style=\"text-align: right;\">\n",
       "      <th></th>\n",
       "      <th>trtID</th>\n",
       "      <th>TagCatagorycatagoryID</th>\n",
       "      <th>TagTagID</th>\n",
       "    </tr>\n",
       "  </thead>\n",
       "  <tbody>\n",
       "  </tbody>\n",
       "</table>\n",
       "</div>"
      ],
      "text/plain": [
       "Empty DataFrame\n",
       "Columns: [trtID, TagCatagorycatagoryID, TagTagID]\n",
       "Index: []"
      ]
     },
     "execution_count": 50,
     "metadata": {},
     "output_type": "execute_result"
    }
   ],
   "source": [
    "TagCatagory_Tag.head()"
   ]
  },
  {
   "cell_type": "code",
   "execution_count": 51,
   "metadata": {
    "colab": {
     "base_uri": "https://localhost:8080/",
     "height": 49
    },
    "colab_type": "code",
    "executionInfo": {
     "elapsed": 135364,
     "status": "ok",
     "timestamp": 1556240670008,
     "user": {
      "displayName": "Jing Wang",
      "photoUrl": "",
      "userId": "06552028597999080834"
     },
     "user_tz": 240
    },
    "id": "pnexIRkHdmQg",
    "outputId": "8a32e1e6-0fc1-4446-c070-a8290e12a103"
   },
   "outputs": [
    {
     "data": {
      "text/html": [
       "<div>\n",
       "<style scoped>\n",
       "    .dataframe tbody tr th:only-of-type {\n",
       "        vertical-align: middle;\n",
       "    }\n",
       "\n",
       "    .dataframe tbody tr th {\n",
       "        vertical-align: top;\n",
       "    }\n",
       "\n",
       "    .dataframe thead th {\n",
       "        text-align: right;\n",
       "    }\n",
       "</style>\n",
       "<table border=\"1\" class=\"dataframe\">\n",
       "  <thead>\n",
       "    <tr style=\"text-align: right;\">\n",
       "      <th></th>\n",
       "      <th>catagoryID</th>\n",
       "      <th>catagoryName</th>\n",
       "    </tr>\n",
       "  </thead>\n",
       "  <tbody>\n",
       "  </tbody>\n",
       "</table>\n",
       "</div>"
      ],
      "text/plain": [
       "Empty DataFrame\n",
       "Columns: [catagoryID, catagoryName]\n",
       "Index: []"
      ]
     },
     "execution_count": 51,
     "metadata": {},
     "output_type": "execute_result"
    }
   ],
   "source": [
    "TagCatagory.head()"
   ]
  },
  {
   "cell_type": "code",
   "execution_count": 52,
   "metadata": {
    "colab": {},
    "colab_type": "code",
    "id": "NXhFYV9mGAKB"
   },
   "outputs": [],
   "source": [
    "PlayerList = Player.values.tolist()\n",
    "Player_FanList = Player_Fan.values.tolist()\n",
    "FanList = Fan.values.tolist()\n",
    "Fan_TeamList = Fan_Team.values.tolist()\n",
    "PersonList = Person.values.tolist()\n",
    "TeamList = Team.values.tolist()\n",
    "Person_SNSUserList = Person_SNSUser.values.tolist()\n",
    "LocationList = Location.values.tolist()\n",
    "Team_SNSUserList = Team_SNSUser.values.tolist()\n",
    "SNSUserList = SNSUser.values.tolist()\n",
    "PostList = Post.values.tolist()\n",
    "Post_TagList = Post_Tag.values.tolist()\n",
    "TagList = Tag.values.tolist()\n",
    "DomainTagList = DomainTag.values.tolist()\n",
    "SynonymsTagList = SynonymsTag.values.tolist()\n",
    "MisspellingsTagList = MisspellingsTag.values.tolist()\n",
    "TagCatagory_TagList = TagCatagory_Tag.values.tolist()\n",
    "TagCatagoryList = TagCatagory.values.tolist()"
   ]
  },
  {
   "cell_type": "markdown",
   "metadata": {
    "colab_type": "text",
    "id": "TLg3Oror7VOZ"
   },
   "source": [
    "# Tagging"
   ]
  },
  {
   "cell_type": "markdown",
   "metadata": {
    "colab_type": "text",
    "id": "fLomgkjW7afs"
   },
   "source": [
    "## DomainTag"
   ]
  },
  {
   "cell_type": "code",
   "execution_count": 53,
   "metadata": {
    "colab": {
     "base_uri": "https://localhost:8080/",
     "height": 34
    },
    "colab_type": "code",
    "executionInfo": {
     "elapsed": 293,
     "status": "ok",
     "timestamp": 1556269358649,
     "user": {
      "displayName": "Jing Wang",
      "photoUrl": "",
      "userId": "06552028597999080834"
     },
     "user_tz": 240
    },
    "id": "OrkFhX1nNN_Q",
    "outputId": "d0de49ca-3ca7-4f4b-82a6-6605c63a035c"
   },
   "outputs": [
    {
     "data": {
      "text/plain": [
       "[[2553], [2571], [2571], [2613], [2656], [2658], [2724], [2738], [2885]]"
      ]
     },
     "execution_count": 53,
     "metadata": {},
     "output_type": "execute_result"
    }
   ],
   "source": [
    "for tag in TagList:\n",
    "    if tag[2]==\"hashtag\":\n",
    "        for player in playerSNS:\n",
    "            if tag[1] in player[1]:\n",
    "                DomainTagList.append([tag[0]])\n",
    "        for team in teamSNS:\n",
    "            if tag[1] in team[1]:\n",
    "                DomainTagList.append([tag[0]])\n",
    "DomainTagList"
   ]
  },
  {
   "cell_type": "markdown",
   "metadata": {
    "colab_type": "text",
    "id": "RU_xeJW-7g_m"
   },
   "source": [
    "## SynonymsTag"
   ]
  },
  {
   "cell_type": "code",
   "execution_count": 54,
   "metadata": {
    "colab": {
     "base_uri": "https://localhost:8080/",
     "height": 34
    },
    "colab_type": "code",
    "executionInfo": {
     "elapsed": 325,
     "status": "ok",
     "timestamp": 1556250195590,
     "user": {
      "displayName": "Jing Wang",
      "photoUrl": "",
      "userId": "06552028597999080834"
     },
     "user_tz": 240
    },
    "id": "5LXj0SOzicFb",
    "outputId": "e7b55b70-61af-4129-ddd7-f3f2f6a88250"
   },
   "outputs": [
    {
     "data": {
      "text/plain": [
       "30"
      ]
     },
     "execution_count": 54,
     "metadata": {},
     "output_type": "execute_result"
    }
   ],
   "source": [
    "def tagcount1(tagid):\n",
    "    counter = 0\n",
    "    for pt in Post_TagList:\n",
    "        if pt[2]==tagid:\n",
    "            counter=counter+1\n",
    "    return counter\n",
    "tagcount1(5)"
   ]
  },
  {
   "cell_type": "code",
   "execution_count": 55,
   "metadata": {
    "colab": {
     "base_uri": "https://localhost:8080/",
     "height": 34
    },
    "colab_type": "code",
    "executionInfo": {
     "elapsed": 413,
     "status": "ok",
     "timestamp": 1556250204959,
     "user": {
      "displayName": "Jing Wang",
      "photoUrl": "",
      "userId": "06552028597999080834"
     },
     "user_tz": 240
    },
    "id": "qknxdWH4j-li",
    "outputId": "de1010e3-3b39-4614-9840-c786fba36302"
   },
   "outputs": [
    {
     "data": {
      "text/plain": [
       "3"
      ]
     },
     "execution_count": 55,
     "metadata": {},
     "output_type": "execute_result"
    }
   ],
   "source": [
    "def tagcount2(tagid1, tagid2):\n",
    "    counter=0\n",
    "    tagid1list = []\n",
    "    for posttag in Post_TagList:\n",
    "        if posttag[2]==tagid1:\n",
    "            tagid1list.append(posttag[1])\n",
    "    tagid2list = []\n",
    "    for posttag in Post_TagList:\n",
    "        if posttag[2]==tagid2:\n",
    "            tagid2list.append(posttag[1])\n",
    "    for tagid1 in tagid1list:\n",
    "        for tagid2 in tagid2list:\n",
    "            if tagid1==tagid2:\n",
    "                counter=counter+1\n",
    "    return counter\n",
    "tagcount2(1,2)"
   ]
  },
  {
   "cell_type": "code",
   "execution_count": 79,
   "metadata": {
    "colab": {},
    "colab_type": "code",
    "id": "gFMMVawjrSM8"
   },
   "outputs": [],
   "source": [
    "ratioleast = 0.75\n",
    "countleast = 10\n",
    "for tag1 in TagList:\n",
    "    if tag1[2] == \"hashtag\" and tagcount1(tag1[0])>countleast:    \n",
    "        for tag2 in TagList:\n",
    "            if tag2[2] == \"hashtag\" and tagcount1(tag2[0]>countleast):\n",
    "                if tag1 != tag2:\n",
    "                    tag1id = tag1[0]\n",
    "                    tag2id = tag2[0]\n",
    "                    f1 = tagcount1(tag1id)\n",
    "                    f2 = tagcount1(tag2id)\n",
    "                    f3 = tagcount2(tag1id, tag2id)\n",
    "                    if f3/f1 > ratioleast or f3/f2 >ratioleast:\n",
    "                        if tag1id > tag2id:\n",
    "                            temptagid = tag1id\n",
    "                            tag1id = tag2id\n",
    "                            tag2id = temptagid\n",
    "                        if [tag1id, tag2id] not in SynonymsTagList:\n",
    "                            SynonymsTagList.append([tag1id, tag2id])"
   ]
  },
  {
   "cell_type": "code",
   "execution_count": 80,
   "metadata": {
    "colab": {
     "base_uri": "https://localhost:8080/",
     "height": 153
    },
    "colab_type": "code",
    "executionInfo": {
     "elapsed": 298,
     "status": "ok",
     "timestamp": 1556250961990,
     "user": {
      "displayName": "Jing Wang",
      "photoUrl": "",
      "userId": "06552028597999080834"
     },
     "user_tz": 240
    },
    "id": "NeqPL478vF_F",
    "outputId": "32260a35-12da-43c8-f12e-2c1a73bacca4"
   },
   "outputs": [
    {
     "data": {
      "text/plain": [
       "[[1, 55],\n",
       " [1, 102],\n",
       " [1, 2649],\n",
       " [1, 2650],\n",
       " [1, 2651],\n",
       " [1, 2704],\n",
       " [1, 2705],\n",
       " [1, 2706],\n",
       " [2, 15],\n",
       " [2, 133],\n",
       " [2, 2195],\n",
       " [2, 2476],\n",
       " [2, 2477],\n",
       " [2, 2608],\n",
       " [2, 2658],\n",
       " [137, 1791],\n",
       " [137, 2215],\n",
       " [137, 2216],\n",
       " [163, 266],\n",
       " [163, 289],\n",
       " [163, 500],\n",
       " [163, 532],\n",
       " [163, 704],\n",
       " [163, 708],\n",
       " [163, 832],\n",
       " [163, 976],\n",
       " [163, 1169],\n",
       " [163, 1471],\n",
       " [163, 2538],\n",
       " [163, 2787],\n",
       " [163, 2801],\n",
       " [255, 1169],\n",
       " [255, 2551],\n",
       " [255, 2728],\n",
       " [255, 2729],\n",
       " [255, 2730],\n",
       " [255, 2735],\n",
       " [255, 2736],\n",
       " [255, 2737],\n",
       " [255, 2739],\n",
       " [255, 2740],\n",
       " [255, 2741],\n",
       " [255, 2742],\n",
       " [255, 2743],\n",
       " [255, 2744],\n",
       " [255, 2745],\n",
       " [255, 2746],\n",
       " [255, 2747],\n",
       " [255, 2748],\n",
       " [882, 2551],\n",
       " [882, 2571],\n",
       " [882, 2572],\n",
       " [882, 2573],\n",
       " [882, 2575],\n",
       " [882, 2671],\n",
       " [882, 2672],\n",
       " [882, 2701],\n",
       " [882, 2728],\n",
       " [882, 2729],\n",
       " [882, 2730],\n",
       " [882, 2735],\n",
       " [882, 2736],\n",
       " [882, 2737],\n",
       " [882, 2739],\n",
       " [882, 2740],\n",
       " [882, 2741],\n",
       " [882, 2742],\n",
       " [882, 2743],\n",
       " [882, 2744],\n",
       " [882, 2745],\n",
       " [882, 2746],\n",
       " [882, 2747],\n",
       " [882, 2748],\n",
       " [882, 2829],\n",
       " [882, 2830],\n",
       " [882, 2831],\n",
       " [882, 2832],\n",
       " [882, 2833],\n",
       " [882, 2847],\n",
       " [882, 2848],\n",
       " [1054, 1467],\n",
       " [1480, 1708],\n",
       " [1480, 1730],\n",
       " [1480, 1791],\n",
       " [1480, 1817],\n",
       " [1480, 1818],\n",
       " [1480, 2847],\n",
       " [1480, 2848],\n",
       " [2553, 2844],\n",
       " [2553, 2847],\n",
       " [2553, 2848],\n",
       " [2553, 2860],\n",
       " [2553, 2861],\n",
       " [2553, 2862],\n",
       " [2553, 2863],\n",
       " [2553, 2864],\n",
       " [2553, 2865],\n",
       " [2553, 2866],\n",
       " [2553, 2867],\n",
       " [2692, 2693],\n",
       " [2692, 2843],\n",
       " [2721, 2722],\n",
       " [2721, 2723],\n",
       " [2721, 2749],\n",
       " [2722, 2723],\n",
       " [2722, 2725],\n",
       " [2722, 2749],\n",
       " [2722, 2750],\n",
       " [2722, 2751],\n",
       " [2888, 2889],\n",
       " [2889, 2890],\n",
       " [2889, 2891],\n",
       " [2889, 2898],\n",
       " [2889, 2899],\n",
       " [2889, 2900],\n",
       " [2889, 2901],\n",
       " [2889, 2902],\n",
       " [2889, 2903],\n",
       " [2889, 2904],\n",
       " [2889, 2905],\n",
       " [2889, 2906],\n",
       " [2889, 2907],\n",
       " [2889, 2908],\n",
       " [2889, 2909],\n",
       " [2889, 2910],\n",
       " [2889, 2911],\n",
       " [2889, 2912],\n",
       " [2889, 2914],\n",
       " [2889, 2915],\n",
       " [2889, 2917],\n",
       " [2889, 2918],\n",
       " [2889, 2920],\n",
       " [2889, 2921],\n",
       " [2889, 2922],\n",
       " [2889, 2923],\n",
       " [2889, 2924],\n",
       " [2889, 2925],\n",
       " [2889, 2926],\n",
       " [2889, 2927],\n",
       " [2889, 2928],\n",
       " [2889, 2929],\n",
       " [2978, 2979]]"
      ]
     },
     "execution_count": 80,
     "metadata": {},
     "output_type": "execute_result"
    }
   ],
   "source": [
    "SynonymsTagList"
   ]
  },
  {
   "cell_type": "markdown",
   "metadata": {
    "colab_type": "text",
    "id": "4NvTGqRm75Fd"
   },
   "source": [
    "## MisspellingsTag"
   ]
  },
  {
   "cell_type": "markdown",
   "metadata": {
    "colab_type": "text",
    "id": "-a32q_lw1tz2"
   },
   "source": [
    "### Levenshtein distance calculation function"
   ]
  },
  {
   "cell_type": "code",
   "execution_count": 59,
   "metadata": {
    "colab": {},
    "colab_type": "code",
    "id": "Z7HouG3LGAKU"
   },
   "outputs": [],
   "source": [
    "# Levenshtein distance calculation function\n",
    "# Reference: https://rosettacode.org/wiki/Levenshtein_distance#Python\n",
    "def ldistance(s1, s2):\n",
    "    if len(s1) > len(s2):\n",
    "        s1, s2 = s2, s1\n",
    "    distances = range(len(s1) + 1)\n",
    "    for index2, char2 in enumerate(s2):\n",
    "        newDistances = [index2 + 1]\n",
    "        for index1,char1 in enumerate(s1):\n",
    "            if char1 == char2:\n",
    "                newDistances.append(distances[index1])\n",
    "            else:\n",
    "                newDistances.append(1 + min((distances[index1],\n",
    "                                             distances[index1 + 1],\n",
    "                                             newDistances[-1])))\n",
    "        distances = newDistances\n",
    "    return distances[-1]"
   ]
  },
  {
   "cell_type": "code",
   "execution_count": 60,
   "metadata": {
    "colab": {},
    "colab_type": "code",
    "id": "AuE6-nQe0zwh"
   },
   "outputs": [],
   "source": [
    "d1ratioleast = 0.30\n",
    "d2ratioleast = 0.20\n",
    "d3ratioleast = 0.10\n",
    "for tag1 in TagList:\n",
    "    if tag1[2] == \"hashtag\":    \n",
    "        for tag2 in TagList:\n",
    "            if tag2[2] == \"hashtag\":\n",
    "                if tag1 != tag2:\n",
    "                    tag1id=tag1[0]\n",
    "                    tag2id=tag2[0]\n",
    "                    f1=tagcount1(tag1id)\n",
    "                    f2=tagcount1(tag2id)\n",
    "                    distance=ldistance(tag1[1],tag2[1])\n",
    "                    if distance<4:\n",
    "                        if distance==1:\n",
    "                            ratio=d1ratioleast\n",
    "                        if distance==2:\n",
    "                            ratio=d2ratioleast\n",
    "                        if distance==3:\n",
    "                            ratio=d3ratioleast\n",
    "                        if f1/f2<ratio or f2/f1<ratio:\n",
    "                            if f1>f2:\n",
    "                                temptag =tag1id\n",
    "                                tag1id=tag2id\n",
    "                                tag2id=temptag\n",
    "                                tempf=f1\n",
    "                                f1=f2\n",
    "                                f2=tempf\n",
    "                            misspt0list=[]\n",
    "                            for misspt in MisspellingsTagList:\n",
    "                                misspt0list.append(misspt[0])\n",
    "                            if not tag1id in misspt0list:\n",
    "                                 MisspellingsTagList.append([tag1id, tag2id])\n",
    "                            else:\n",
    "                                missptori = []\n",
    "                                for misspt in MisspellingsTagList:\n",
    "                                    if misspt[0] == tag1id:\n",
    "                                        missptori = misspt\n",
    "                                        break\n",
    "                                tagori1=\"\"\n",
    "                                tagori2=\"\"\n",
    "                                for tag in TagList:\n",
    "                                    if tag[0]==missptori[0]:\n",
    "                                        tagori1=tag[1]\n",
    "                                    if tag[0]==missptori[1]:\n",
    "                                        tagori2=tag[1]\n",
    "                                f1ori=tagcount1(missptori[0])\n",
    "                                f2ori=tagcount1(missptori[1])\n",
    "                                rori=f1ori/f2ori\n",
    "                                r=f1/f2\n",
    "                                distanceori=ldistance(tagori1,tagori2)\n",
    "                                if distance <distanceori:\n",
    "                                    counter=-1\n",
    "                                    for misspt in MisspellingsTagList:\n",
    "                                        counter=counter+1\n",
    "                                        if misspt[0]==tag1id:\n",
    "                                            break\n",
    "                                    MisspellingsTagList[counter]=[tag1id,tag2id]\n",
    "                                else:\n",
    "                                    if distance ==distanceori:\n",
    "                                        if r<rori:\n",
    "                                            counter=-1\n",
    "                                            for misspt in MisspellingsTagList:\n",
    "                                                counter=counter+1\n",
    "                                                if misspt[0]==tag1id:\n",
    "                                                    break\n",
    "                                            MisspellingsTagList[counter]=[tag1id,tag2id]                "
   ]
  },
  {
   "cell_type": "code",
   "execution_count": 61,
   "metadata": {
    "colab": {
     "base_uri": "https://localhost:8080/",
     "height": 34
    },
    "colab_type": "code",
    "executionInfo": {
     "elapsed": 333,
     "status": "ok",
     "timestamp": 1556270281189,
     "user": {
      "displayName": "Jing Wang",
      "photoUrl": "",
      "userId": "06552028597999080834"
     },
     "user_tz": 240
    },
    "id": "d1R_lgDlbSIS",
    "outputId": "e3960f51-283f-44c2-b86c-79579d14bc28"
   },
   "outputs": [
    {
     "data": {
      "text/plain": [
       "[[37, 1],\n",
       " [2613, 1],\n",
       " [2689, 1],\n",
       " [16, 2],\n",
       " [2626, 2],\n",
       " [26, 65],\n",
       " [140, 137],\n",
       " [1817, 137],\n",
       " [755, 163],\n",
       " [1018, 163],\n",
       " [2244, 202],\n",
       " [2833, 202],\n",
       " [2738, 255],\n",
       " [550, 2513],\n",
       " [1653, 882],\n",
       " [1676, 882],\n",
       " [1750, 882],\n",
       " [2441, 882],\n",
       " [2487, 882],\n",
       " [2571, 882],\n",
       " [2741, 882],\n",
       " [2742, 882],\n",
       " [2832, 882],\n",
       " [1769, 1480],\n",
       " [1707, 1527],\n",
       " [1590, 2553],\n",
       " [2737, 2513],\n",
       " [2531, 2553],\n",
       " [2917, 2553],\n",
       " [2734, 2692],\n",
       " [2724, 2722]]"
      ]
     },
     "execution_count": 61,
     "metadata": {},
     "output_type": "execute_result"
    }
   ],
   "source": [
    "MisspellingsTagList"
   ]
  },
  {
   "cell_type": "markdown",
   "metadata": {
    "colab_type": "text",
    "id": "sCGsCOFx8DoV"
   },
   "source": [
    "## TagCatagory"
   ]
  },
  {
   "cell_type": "code",
   "execution_count": 62,
   "metadata": {
    "colab": {},
    "colab_type": "code",
    "id": "pqVhDlCRdiUL"
   },
   "outputs": [],
   "source": [
    "TagCatagoryList=[[1,\"hashtag\"], \n",
    "                 [2,\"mention\"],\n",
    "                 [3,\"domaintag\"],\n",
    "                 [4,\"synonymstag\"],\n",
    "                 [5,\"misspellingstag\"]]"
   ]
  },
  {
   "cell_type": "markdown",
   "metadata": {
    "colab_type": "text",
    "id": "NJPx_uMt8Laq"
   },
   "source": [
    "## TagCatagory_Tag"
   ]
  },
  {
   "cell_type": "code",
   "execution_count": 63,
   "metadata": {
    "colab": {},
    "colab_type": "code",
    "id": "lV2jFDewg0l6"
   },
   "outputs": [],
   "source": [
    "counter=0\n",
    "for tag in TagList:\n",
    "    if tag[2]==\"hashtag\":\n",
    "        counter=counter+1\n",
    "        TagCatagory_TagList.append([counter,1,tag[0]])\n",
    "    if tag[2]==\"mention\":\n",
    "        counter=counter+1\n",
    "        TagCatagory_TagList.append([counter,2,tag[0]])\n",
    "    domlist = []\n",
    "    for dom in DomainTagList:\n",
    "        domlist.append(dom[0])\n",
    "    if tag[0] in domlist:\n",
    "        counter=counter+1\n",
    "        TagCatagory_TagList.append([counter,3,tag[0]])\n",
    "    synlist=[]\n",
    "    for syn in SynonymsTagList:\n",
    "        synlist.append(syn[0])\n",
    "    if tag[0] in synlist:\n",
    "        counter=counter+1\n",
    "        TagCatagory_TagList.append([counter,4,tag[0]])\n",
    "    mislist=[]\n",
    "    for mis in MisspellingsTagList:\n",
    "        mislist.append(mis[0])\n",
    "    if tag[0] in mislist:\n",
    "        counter=counter+1\n",
    "        TagCatagory_TagList.append([counter,5,tag[0]])"
   ]
  },
  {
   "cell_type": "code",
   "execution_count": 64,
   "metadata": {
    "colab": {
     "base_uri": "https://localhost:8080/",
     "height": 8806
    },
    "colab_type": "code",
    "executionInfo": {
     "elapsed": 309,
     "status": "ok",
     "timestamp": 1556264336266,
     "user": {
      "displayName": "Jing Wang",
      "photoUrl": "",
      "userId": "06552028597999080834"
     },
     "user_tz": 240
    },
    "id": "csaaKIYzkgX0",
    "outputId": "05309aff-3fdb-4332-eb88-5474cfb44476"
   },
   "outputs": [
    {
     "data": {
      "text/plain": [
       "[[1, 1, 1],\n",
       " [2, 1, 2],\n",
       " [3, 2, 3],\n",
       " [4, 2, 4],\n",
       " [5, 2, 5],\n",
       " [6, 2, 6],\n",
       " [7, 1, 7],\n",
       " [8, 2, 8],\n",
       " [9, 2, 9],\n",
       " [10, 2, 10],\n",
       " [11, 2, 11],\n",
       " [12, 1, 12],\n",
       " [13, 1, 13],\n",
       " [14, 1, 14],\n",
       " [15, 1, 15],\n",
       " [16, 1, 16],\n",
       " [17, 5, 16],\n",
       " [18, 2, 17],\n",
       " [19, 2, 18],\n",
       " [20, 2, 19],\n",
       " [21, 2, 20],\n",
       " [22, 2, 21],\n",
       " [23, 1, 22],\n",
       " [24, 2, 23],\n",
       " [25, 2, 24],\n",
       " [26, 2, 25],\n",
       " [27, 1, 26],\n",
       " [28, 5, 26],\n",
       " [29, 2, 27],\n",
       " [30, 2, 28],\n",
       " [31, 2, 29],\n",
       " [32, 2, 30],\n",
       " [33, 2, 31],\n",
       " [34, 2, 32],\n",
       " [35, 2, 33],\n",
       " [36, 2, 34],\n",
       " [37, 2, 35],\n",
       " [38, 2, 36],\n",
       " [39, 1, 37],\n",
       " [40, 5, 37],\n",
       " [41, 2, 38],\n",
       " [42, 2, 39],\n",
       " [43, 2, 40],\n",
       " [44, 2, 41],\n",
       " [45, 1, 42],\n",
       " [46, 1, 43],\n",
       " [47, 2, 44],\n",
       " [48, 2, 45],\n",
       " [49, 2, 46],\n",
       " [50, 1, 47],\n",
       " [51, 2, 48],\n",
       " [52, 2, 49],\n",
       " [53, 2, 50],\n",
       " [54, 2, 51],\n",
       " [55, 1, 52],\n",
       " [56, 2, 53],\n",
       " [57, 2, 54],\n",
       " [58, 1, 55],\n",
       " [59, 2, 56],\n",
       " [60, 2, 57],\n",
       " [61, 2, 58],\n",
       " [62, 2, 59],\n",
       " [63, 1, 60],\n",
       " [64, 2, 61],\n",
       " [65, 2, 62],\n",
       " [66, 1, 63],\n",
       " [67, 2, 64],\n",
       " [68, 1, 65],\n",
       " [69, 2, 66],\n",
       " [70, 2, 67],\n",
       " [71, 2, 68],\n",
       " [72, 1, 69],\n",
       " [73, 2, 70],\n",
       " [74, 1, 71],\n",
       " [75, 2, 72],\n",
       " [76, 2, 73],\n",
       " [77, 2, 74],\n",
       " [78, 2, 75],\n",
       " [79, 1, 76],\n",
       " [80, 2, 77],\n",
       " [81, 2, 78],\n",
       " [82, 2, 79],\n",
       " [83, 2, 80],\n",
       " [84, 2, 81],\n",
       " [85, 2, 82],\n",
       " [86, 2, 83],\n",
       " [87, 2, 84],\n",
       " [88, 2, 85],\n",
       " [89, 2, 86],\n",
       " [90, 1, 87],\n",
       " [91, 2, 88],\n",
       " [92, 2, 89],\n",
       " [93, 2, 90],\n",
       " [94, 2, 91],\n",
       " [95, 2, 92],\n",
       " [96, 2, 93],\n",
       " [97, 1, 94],\n",
       " [98, 1, 95],\n",
       " [99, 1, 96],\n",
       " [100, 2, 97],\n",
       " [101, 2, 98],\n",
       " [102, 2, 99],\n",
       " [103, 2, 100],\n",
       " [104, 2, 101],\n",
       " [105, 1, 102],\n",
       " [106, 1, 103],\n",
       " [107, 2, 104],\n",
       " [108, 2, 105],\n",
       " [109, 2, 106],\n",
       " [110, 2, 107],\n",
       " [111, 2, 108],\n",
       " [112, 2, 109],\n",
       " [113, 1, 110],\n",
       " [114, 2, 111],\n",
       " [115, 2, 112],\n",
       " [116, 2, 113],\n",
       " [117, 2, 114],\n",
       " [118, 2, 115],\n",
       " [119, 2, 116],\n",
       " [120, 1, 117],\n",
       " [121, 2, 118],\n",
       " [122, 2, 119],\n",
       " [123, 2, 120],\n",
       " [124, 2, 121],\n",
       " [125, 2, 122],\n",
       " [126, 2, 123],\n",
       " [127, 2, 124],\n",
       " [128, 2, 125],\n",
       " [129, 2, 126],\n",
       " [130, 2, 127],\n",
       " [131, 1, 128],\n",
       " [132, 2, 129],\n",
       " [133, 1, 130],\n",
       " [134, 2, 131],\n",
       " [135, 2, 132],\n",
       " [136, 1, 133],\n",
       " [137, 2, 134],\n",
       " [138, 2, 135],\n",
       " [139, 2, 136],\n",
       " [140, 1, 137],\n",
       " [141, 2, 138],\n",
       " [142, 1, 139],\n",
       " [143, 1, 140],\n",
       " [144, 5, 140],\n",
       " [145, 2, 141],\n",
       " [146, 2, 142],\n",
       " [147, 2, 143],\n",
       " [148, 2, 144],\n",
       " [149, 2, 145],\n",
       " [150, 2, 146],\n",
       " [151, 2, 147],\n",
       " [152, 2, 148],\n",
       " [153, 2, 149],\n",
       " [154, 2, 150],\n",
       " [155, 1, 151],\n",
       " [156, 2, 152],\n",
       " [157, 2, 153],\n",
       " [158, 1, 154],\n",
       " [159, 1, 155],\n",
       " [160, 2, 156],\n",
       " [161, 2, 157],\n",
       " [162, 2, 158],\n",
       " [163, 2, 159],\n",
       " [164, 2, 160],\n",
       " [165, 2, 161],\n",
       " [166, 2, 162],\n",
       " [167, 1, 163],\n",
       " [168, 2, 164],\n",
       " [169, 2, 165],\n",
       " [170, 2, 166],\n",
       " [171, 2, 167],\n",
       " [172, 2, 168],\n",
       " [173, 2, 169],\n",
       " [174, 2, 170],\n",
       " [175, 2, 171],\n",
       " [176, 2, 172],\n",
       " [177, 2, 173],\n",
       " [178, 2, 174],\n",
       " [179, 2, 175],\n",
       " [180, 2, 176],\n",
       " [181, 2, 177],\n",
       " [182, 2, 178],\n",
       " [183, 2, 179],\n",
       " [184, 2, 180],\n",
       " [185, 2, 181],\n",
       " [186, 2, 182],\n",
       " [187, 2, 183],\n",
       " [188, 2, 184],\n",
       " [189, 2, 185],\n",
       " [190, 2, 186],\n",
       " [191, 2, 187],\n",
       " [192, 2, 188],\n",
       " [193, 2, 189],\n",
       " [194, 2, 190],\n",
       " [195, 2, 191],\n",
       " [196, 2, 192],\n",
       " [197, 2, 193],\n",
       " [198, 2, 194],\n",
       " [199, 2, 195],\n",
       " [200, 2, 196],\n",
       " [201, 2, 197],\n",
       " [202, 2, 198],\n",
       " [203, 2, 199],\n",
       " [204, 2, 200],\n",
       " [205, 2, 201],\n",
       " [206, 1, 202],\n",
       " [207, 2, 203],\n",
       " [208, 1, 204],\n",
       " [209, 2, 205],\n",
       " [210, 1, 206],\n",
       " [211, 2, 207],\n",
       " [212, 2, 208],\n",
       " [213, 2, 209],\n",
       " [214, 2, 210],\n",
       " [215, 2, 211],\n",
       " [216, 2, 212],\n",
       " [217, 2, 213],\n",
       " [218, 2, 214],\n",
       " [219, 2, 215],\n",
       " [220, 2, 216],\n",
       " [221, 2, 217],\n",
       " [222, 2, 218],\n",
       " [223, 2, 219],\n",
       " [224, 2, 220],\n",
       " [225, 2, 221],\n",
       " [226, 2, 222],\n",
       " [227, 2, 223],\n",
       " [228, 2, 224],\n",
       " [229, 2, 225],\n",
       " [230, 2, 226],\n",
       " [231, 2, 227],\n",
       " [232, 2, 228],\n",
       " [233, 2, 229],\n",
       " [234, 2, 230],\n",
       " [235, 2, 231],\n",
       " [236, 2, 232],\n",
       " [237, 2, 233],\n",
       " [238, 2, 234],\n",
       " [239, 2, 235],\n",
       " [240, 2, 236],\n",
       " [241, 2, 237],\n",
       " [242, 2, 238],\n",
       " [243, 2, 239],\n",
       " [244, 2, 240],\n",
       " [245, 2, 241],\n",
       " [246, 2, 242],\n",
       " [247, 2, 243],\n",
       " [248, 2, 244],\n",
       " [249, 2, 245],\n",
       " [250, 2, 246],\n",
       " [251, 2, 247],\n",
       " [252, 2, 248],\n",
       " [253, 2, 249],\n",
       " [254, 2, 250],\n",
       " [255, 2, 251],\n",
       " [256, 2, 252],\n",
       " [257, 2, 253],\n",
       " [258, 2, 254],\n",
       " [259, 1, 255],\n",
       " [260, 2, 256],\n",
       " [261, 2, 257],\n",
       " [262, 2, 258],\n",
       " [263, 2, 259],\n",
       " [264, 2, 260],\n",
       " [265, 2, 261],\n",
       " [266, 2, 262],\n",
       " [267, 2, 263],\n",
       " [268, 1, 264],\n",
       " [269, 2, 265],\n",
       " [270, 1, 266],\n",
       " [271, 2, 267],\n",
       " [272, 2, 268],\n",
       " [273, 2, 269],\n",
       " [274, 2, 270],\n",
       " [275, 2, 271],\n",
       " [276, 2, 272],\n",
       " [277, 2, 273],\n",
       " [278, 2, 274],\n",
       " [279, 2, 275],\n",
       " [280, 2, 276],\n",
       " [281, 2, 277],\n",
       " [282, 2, 278],\n",
       " [283, 2, 279],\n",
       " [284, 2, 280],\n",
       " [285, 2, 281],\n",
       " [286, 2, 282],\n",
       " [287, 2, 283],\n",
       " [288, 2, 284],\n",
       " [289, 2, 285],\n",
       " [290, 2, 286],\n",
       " [291, 2, 287],\n",
       " [292, 2, 288],\n",
       " [293, 1, 289],\n",
       " [294, 2, 290],\n",
       " [295, 2, 291],\n",
       " [296, 2, 292],\n",
       " [297, 2, 293],\n",
       " [298, 2, 294],\n",
       " [299, 2, 295],\n",
       " [300, 2, 296],\n",
       " [301, 2, 297],\n",
       " [302, 2, 298],\n",
       " [303, 2, 299],\n",
       " [304, 2, 300],\n",
       " [305, 2, 301],\n",
       " [306, 2, 302],\n",
       " [307, 2, 303],\n",
       " [308, 2, 304],\n",
       " [309, 2, 305],\n",
       " [310, 2, 306],\n",
       " [311, 2, 307],\n",
       " [312, 2, 308],\n",
       " [313, 2, 309],\n",
       " [314, 2, 310],\n",
       " [315, 2, 311],\n",
       " [316, 2, 312],\n",
       " [317, 2, 313],\n",
       " [318, 2, 314],\n",
       " [319, 2, 315],\n",
       " [320, 2, 316],\n",
       " [321, 2, 317],\n",
       " [322, 2, 318],\n",
       " [323, 2, 319],\n",
       " [324, 2, 320],\n",
       " [325, 2, 321],\n",
       " [326, 2, 322],\n",
       " [327, 2, 323],\n",
       " [328, 2, 324],\n",
       " [329, 2, 325],\n",
       " [330, 2, 326],\n",
       " [331, 2, 327],\n",
       " [332, 2, 328],\n",
       " [333, 2, 329],\n",
       " [334, 2, 330],\n",
       " [335, 2, 331],\n",
       " [336, 2, 332],\n",
       " [337, 2, 333],\n",
       " [338, 2, 334],\n",
       " [339, 2, 335],\n",
       " [340, 2, 336],\n",
       " [341, 2, 337],\n",
       " [342, 2, 338],\n",
       " [343, 2, 339],\n",
       " [344, 2, 340],\n",
       " [345, 2, 341],\n",
       " [346, 2, 342],\n",
       " [347, 2, 343],\n",
       " [348, 2, 344],\n",
       " [349, 2, 345],\n",
       " [350, 2, 346],\n",
       " [351, 2, 347],\n",
       " [352, 2, 348],\n",
       " [353, 2, 349],\n",
       " [354, 2, 350],\n",
       " [355, 2, 351],\n",
       " [356, 2, 352],\n",
       " [357, 2, 353],\n",
       " [358, 2, 354],\n",
       " [359, 2, 355],\n",
       " [360, 2, 356],\n",
       " [361, 2, 357],\n",
       " [362, 2, 358],\n",
       " [363, 2, 359],\n",
       " [364, 2, 360],\n",
       " [365, 2, 361],\n",
       " [366, 2, 362],\n",
       " [367, 2, 363],\n",
       " [368, 2, 364],\n",
       " [369, 2, 365],\n",
       " [370, 2, 366],\n",
       " [371, 2, 367],\n",
       " [372, 2, 368],\n",
       " [373, 2, 369],\n",
       " [374, 2, 370],\n",
       " [375, 2, 371],\n",
       " [376, 2, 372],\n",
       " [377, 2, 373],\n",
       " [378, 2, 374],\n",
       " [379, 1, 375],\n",
       " [380, 2, 376],\n",
       " [381, 2, 377],\n",
       " [382, 2, 378],\n",
       " [383, 2, 379],\n",
       " [384, 2, 380],\n",
       " [385, 2, 381],\n",
       " [386, 2, 382],\n",
       " [387, 2, 383],\n",
       " [388, 2, 384],\n",
       " [389, 2, 385],\n",
       " [390, 2, 386],\n",
       " [391, 2, 387],\n",
       " [392, 2, 388],\n",
       " [393, 2, 389],\n",
       " [394, 2, 390],\n",
       " [395, 2, 391],\n",
       " [396, 2, 392],\n",
       " [397, 2, 393],\n",
       " [398, 2, 394],\n",
       " [399, 2, 395],\n",
       " [400, 2, 396],\n",
       " [401, 2, 397],\n",
       " [402, 2, 398],\n",
       " [403, 2, 399],\n",
       " [404, 2, 400],\n",
       " [405, 2, 401],\n",
       " [406, 2, 402],\n",
       " [407, 2, 403],\n",
       " [408, 2, 404],\n",
       " [409, 2, 405],\n",
       " [410, 2, 406],\n",
       " [411, 2, 407],\n",
       " [412, 2, 408],\n",
       " [413, 2, 409],\n",
       " [414, 2, 410],\n",
       " [415, 2, 411],\n",
       " [416, 2, 412],\n",
       " [417, 2, 413],\n",
       " [418, 2, 414],\n",
       " [419, 2, 415],\n",
       " [420, 2, 416],\n",
       " [421, 2, 417],\n",
       " [422, 2, 418],\n",
       " [423, 2, 419],\n",
       " [424, 2, 420],\n",
       " [425, 2, 421],\n",
       " [426, 2, 422],\n",
       " [427, 2, 423],\n",
       " [428, 2, 424],\n",
       " [429, 2, 425],\n",
       " [430, 2, 426],\n",
       " [431, 2, 427],\n",
       " [432, 2, 428],\n",
       " [433, 2, 429],\n",
       " [434, 2, 430],\n",
       " [435, 2, 431],\n",
       " [436, 2, 432],\n",
       " [437, 2, 433],\n",
       " [438, 2, 434],\n",
       " [439, 2, 435],\n",
       " [440, 2, 436],\n",
       " [441, 2, 437],\n",
       " [442, 2, 438],\n",
       " [443, 2, 439],\n",
       " [444, 2, 440],\n",
       " [445, 2, 441],\n",
       " [446, 2, 442],\n",
       " [447, 2, 443],\n",
       " [448, 2, 444],\n",
       " [449, 2, 445],\n",
       " [450, 2, 446],\n",
       " [451, 2, 447],\n",
       " [452, 2, 448],\n",
       " [453, 2, 449],\n",
       " [454, 2, 450],\n",
       " [455, 2, 451],\n",
       " [456, 2, 452],\n",
       " [457, 2, 453],\n",
       " [458, 2, 454],\n",
       " [459, 2, 455],\n",
       " [460, 2, 456],\n",
       " [461, 2, 457],\n",
       " [462, 2, 458],\n",
       " [463, 2, 459],\n",
       " [464, 2, 460],\n",
       " [465, 2, 461],\n",
       " [466, 2, 462],\n",
       " [467, 2, 463],\n",
       " [468, 1, 464],\n",
       " [469, 1, 465],\n",
       " [470, 2, 466],\n",
       " [471, 2, 467],\n",
       " [472, 2, 468],\n",
       " [473, 2, 469],\n",
       " [474, 2, 470],\n",
       " [475, 2, 471],\n",
       " [476, 2, 472],\n",
       " [477, 2, 473],\n",
       " [478, 2, 474],\n",
       " [479, 2, 475],\n",
       " [480, 2, 476],\n",
       " [481, 2, 477],\n",
       " [482, 2, 478],\n",
       " [483, 2, 479],\n",
       " [484, 2, 480],\n",
       " [485, 2, 481],\n",
       " [486, 2, 482],\n",
       " [487, 2, 483],\n",
       " [488, 2, 484],\n",
       " [489, 2, 485],\n",
       " [490, 2, 486],\n",
       " [491, 2, 487],\n",
       " [492, 2, 488],\n",
       " [493, 2, 489],\n",
       " [494, 2, 490],\n",
       " [495, 2, 491],\n",
       " [496, 2, 492],\n",
       " [497, 2, 493],\n",
       " [498, 2, 494],\n",
       " [499, 2, 495],\n",
       " [500, 2, 496],\n",
       " [501, 2, 497],\n",
       " [502, 2, 498],\n",
       " [503, 2, 499],\n",
       " [504, 1, 500],\n",
       " [505, 2, 501],\n",
       " [506, 2, 502],\n",
       " [507, 2, 503],\n",
       " [508, 2, 504],\n",
       " [509, 2, 505],\n",
       " [510, 2, 506],\n",
       " [511, 2, 507],\n",
       " [512, 2, 508],\n",
       " [513, 2, 509],\n",
       " [514, 1, 510],\n",
       " [515, 1, 511],\n",
       " [516, 2, 512],\n",
       " [517, 2, 513],\n",
       " [518, 2, 514],\n",
       " [519, 2, 515],\n",
       " [520, 1, 516],\n",
       " [521, 2, 517],\n",
       " [522, 2, 518],\n",
       " [523, 2, 519],\n",
       " [524, 2, 520],\n",
       " [525, 2, 521],\n",
       " [526, 2, 522],\n",
       " [527, 2, 523],\n",
       " [528, 2, 524],\n",
       " [529, 2, 525],\n",
       " [530, 2, 526],\n",
       " [531, 2, 527],\n",
       " [532, 2, 528],\n",
       " [533, 2, 529],\n",
       " [534, 2, 530],\n",
       " [535, 2, 531],\n",
       " [536, 1, 532],\n",
       " [537, 2, 533],\n",
       " [538, 2, 534],\n",
       " [539, 2, 535],\n",
       " [540, 2, 536],\n",
       " [541, 2, 537],\n",
       " [542, 2, 538],\n",
       " [543, 2, 539],\n",
       " [544, 2, 540],\n",
       " [545, 2, 541],\n",
       " [546, 2, 542],\n",
       " [547, 2, 543],\n",
       " [548, 1, 544],\n",
       " [549, 2, 545],\n",
       " [550, 2, 546],\n",
       " [551, 2, 547],\n",
       " [552, 2, 548],\n",
       " [553, 2, 549],\n",
       " [554, 1, 550],\n",
       " [555, 5, 550],\n",
       " [556, 2, 551],\n",
       " [557, 2, 552],\n",
       " [558, 2, 553],\n",
       " [559, 2, 554],\n",
       " [560, 2, 555],\n",
       " [561, 2, 556],\n",
       " [562, 2, 557],\n",
       " [563, 2, 558],\n",
       " [564, 2, 559],\n",
       " [565, 2, 560],\n",
       " [566, 2, 561],\n",
       " [567, 2, 562],\n",
       " [568, 2, 563],\n",
       " [569, 2, 564],\n",
       " [570, 2, 565],\n",
       " [571, 2, 566],\n",
       " [572, 2, 567],\n",
       " [573, 2, 568],\n",
       " [574, 2, 569],\n",
       " [575, 2, 570],\n",
       " [576, 2, 571],\n",
       " [577, 2, 572],\n",
       " [578, 2, 573],\n",
       " [579, 2, 574],\n",
       " [580, 2, 575],\n",
       " [581, 2, 576],\n",
       " [582, 2, 577],\n",
       " [583, 2, 578],\n",
       " [584, 2, 579],\n",
       " [585, 2, 580],\n",
       " [586, 2, 581],\n",
       " [587, 2, 582],\n",
       " [588, 2, 583],\n",
       " [589, 2, 584],\n",
       " [590, 2, 585],\n",
       " [591, 2, 586],\n",
       " [592, 2, 587],\n",
       " [593, 2, 588],\n",
       " [594, 2, 589],\n",
       " [595, 2, 590],\n",
       " [596, 2, 591],\n",
       " [597, 2, 592],\n",
       " [598, 2, 593],\n",
       " [599, 2, 594],\n",
       " [600, 2, 595],\n",
       " [601, 2, 596],\n",
       " [602, 2, 597],\n",
       " [603, 2, 598],\n",
       " [604, 2, 599],\n",
       " [605, 2, 600],\n",
       " [606, 2, 601],\n",
       " [607, 2, 602],\n",
       " [608, 2, 603],\n",
       " [609, 2, 604],\n",
       " [610, 2, 605],\n",
       " [611, 2, 606],\n",
       " [612, 2, 607],\n",
       " [613, 2, 608],\n",
       " [614, 2, 609],\n",
       " [615, 2, 610],\n",
       " [616, 2, 611],\n",
       " [617, 2, 612],\n",
       " [618, 2, 613],\n",
       " [619, 2, 614],\n",
       " [620, 2, 615],\n",
       " [621, 2, 616],\n",
       " [622, 2, 617],\n",
       " [623, 2, 618],\n",
       " [624, 2, 619],\n",
       " [625, 2, 620],\n",
       " [626, 2, 621],\n",
       " [627, 2, 622],\n",
       " [628, 2, 623],\n",
       " [629, 2, 624],\n",
       " [630, 2, 625],\n",
       " [631, 1, 626],\n",
       " [632, 2, 627],\n",
       " [633, 2, 628],\n",
       " [634, 2, 629],\n",
       " [635, 2, 630],\n",
       " [636, 2, 631],\n",
       " [637, 2, 632],\n",
       " [638, 2, 633],\n",
       " [639, 2, 634],\n",
       " [640, 2, 635],\n",
       " [641, 2, 636],\n",
       " [642, 2, 637],\n",
       " [643, 2, 638],\n",
       " [644, 2, 639],\n",
       " [645, 2, 640],\n",
       " [646, 2, 641],\n",
       " [647, 2, 642],\n",
       " [648, 2, 643],\n",
       " [649, 2, 644],\n",
       " [650, 2, 645],\n",
       " [651, 2, 646],\n",
       " [652, 2, 647],\n",
       " [653, 2, 648],\n",
       " [654, 2, 649],\n",
       " [655, 2, 650],\n",
       " [656, 2, 651],\n",
       " [657, 2, 652],\n",
       " [658, 2, 653],\n",
       " [659, 2, 654],\n",
       " [660, 2, 655],\n",
       " [661, 2, 656],\n",
       " [662, 2, 657],\n",
       " [663, 2, 658],\n",
       " [664, 2, 659],\n",
       " [665, 2, 660],\n",
       " [666, 2, 661],\n",
       " [667, 2, 662],\n",
       " [668, 2, 663],\n",
       " [669, 2, 664],\n",
       " [670, 2, 665],\n",
       " [671, 2, 666],\n",
       " [672, 2, 667],\n",
       " [673, 2, 668],\n",
       " [674, 2, 669],\n",
       " [675, 2, 670],\n",
       " [676, 2, 671],\n",
       " [677, 2, 672],\n",
       " [678, 2, 673],\n",
       " [679, 2, 674],\n",
       " [680, 2, 675],\n",
       " [681, 2, 676],\n",
       " [682, 2, 677],\n",
       " [683, 2, 678],\n",
       " [684, 2, 679],\n",
       " [685, 2, 680],\n",
       " [686, 2, 681],\n",
       " [687, 2, 682],\n",
       " [688, 2, 683],\n",
       " [689, 2, 684],\n",
       " [690, 2, 685],\n",
       " [691, 2, 686],\n",
       " [692, 2, 687],\n",
       " [693, 2, 688],\n",
       " [694, 2, 689],\n",
       " [695, 2, 690],\n",
       " [696, 2, 691],\n",
       " [697, 2, 692],\n",
       " [698, 2, 693],\n",
       " [699, 2, 694],\n",
       " [700, 2, 695],\n",
       " [701, 2, 696],\n",
       " [702, 2, 697],\n",
       " [703, 2, 698],\n",
       " [704, 2, 699],\n",
       " [705, 2, 700],\n",
       " [706, 2, 701],\n",
       " [707, 1, 702],\n",
       " [708, 2, 703],\n",
       " [709, 1, 704],\n",
       " [710, 2, 705],\n",
       " [711, 2, 706],\n",
       " [712, 2, 707],\n",
       " [713, 1, 708],\n",
       " [714, 1, 709],\n",
       " [715, 2, 710],\n",
       " [716, 2, 711],\n",
       " [717, 2, 712],\n",
       " [718, 2, 713],\n",
       " [719, 2, 714],\n",
       " [720, 2, 715],\n",
       " [721, 2, 716],\n",
       " [722, 2, 717],\n",
       " [723, 2, 718],\n",
       " [724, 2, 719],\n",
       " [725, 2, 720],\n",
       " [726, 2, 721],\n",
       " [727, 2, 722],\n",
       " [728, 2, 723],\n",
       " [729, 2, 724],\n",
       " [730, 2, 725],\n",
       " [731, 2, 726],\n",
       " [732, 2, 727],\n",
       " [733, 2, 728],\n",
       " [734, 2, 729],\n",
       " [735, 2, 730],\n",
       " [736, 2, 731],\n",
       " [737, 2, 732],\n",
       " [738, 2, 733],\n",
       " [739, 2, 734],\n",
       " [740, 2, 735],\n",
       " [741, 2, 736],\n",
       " [742, 2, 737],\n",
       " [743, 2, 738],\n",
       " [744, 2, 739],\n",
       " [745, 2, 740],\n",
       " [746, 2, 741],\n",
       " [747, 2, 742],\n",
       " [748, 2, 743],\n",
       " [749, 2, 744],\n",
       " [750, 2, 745],\n",
       " [751, 2, 746],\n",
       " [752, 2, 747],\n",
       " [753, 2, 748],\n",
       " [754, 2, 749],\n",
       " [755, 2, 750],\n",
       " [756, 2, 751],\n",
       " [757, 2, 752],\n",
       " [758, 1, 753],\n",
       " [759, 2, 754],\n",
       " [760, 1, 755],\n",
       " [761, 5, 755],\n",
       " [762, 2, 756],\n",
       " [763, 2, 757],\n",
       " [764, 2, 758],\n",
       " [765, 2, 759],\n",
       " [766, 2, 760],\n",
       " [767, 2, 761],\n",
       " [768, 2, 762],\n",
       " [769, 2, 763],\n",
       " [770, 2, 764],\n",
       " [771, 2, 765],\n",
       " [772, 2, 766],\n",
       " [773, 2, 767],\n",
       " [774, 2, 768],\n",
       " [775, 2, 769],\n",
       " [776, 2, 770],\n",
       " [777, 2, 771],\n",
       " [778, 2, 772],\n",
       " [779, 2, 773],\n",
       " [780, 2, 774],\n",
       " [781, 2, 775],\n",
       " [782, 2, 776],\n",
       " [783, 2, 777],\n",
       " [784, 2, 778],\n",
       " [785, 2, 779],\n",
       " [786, 2, 780],\n",
       " [787, 2, 781],\n",
       " [788, 2, 782],\n",
       " [789, 2, 783],\n",
       " [790, 2, 784],\n",
       " [791, 2, 785],\n",
       " [792, 2, 786],\n",
       " [793, 2, 787],\n",
       " [794, 2, 788],\n",
       " [795, 2, 789],\n",
       " [796, 2, 790],\n",
       " [797, 2, 791],\n",
       " [798, 2, 792],\n",
       " [799, 1, 793],\n",
       " [800, 2, 794],\n",
       " [801, 2, 795],\n",
       " [802, 2, 796],\n",
       " [803, 2, 797],\n",
       " [804, 2, 798],\n",
       " [805, 2, 799],\n",
       " [806, 2, 800],\n",
       " [807, 2, 801],\n",
       " [808, 2, 802],\n",
       " [809, 2, 803],\n",
       " [810, 2, 804],\n",
       " [811, 2, 805],\n",
       " [812, 2, 806],\n",
       " [813, 2, 807],\n",
       " [814, 2, 808],\n",
       " [815, 2, 809],\n",
       " [816, 2, 810],\n",
       " [817, 2, 811],\n",
       " [818, 2, 812],\n",
       " [819, 2, 813],\n",
       " [820, 2, 814],\n",
       " [821, 2, 815],\n",
       " [822, 2, 816],\n",
       " [823, 2, 817],\n",
       " [824, 2, 818],\n",
       " [825, 2, 819],\n",
       " [826, 2, 820],\n",
       " [827, 2, 821],\n",
       " [828, 2, 822],\n",
       " [829, 2, 823],\n",
       " [830, 2, 824],\n",
       " [831, 2, 825],\n",
       " [832, 2, 826],\n",
       " [833, 2, 827],\n",
       " [834, 2, 828],\n",
       " [835, 1, 829],\n",
       " [836, 2, 830],\n",
       " [837, 2, 831],\n",
       " [838, 1, 832],\n",
       " [839, 2, 833],\n",
       " [840, 2, 834],\n",
       " [841, 2, 835],\n",
       " [842, 2, 836],\n",
       " [843, 2, 837],\n",
       " [844, 2, 838],\n",
       " [845, 2, 839],\n",
       " [846, 2, 840],\n",
       " [847, 2, 841],\n",
       " [848, 2, 842],\n",
       " [849, 2, 843],\n",
       " [850, 2, 844],\n",
       " [851, 2, 845],\n",
       " [852, 2, 846],\n",
       " [853, 2, 847],\n",
       " [854, 2, 848],\n",
       " [855, 2, 849],\n",
       " [856, 2, 850],\n",
       " [857, 2, 851],\n",
       " [858, 2, 852],\n",
       " [859, 1, 853],\n",
       " [860, 2, 854],\n",
       " [861, 2, 855],\n",
       " [862, 2, 856],\n",
       " [863, 2, 857],\n",
       " [864, 2, 858],\n",
       " [865, 2, 859],\n",
       " [866, 2, 860],\n",
       " [867, 2, 861],\n",
       " [868, 2, 862],\n",
       " [869, 1, 863],\n",
       " [870, 2, 864],\n",
       " [871, 2, 865],\n",
       " [872, 2, 866],\n",
       " [873, 2, 867],\n",
       " [874, 2, 868],\n",
       " [875, 2, 869],\n",
       " [876, 2, 870],\n",
       " [877, 2, 871],\n",
       " [878, 2, 872],\n",
       " [879, 2, 873],\n",
       " [880, 2, 874],\n",
       " [881, 2, 875],\n",
       " [882, 2, 876],\n",
       " [883, 2, 877],\n",
       " [884, 2, 878],\n",
       " [885, 2, 879],\n",
       " [886, 2, 880],\n",
       " [887, 2, 881],\n",
       " [888, 1, 882],\n",
       " [889, 2, 883],\n",
       " [890, 2, 884],\n",
       " [891, 2, 885],\n",
       " [892, 2, 886],\n",
       " [893, 2, 887],\n",
       " [894, 2, 888],\n",
       " [895, 2, 889],\n",
       " [896, 2, 890],\n",
       " [897, 2, 891],\n",
       " [898, 2, 892],\n",
       " [899, 2, 893],\n",
       " [900, 2, 894],\n",
       " [901, 2, 895],\n",
       " [902, 2, 896],\n",
       " [903, 2, 897],\n",
       " [904, 2, 898],\n",
       " [905, 2, 899],\n",
       " [906, 2, 900],\n",
       " [907, 2, 901],\n",
       " [908, 2, 902],\n",
       " [909, 2, 903],\n",
       " [910, 2, 904],\n",
       " [911, 2, 905],\n",
       " [912, 2, 906],\n",
       " [913, 2, 907],\n",
       " [914, 2, 908],\n",
       " [915, 2, 909],\n",
       " [916, 2, 910],\n",
       " [917, 2, 911],\n",
       " [918, 2, 912],\n",
       " [919, 2, 913],\n",
       " [920, 2, 914],\n",
       " [921, 2, 915],\n",
       " [922, 2, 916],\n",
       " [923, 2, 917],\n",
       " [924, 1, 918],\n",
       " [925, 2, 919],\n",
       " [926, 2, 920],\n",
       " [927, 2, 921],\n",
       " [928, 1, 922],\n",
       " [929, 2, 923],\n",
       " [930, 2, 924],\n",
       " [931, 2, 925],\n",
       " [932, 2, 926],\n",
       " [933, 2, 927],\n",
       " [934, 2, 928],\n",
       " [935, 2, 929],\n",
       " [936, 2, 930],\n",
       " [937, 2, 931],\n",
       " [938, 2, 932],\n",
       " [939, 2, 933],\n",
       " [940, 2, 934],\n",
       " [941, 2, 935],\n",
       " [942, 2, 936],\n",
       " [943, 2, 937],\n",
       " [944, 2, 938],\n",
       " [945, 2, 939],\n",
       " [946, 2, 940],\n",
       " [947, 2, 941],\n",
       " [948, 2, 942],\n",
       " [949, 2, 943],\n",
       " [950, 2, 944],\n",
       " [951, 2, 945],\n",
       " [952, 2, 946],\n",
       " [953, 2, 947],\n",
       " [954, 2, 948],\n",
       " [955, 2, 949],\n",
       " [956, 2, 950],\n",
       " [957, 2, 951],\n",
       " [958, 2, 952],\n",
       " [959, 2, 953],\n",
       " [960, 2, 954],\n",
       " [961, 2, 955],\n",
       " [962, 2, 956],\n",
       " [963, 2, 957],\n",
       " [964, 2, 958],\n",
       " [965, 2, 959],\n",
       " [966, 2, 960],\n",
       " [967, 2, 961],\n",
       " [968, 2, 962],\n",
       " [969, 2, 963],\n",
       " [970, 2, 964],\n",
       " [971, 2, 965],\n",
       " [972, 2, 966],\n",
       " [973, 2, 967],\n",
       " [974, 2, 968],\n",
       " [975, 2, 969],\n",
       " [976, 2, 970],\n",
       " [977, 2, 971],\n",
       " [978, 2, 972],\n",
       " [979, 2, 973],\n",
       " [980, 2, 974],\n",
       " [981, 2, 975],\n",
       " [982, 1, 976],\n",
       " [983, 2, 977],\n",
       " [984, 2, 978],\n",
       " [985, 2, 979],\n",
       " [986, 2, 980],\n",
       " [987, 2, 981],\n",
       " [988, 2, 982],\n",
       " [989, 2, 983],\n",
       " [990, 2, 984],\n",
       " [991, 2, 985],\n",
       " [992, 2, 986],\n",
       " [993, 2, 987],\n",
       " [994, 2, 988],\n",
       " [995, 2, 989],\n",
       " [996, 2, 990],\n",
       " [997, 2, 991],\n",
       " [998, 2, 992],\n",
       " [999, 2, 993],\n",
       " [1000, 2, 994],\n",
       " ...]"
      ]
     },
     "execution_count": 64,
     "metadata": {},
     "output_type": "execute_result"
    }
   ],
   "source": [
    "TagCatagory_TagList"
   ]
  },
  {
   "cell_type": "markdown",
   "metadata": {
    "colab_type": "text",
    "id": "7pR6fsSC8RIC"
   },
   "source": [
    "# Tagging dataframe"
   ]
  },
  {
   "cell_type": "code",
   "execution_count": 65,
   "metadata": {
    "colab": {},
    "colab_type": "code",
    "id": "17-vZTCY2BaY"
   },
   "outputs": [],
   "source": [
    "def list2tuplelist(list):\n",
    "    tuplelist=[]\n",
    "    for row in list:\n",
    "        tuplelist.append(tuple(row))\n",
    "    return tuplelist"
   ]
  },
  {
   "cell_type": "code",
   "execution_count": 66,
   "metadata": {
    "colab": {},
    "colab_type": "code",
    "id": "9mwa-YK-2WGg"
   },
   "outputs": [],
   "source": [
    "labels=[\"tagID\"]\n",
    "DomainTag=pd.DataFrame.from_records(list2tuplelist(DomainTagList),columns=labels)"
   ]
  },
  {
   "cell_type": "code",
   "execution_count": 67,
   "metadata": {
    "colab": {
     "base_uri": "https://localhost:8080/",
     "height": 204
    },
    "colab_type": "code",
    "executionInfo": {
     "elapsed": 516,
     "status": "ok",
     "timestamp": 1556269618944,
     "user": {
      "displayName": "Jing Wang",
      "photoUrl": "",
      "userId": "06552028597999080834"
     },
     "user_tz": 240
    },
    "id": "3x4-XiIW5YFc",
    "outputId": "dc598021-cc0e-4dcf-d1cb-6fe81839ac89"
   },
   "outputs": [
    {
     "data": {
      "text/html": [
       "<div>\n",
       "<style scoped>\n",
       "    .dataframe tbody tr th:only-of-type {\n",
       "        vertical-align: middle;\n",
       "    }\n",
       "\n",
       "    .dataframe tbody tr th {\n",
       "        vertical-align: top;\n",
       "    }\n",
       "\n",
       "    .dataframe thead th {\n",
       "        text-align: right;\n",
       "    }\n",
       "</style>\n",
       "<table border=\"1\" class=\"dataframe\">\n",
       "  <thead>\n",
       "    <tr style=\"text-align: right;\">\n",
       "      <th></th>\n",
       "      <th>tagID</th>\n",
       "    </tr>\n",
       "  </thead>\n",
       "  <tbody>\n",
       "    <tr>\n",
       "      <th>0</th>\n",
       "      <td>2553</td>\n",
       "    </tr>\n",
       "    <tr>\n",
       "      <th>1</th>\n",
       "      <td>2571</td>\n",
       "    </tr>\n",
       "    <tr>\n",
       "      <th>2</th>\n",
       "      <td>2571</td>\n",
       "    </tr>\n",
       "    <tr>\n",
       "      <th>3</th>\n",
       "      <td>2613</td>\n",
       "    </tr>\n",
       "    <tr>\n",
       "      <th>4</th>\n",
       "      <td>2656</td>\n",
       "    </tr>\n",
       "  </tbody>\n",
       "</table>\n",
       "</div>"
      ],
      "text/plain": [
       "   tagID\n",
       "0   2553\n",
       "1   2571\n",
       "2   2571\n",
       "3   2613\n",
       "4   2656"
      ]
     },
     "execution_count": 67,
     "metadata": {},
     "output_type": "execute_result"
    }
   ],
   "source": [
    "DomainTag.head()"
   ]
  },
  {
   "cell_type": "code",
   "execution_count": 82,
   "metadata": {
    "colab": {},
    "colab_type": "code",
    "id": "OVSE2TNM5gEQ"
   },
   "outputs": [],
   "source": [
    "labels=[\"tagID1\",\"tagID2\"]\n",
    "SynonymsTag=pd.DataFrame.from_records(list2tuplelist(SynonymsTagList),columns=labels)"
   ]
  },
  {
   "cell_type": "code",
   "execution_count": 83,
   "metadata": {
    "colab": {
     "base_uri": "https://localhost:8080/",
     "height": 204
    },
    "colab_type": "code",
    "executionInfo": {
     "elapsed": 312,
     "status": "ok",
     "timestamp": 1556269739245,
     "user": {
      "displayName": "Jing Wang",
      "photoUrl": "",
      "userId": "06552028597999080834"
     },
     "user_tz": 240
    },
    "id": "LRZ1dWZt50JZ",
    "outputId": "34d02d05-7fd9-404a-cd85-f29ca8c53eae"
   },
   "outputs": [
    {
     "data": {
      "text/html": [
       "<div>\n",
       "<style scoped>\n",
       "    .dataframe tbody tr th:only-of-type {\n",
       "        vertical-align: middle;\n",
       "    }\n",
       "\n",
       "    .dataframe tbody tr th {\n",
       "        vertical-align: top;\n",
       "    }\n",
       "\n",
       "    .dataframe thead th {\n",
       "        text-align: right;\n",
       "    }\n",
       "</style>\n",
       "<table border=\"1\" class=\"dataframe\">\n",
       "  <thead>\n",
       "    <tr style=\"text-align: right;\">\n",
       "      <th></th>\n",
       "      <th>tagID1</th>\n",
       "      <th>tagID2</th>\n",
       "    </tr>\n",
       "  </thead>\n",
       "  <tbody>\n",
       "    <tr>\n",
       "      <th>0</th>\n",
       "      <td>1</td>\n",
       "      <td>55</td>\n",
       "    </tr>\n",
       "    <tr>\n",
       "      <th>1</th>\n",
       "      <td>1</td>\n",
       "      <td>102</td>\n",
       "    </tr>\n",
       "    <tr>\n",
       "      <th>2</th>\n",
       "      <td>1</td>\n",
       "      <td>2649</td>\n",
       "    </tr>\n",
       "    <tr>\n",
       "      <th>3</th>\n",
       "      <td>1</td>\n",
       "      <td>2650</td>\n",
       "    </tr>\n",
       "    <tr>\n",
       "      <th>4</th>\n",
       "      <td>1</td>\n",
       "      <td>2651</td>\n",
       "    </tr>\n",
       "  </tbody>\n",
       "</table>\n",
       "</div>"
      ],
      "text/plain": [
       "   tagID1  tagID2\n",
       "0       1      55\n",
       "1       1     102\n",
       "2       1    2649\n",
       "3       1    2650\n",
       "4       1    2651"
      ]
     },
     "execution_count": 83,
     "metadata": {},
     "output_type": "execute_result"
    }
   ],
   "source": [
    "SynonymsTag.head()"
   ]
  },
  {
   "cell_type": "code",
   "execution_count": 70,
   "metadata": {
    "colab": {},
    "colab_type": "code",
    "id": "RKaB-0r_57v5"
   },
   "outputs": [],
   "source": [
    "labels=[\"tagID1\",\"tagID2\"]\n",
    "MisspellingsTag=pd.DataFrame.from_records(list2tuplelist(MisspellingsTagList),columns=labels)"
   ]
  },
  {
   "cell_type": "code",
   "execution_count": 71,
   "metadata": {
    "colab": {
     "base_uri": "https://localhost:8080/",
     "height": 142
    },
    "colab_type": "code",
    "executionInfo": {
     "elapsed": 330,
     "status": "ok",
     "timestamp": 1556269789996,
     "user": {
      "displayName": "Jing Wang",
      "photoUrl": "",
      "userId": "06552028597999080834"
     },
     "user_tz": 240
    },
    "id": "IOJ4m3l76FFK",
    "outputId": "d5eace17-1aed-4478-a1cc-4a47ed68956a"
   },
   "outputs": [
    {
     "data": {
      "text/html": [
       "<div>\n",
       "<style scoped>\n",
       "    .dataframe tbody tr th:only-of-type {\n",
       "        vertical-align: middle;\n",
       "    }\n",
       "\n",
       "    .dataframe tbody tr th {\n",
       "        vertical-align: top;\n",
       "    }\n",
       "\n",
       "    .dataframe thead th {\n",
       "        text-align: right;\n",
       "    }\n",
       "</style>\n",
       "<table border=\"1\" class=\"dataframe\">\n",
       "  <thead>\n",
       "    <tr style=\"text-align: right;\">\n",
       "      <th></th>\n",
       "      <th>tagID1</th>\n",
       "      <th>tagID2</th>\n",
       "    </tr>\n",
       "  </thead>\n",
       "  <tbody>\n",
       "    <tr>\n",
       "      <th>0</th>\n",
       "      <td>37</td>\n",
       "      <td>1</td>\n",
       "    </tr>\n",
       "    <tr>\n",
       "      <th>1</th>\n",
       "      <td>2613</td>\n",
       "      <td>1</td>\n",
       "    </tr>\n",
       "    <tr>\n",
       "      <th>2</th>\n",
       "      <td>2689</td>\n",
       "      <td>1</td>\n",
       "    </tr>\n",
       "    <tr>\n",
       "      <th>3</th>\n",
       "      <td>16</td>\n",
       "      <td>2</td>\n",
       "    </tr>\n",
       "    <tr>\n",
       "      <th>4</th>\n",
       "      <td>2626</td>\n",
       "      <td>2</td>\n",
       "    </tr>\n",
       "  </tbody>\n",
       "</table>\n",
       "</div>"
      ],
      "text/plain": [
       "   tagID1  tagID2\n",
       "0      37       1\n",
       "1    2613       1\n",
       "2    2689       1\n",
       "3      16       2\n",
       "4    2626       2"
      ]
     },
     "execution_count": 71,
     "metadata": {},
     "output_type": "execute_result"
    }
   ],
   "source": [
    "MisspellingsTag.head()"
   ]
  },
  {
   "cell_type": "code",
   "execution_count": 72,
   "metadata": {
    "colab": {},
    "colab_type": "code",
    "id": "MK9eoIWG6H9i"
   },
   "outputs": [],
   "source": [
    "labels=[\"trtID\",\"TagCatagorycatagoryID\",\"TagTagID\"]\n",
    "TagCatagory_Tag=pd.DataFrame.from_records(list2tuplelist(TagCatagory_TagList),columns=labels)"
   ]
  },
  {
   "cell_type": "code",
   "execution_count": 73,
   "metadata": {
    "colab": {
     "base_uri": "https://localhost:8080/",
     "height": 204
    },
    "colab_type": "code",
    "executionInfo": {
     "elapsed": 320,
     "status": "ok",
     "timestamp": 1556269903424,
     "user": {
      "displayName": "Jing Wang",
      "photoUrl": "",
      "userId": "06552028597999080834"
     },
     "user_tz": 240
    },
    "id": "iU_zdTZd6g-z",
    "outputId": "b363a8a4-54aa-4225-b8d2-397a724d88aa"
   },
   "outputs": [
    {
     "data": {
      "text/html": [
       "<div>\n",
       "<style scoped>\n",
       "    .dataframe tbody tr th:only-of-type {\n",
       "        vertical-align: middle;\n",
       "    }\n",
       "\n",
       "    .dataframe tbody tr th {\n",
       "        vertical-align: top;\n",
       "    }\n",
       "\n",
       "    .dataframe thead th {\n",
       "        text-align: right;\n",
       "    }\n",
       "</style>\n",
       "<table border=\"1\" class=\"dataframe\">\n",
       "  <thead>\n",
       "    <tr style=\"text-align: right;\">\n",
       "      <th></th>\n",
       "      <th>trtID</th>\n",
       "      <th>TagCatagorycatagoryID</th>\n",
       "      <th>TagTagID</th>\n",
       "    </tr>\n",
       "  </thead>\n",
       "  <tbody>\n",
       "    <tr>\n",
       "      <th>0</th>\n",
       "      <td>1</td>\n",
       "      <td>1</td>\n",
       "      <td>1</td>\n",
       "    </tr>\n",
       "    <tr>\n",
       "      <th>1</th>\n",
       "      <td>2</td>\n",
       "      <td>1</td>\n",
       "      <td>2</td>\n",
       "    </tr>\n",
       "    <tr>\n",
       "      <th>2</th>\n",
       "      <td>3</td>\n",
       "      <td>2</td>\n",
       "      <td>3</td>\n",
       "    </tr>\n",
       "    <tr>\n",
       "      <th>3</th>\n",
       "      <td>4</td>\n",
       "      <td>2</td>\n",
       "      <td>4</td>\n",
       "    </tr>\n",
       "    <tr>\n",
       "      <th>4</th>\n",
       "      <td>5</td>\n",
       "      <td>2</td>\n",
       "      <td>5</td>\n",
       "    </tr>\n",
       "  </tbody>\n",
       "</table>\n",
       "</div>"
      ],
      "text/plain": [
       "   trtID  TagCatagorycatagoryID  TagTagID\n",
       "0      1                      1         1\n",
       "1      2                      1         2\n",
       "2      3                      2         3\n",
       "3      4                      2         4\n",
       "4      5                      2         5"
      ]
     },
     "execution_count": 73,
     "metadata": {},
     "output_type": "execute_result"
    }
   ],
   "source": [
    "TagCatagory_Tag.head()"
   ]
  },
  {
   "cell_type": "code",
   "execution_count": 74,
   "metadata": {
    "colab": {},
    "colab_type": "code",
    "id": "5LQ98fee6jrX"
   },
   "outputs": [],
   "source": [
    "labels=[\"catagoryID\",\"catagoryName\"]\n",
    "TagCatagory=pd.DataFrame.from_records(list2tuplelist(TagCatagoryList),columns=labels)"
   ]
  },
  {
   "cell_type": "code",
   "execution_count": 75,
   "metadata": {
    "colab": {
     "base_uri": "https://localhost:8080/",
     "height": 204
    },
    "colab_type": "code",
    "executionInfo": {
     "elapsed": 302,
     "status": "ok",
     "timestamp": 1556269975288,
     "user": {
      "displayName": "Jing Wang",
      "photoUrl": "",
      "userId": "06552028597999080834"
     },
     "user_tz": 240
    },
    "id": "lESY4b0J6zC2",
    "outputId": "04f968f3-b256-4bd5-d11c-3aecf0a992cb"
   },
   "outputs": [
    {
     "data": {
      "text/html": [
       "<div>\n",
       "<style scoped>\n",
       "    .dataframe tbody tr th:only-of-type {\n",
       "        vertical-align: middle;\n",
       "    }\n",
       "\n",
       "    .dataframe tbody tr th {\n",
       "        vertical-align: top;\n",
       "    }\n",
       "\n",
       "    .dataframe thead th {\n",
       "        text-align: right;\n",
       "    }\n",
       "</style>\n",
       "<table border=\"1\" class=\"dataframe\">\n",
       "  <thead>\n",
       "    <tr style=\"text-align: right;\">\n",
       "      <th></th>\n",
       "      <th>catagoryID</th>\n",
       "      <th>catagoryName</th>\n",
       "    </tr>\n",
       "  </thead>\n",
       "  <tbody>\n",
       "    <tr>\n",
       "      <th>0</th>\n",
       "      <td>1</td>\n",
       "      <td>hashtag</td>\n",
       "    </tr>\n",
       "    <tr>\n",
       "      <th>1</th>\n",
       "      <td>2</td>\n",
       "      <td>mention</td>\n",
       "    </tr>\n",
       "    <tr>\n",
       "      <th>2</th>\n",
       "      <td>3</td>\n",
       "      <td>domaintag</td>\n",
       "    </tr>\n",
       "    <tr>\n",
       "      <th>3</th>\n",
       "      <td>4</td>\n",
       "      <td>synonymstag</td>\n",
       "    </tr>\n",
       "    <tr>\n",
       "      <th>4</th>\n",
       "      <td>5</td>\n",
       "      <td>misspellingstag</td>\n",
       "    </tr>\n",
       "  </tbody>\n",
       "</table>\n",
       "</div>"
      ],
      "text/plain": [
       "   catagoryID     catagoryName\n",
       "0           1          hashtag\n",
       "1           2          mention\n",
       "2           3        domaintag\n",
       "3           4      synonymstag\n",
       "4           5  misspellingstag"
      ]
     },
     "execution_count": 75,
     "metadata": {},
     "output_type": "execute_result"
    }
   ],
   "source": [
    "TagCatagory.head()"
   ]
  },
  {
   "cell_type": "markdown",
   "metadata": {
    "colab_type": "text",
    "id": "YPebRUNNoZP8"
   },
   "source": [
    "# to csv"
   ]
  },
  {
   "cell_type": "code",
   "execution_count": 84,
   "metadata": {
    "colab": {},
    "colab_type": "code",
    "id": "l-qxb4WUdmQl"
   },
   "outputs": [],
   "source": [
    "#Player = pd.DataFrame(columns = [\"personID\"])\n",
    "Player.to_csv(r'Player.csv',index=False, encoding=\"utf-8-sig\")\n",
    "#Player_Fan = pd.DataFrame(columns = [\"prfID\", \"PlayerpersonID\", \"FanpersonID\"])\n",
    "Player_Fan.to_csv(r'Player_Fan.csv',index=False, encoding=\"utf-8-sig\")\n",
    "#Fan = pd.DataFrame(columns = [\"personID\"])\n",
    "Fan.to_csv(r'Fan.csv',index=False, encoding=\"utf-8-sig\")\n",
    "#Fan_Team = pd.DataFrame(columns = [\"frtID\", \"FanpersonID\", \"TeamteamID\"])\n",
    "Fan_Team.to_csv(r'Fan_Team.csv',index=False, encoding=\"utf-8-sig\")\n",
    "#Person = pd.DataFrame(columns = [\"personID\", \"personName\", \"locationID\"])\n",
    "Person.to_csv(r'Person.csv',index=False, encoding=\"utf-8-sig\")\n",
    "#Team = pd.DataFrame(columns = [\"teamID\", \"teamName\", \"locationID\"])\n",
    "Team.to_csv(r'Team.csv',index=False, encoding=\"utf-8-sig\")\n",
    "#Person_SNSUser = pd.DataFrame(columns = [\"prsID\", \"PersonpersonID\", \"SNSUserSNSUserID\"])\n",
    "Person_SNSUser.to_csv(r'Person_SNSUser.csv',index=False, encoding=\"utf-8-sig\")\n",
    "#Location = pd.DataFrame(columns = [\"locationID\", \"locationName\"])\n",
    "Location.to_csv(r'Location.csv',index=False, encoding=\"utf-8-sig\")\n",
    "#Team_SNSUser = pd.DataFrame(columns = [\"trsID\", \"TeamteamID\", \"SNSUserSNSUserID\"])\n",
    "Team_SNSUser.to_csv(r'Team_SNSUser.csv',index=False, encoding=\"utf-8-sig\")\n",
    "#SNSUser = pd.DataFrame(columns = [\"SNSUserID\", \"SNSType\", \"accountID\", \"userName\", \"followersCount\", \"postsCount\"])\n",
    "SNSUser.to_csv(r'SNSUser.csv',index=False, encoding=\"utf-8-sig\")\n",
    "#Post = pd.DataFrame(columns = [\"SNSpostID\", \"postID\", \"SNSUserID\", \"content\", \"favoriteCount\", \"createdTime\"])\n",
    "Post.to_csv(r'Post.csv',index=False, encoding=\"utf-8-sig\")\n",
    "#Post_Tag = pd.DataFrame(columns = [\"prtID\", \"PostSNSpostID\", \"TagTagID\"])\n",
    "Post_Tag.to_csv(r'Post_Tag.csv',index=False, encoding=\"utf-8-sig\")\n",
    "#Tag = pd.DataFrame(columns = [\"tagID\", \"tagText\", \"tagType\"])\n",
    "Tag.to_csv(r'Tag.csv',index=False, encoding=\"utf-8-sig\")\n",
    "#DomainTag = pd.DataFrame(columns = [\"tagID\"])\n",
    "DomainTag.to_csv(r'DomainTag.csv',index=False, encoding=\"utf-8-sig\")\n",
    "#SynonymsTag = pd.DataFrame(columns = [\"tagID1\", \"tagID2\"])\n",
    "SynonymsTag.to_csv(r'SynonymsTag.csv',index=False, encoding=\"utf-8-sig\")\n",
    "#MisspellingsTag = pd.DataFrame(columns = [\"tagID1\", \"tagID2\"])\n",
    "MisspellingsTag.to_csv(r'MisspellingsTag.csv',index=False, encoding=\"utf-8-sig\")\n",
    "#TagCatagory_Tag = pd.DataFrame(columns = [\"trtID\", \"TagCatagorycatagoryID\", \"TagTagID\"])\n",
    "TagCatagory_Tag.to_csv(r'TagCatagory_Tag.csv',index=False, encoding=\"utf-8-sig\")\n",
    "#TagCatagory = pd.DataFrame(columns = [\"catagoryID\", \"catagoryName\"])\n",
    "TagCatagory.to_csv(r'TagCatagory.csv',index=False, encoding=\"utf-8-sig\")"
   ]
  },
  {
   "cell_type": "code",
   "execution_count": null,
   "metadata": {},
   "outputs": [],
   "source": []
  }
 ],
 "metadata": {
  "colab": {
   "collapsed_sections": [
    "g_psRfeZdmRx",
    "q9UwSllQdmSD",
    "VKUime-UdmST",
    "MTJlLQIadmSu",
    "1TX4sQ8RdmTC",
    "XuaDQERZdmTS",
    "wSN1dQN3dmTp",
    "D8IJv9EFdmT6",
    "_294moV1dmUE"
   ],
   "name": "Project Editing.ipynb",
   "provenance": [],
   "version": "0.3.2"
  },
  "kernelspec": {
   "display_name": "Python 3",
   "language": "python",
   "name": "python3"
  },
  "language_info": {
   "codemirror_mode": {
    "name": "ipython",
    "version": 3
   },
   "file_extension": ".py",
   "mimetype": "text/x-python",
   "name": "python",
   "nbconvert_exporter": "python",
   "pygments_lexer": "ipython3",
   "version": "3.7.1"
  }
 },
 "nbformat": 4,
 "nbformat_minor": 1
}
