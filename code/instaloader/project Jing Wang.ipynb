{
 "cells": [
  {
   "cell_type": "markdown",
   "metadata": {},
   "source": [
    "# import libraries and setting instaloader"
   ]
  },
  {
   "cell_type": "code",
   "execution_count": 1,
   "metadata": {},
   "outputs": [],
   "source": [
    "import instaloader\n",
    "import datetime\n",
    "import warnings\n",
    "import time\n",
    "warnings.filterwarnings(\"ignore\")\n",
    "import time\n",
    "from instaloader import Instaloader,Profile\n",
    "L=Instaloader()"
   ]
  },
  {
   "cell_type": "markdown",
   "metadata": {},
   "source": [
    "# define API functions"
   ]
  },
  {
   "cell_type": "code",
   "execution_count": 2,
   "metadata": {},
   "outputs": [],
   "source": [
    "#username to profile#\n",
    "def anyname2user(anyname):\n",
    "    if type(anyname)==int:\n",
    "        profile=Profile.from_id(L.context,anyname)\n",
    "    else:\n",
    "        profile=Profile.from_username(L.context,anyname)\n",
    "    return profile"
   ]
  },
  {
   "cell_type": "code",
   "execution_count": 3,
   "metadata": {},
   "outputs": [],
   "source": [
    "#username to userid#\n",
    "def user2accountid(user):\n",
    "    userid=user.userid\n",
    "    return userid"
   ]
  },
  {
   "cell_type": "code",
   "execution_count": 4,
   "metadata": {},
   "outputs": [],
   "source": [
    "#userid to personname#\n",
    "def user2name(user):\n",
    "    personname=user.full_name\n",
    "    return personname\n",
    "    "
   ]
  },
  {
   "cell_type": "code",
   "execution_count": 5,
   "metadata": {},
   "outputs": [],
   "source": [
    "#userid to username#\n",
    "def user2username(user):\n",
    "    username=user.username\n",
    "    return username"
   ]
  },
  {
   "cell_type": "code",
   "execution_count": 6,
   "metadata": {},
   "outputs": [],
   "source": [
    "#userid to followerscount#\n",
    "def user2followerscount(user):\n",
    "    followerscount=user.followers\n",
    "    return followerscount"
   ]
  },
  {
   "cell_type": "code",
   "execution_count": 7,
   "metadata": {},
   "outputs": [],
   "source": [
    "#userid to postscount#\n",
    "def user2postscount(user):\n",
    "    postscount=user.mediacount\n",
    "    return postscount"
   ]
  },
  {
   "cell_type": "code",
   "execution_count": 8,
   "metadata": {},
   "outputs": [],
   "source": [
    "#post to postid#\n",
    "def post2postid(post):\n",
    "    postid=post.mediaid\n",
    "    return postid"
   ]
  },
  {
   "cell_type": "code",
   "execution_count": 9,
   "metadata": {},
   "outputs": [],
   "source": [
    "#post to snsuserid#\n",
    "def post2snsuserid(post):\n",
    "    snsuserid=post.owner_id\n",
    "    return snsuserid"
   ]
  },
  {
   "cell_type": "code",
   "execution_count": 10,
   "metadata": {},
   "outputs": [],
   "source": [
    "#post to content#\n",
    "def post2content(post):\n",
    "    if len(list(post.get_comments())) ==0:\n",
    "        content=\" \"\n",
    "    else:\n",
    "        content=list(post.get_comments())[0].text\n",
    "    return content"
   ]
  },
  {
   "cell_type": "code",
   "execution_count": 11,
   "metadata": {},
   "outputs": [],
   "source": [
    "#post to favorite count#\n",
    "def post2favoritecount(post):\n",
    "    favoritecount=post.likes\n",
    "    return favoritecount"
   ]
  },
  {
   "cell_type": "code",
   "execution_count": 12,
   "metadata": {},
   "outputs": [],
   "source": [
    "#post to createdtime#\n",
    "def post2createdtime(post):\n",
    "    createdtime=post.date_utc\n",
    "    return createdtime"
   ]
  },
  {
   "cell_type": "code",
   "execution_count": 13,
   "metadata": {},
   "outputs": [],
   "source": [
    "#user to locationname#\n",
    "def user2locationname(user):\n",
    "    postslist=list(user.get_posts())\n",
    "    Locationname = \" \"\n",
    "    x=0\n",
    "    timenow=datetime.datetime.now()\n",
    "    start=time.clock()\n",
    "    for post in postslist:\n",
    "        x=x+1\n",
    "        timeused=time.clock()-start\n",
    "        if timeused>5:\n",
    "            Locationname = \" \"\n",
    "            break\n",
    "        if hasattr(post, 'location'):\n",
    "            if hasattr(post.location, 'name'):\n",
    "                locationname=post.location.name\n",
    "                break\n",
    "        if x==5:\n",
    "            Locationname = \" \"\n",
    "            break\n",
    "    return Locationname"
   ]
  },
  {
   "cell_type": "code",
   "execution_count": 14,
   "metadata": {},
   "outputs": [],
   "source": [
    "#post to postlocation#\n",
    "def post2postlocation(post):\n",
    "    if hasattr(post, 'location'):\n",
    "        if hasattr(post.location, 'name'):\n",
    "            postlocation=post.location.name\n",
    "    else:\n",
    "        postlocation=\" \"\n",
    "    return postlocation"
   ]
  },
  {
   "cell_type": "code",
   "execution_count": 15,
   "metadata": {},
   "outputs": [],
   "source": [
    "#userid to posts#\n",
    "def useridtoposts(userid):\n",
    "    posts=anyname2user(userid).get_posts()\n",
    "    return posts"
   ]
  },
  {
   "cell_type": "code",
   "execution_count": 16,
   "metadata": {},
   "outputs": [],
   "source": [
    "#userid to 30posts#\n",
    "def anyname2dayspostlist(username, number):\n",
    "    userid=Profile.from_username(L.context,username).userid\n",
    "    postlist=[]\n",
    "    timenow=datetime.datetime.now()\n",
    "    posts=anyname2user(userid).get_posts()\n",
    "    for post in posts:\n",
    "        if(timenow-post2createdtime(post)).days<number:\n",
    "            postlist.append(post)\n",
    "        else:\n",
    "            break\n",
    "    return postlist"
   ]
  },
  {
   "cell_type": "code",
   "execution_count": 17,
   "metadata": {},
   "outputs": [],
   "source": [
    "#hashtag to 30posts#\n",
    "def tagtexthashtag2postlist(hashtag,number):\n",
    "    x=0\n",
    "    postlist=[]\n",
    "    posts=L.get_hashtag_posts(hashtag)\n",
    "    for post in posts:\n",
    "        postlist.append(post)\n",
    "        x=x+1\n",
    "        if x==number:\n",
    "            break\n",
    "    return postlist"
   ]
  },
  {
   "cell_type": "code",
   "execution_count": 18,
   "metadata": {},
   "outputs": [],
   "source": [
    "#post to hashtags#\n",
    "def post2tagtexthashtaglist(post):\n",
    "    hashtaglist=[]\n",
    "    hashtags=post.caption_hashtags\n",
    "    for hashtag in hashtags:\n",
    "        hashtaglist.append(hashtag)\n",
    "    return hashtags"
   ]
  },
  {
   "cell_type": "code",
   "execution_count": 19,
   "metadata": {},
   "outputs": [],
   "source": [
    "#post to tagtextmentionlist#\n",
    "def post2tagtextmentionlist(post):\n",
    "    mentionlist=[]\n",
    "    mentions=post.caption_mentions\n",
    "    for mention in mentions:\n",
    "        mentionlist.append(mention)\n",
    "    return mentions"
   ]
  },
  {
   "cell_type": "markdown",
   "metadata": {},
   "source": [
    "# Make DataFrame"
   ]
  },
  {
   "cell_type": "code",
   "execution_count": 20,
   "metadata": {},
   "outputs": [],
   "source": [
    "import pandas as pd\n",
    "Player = pd.DataFrame(columns=[\"personID\"])\n",
    "Player_Fan = pd.DataFrame(columns=[\"prfID\", \"PlayerpersonID\", \"FanpersonID\"])\n",
    "Fan = pd.DataFrame(columns=[\"personID\"])\n",
    "Fan_Team = pd.DataFrame(columns=[\"frtID\", \"FanpersonID\", \"TeamteamID\"])\n",
    "Person = pd.DataFrame(columns=[\"personID\", \"personName\", \"locationID\"])\n",
    "Team = pd.DataFrame(columns=[\"teamID\", \"teamName\", \"locationID\"])\n",
    "Person_SNSUser = pd.DataFrame(columns=[\"prsID\", \"PersonpersonID\", \"SNSUserSNSUserID\"])\n",
    "Location = pd.DataFrame(columns=[\"locationID\", \"locationName\"])\n",
    "Team_SNSUser = pd.DataFrame(columns=[\"trsID\", \"TeamteamID\", \"SNSUserSNSUserID\"])\n",
    "SNSUser = pd.DataFrame(columns=[\"SNSUserID\", \"SNSType\", \"accountID\", \"userName\", \"followersCount\", \"postsCount\"])\n",
    "Post = pd.DataFrame(columns=[\"SNSpostID\", \"postID\", \"SNSUserID\", \"content\", \"favoriteCount\", \"createdTime\"])\n",
    "Post_Tag = pd.DataFrame(columns=[\"prtID\", \"PostSNSpostID\", \"TagTagID\"])\n",
    "Tag = pd.DataFrame(columns=[\"tagID\", \"tagText\", \"tagType\"])\n",
    "DomainTag = pd.DataFrame(columns=[\"tagID\"])\n",
    "SynonymsTag = pd.DataFrame(columns=[\"tagID1\", \"tagID2\"])\n",
    "MisspellingsTag = pd.DataFrame(columns=[\"tagID1\", \"tagID2\"])\n",
    "TagCatagory_Tag = pd.DataFrame(columns=[\"ttrID\", \"TagCatagorycatagoryID\", \"TagTagID\"])\n",
    "TagCatagory = pd.DataFrame(columns=[\"catagoryID\", \"catagoryName\"])"
   ]
  },
  {
   "cell_type": "markdown",
   "metadata": {},
   "source": [
    "# Data Retrieving Function"
   ]
  },
  {
   "cell_type": "code",
   "execution_count": 21,
   "metadata": {},
   "outputs": [],
   "source": [
    "# user saving function\n",
    "def savesnsuser(user):\n",
    "    if SNSUser[SNSUser[\"accountID\"].isin([user2accountid(user)])].shape[0] == 0:\n",
    "        SNSUser.loc[SNSUser.shape[0] + 1] = {\"SNSUserID\": SNSUser.shape[0] + 1, \n",
    "                                             \"SNSType\": \"Twitter\", \n",
    "                                             \"accountID\": user2accountid(user), \n",
    "                                             \"userName\": user2username(user), \n",
    "                                             \"followersCount\": user2followerscount(user), \n",
    "                                             \"postsCount\":user2postscount(user)}\n",
    "    else:\n",
    "        SNSUser.set_value(SNSUser[SNSUser[\"accountID\"].isin([user2accountid(user)])].loc[:, [\"SNSUserID\"]].values[0][0], \"followersCount\", user2followerscount(user))\n",
    "        SNSUser.set_value(SNSUser[SNSUser[\"accountID\"].isin([user2accountid(user)])].loc[:, [\"SNSUserID\"]].values[0][0], \"postsCount\", user2postscount(user))"
   ]
  },
  {
   "cell_type": "code",
   "execution_count": 22,
   "metadata": {},
   "outputs": [],
   "source": [
    "# post saving function\n",
    "def savesnspost(post):\n",
    "    if Post[Post[\"postID\"].isin([post2postid(post)])].shape[0] == 0:\n",
    "        Post.loc[Post.shape[0] + 1] = {\"SNSpostID\": Post.shape[0] + 1, \n",
    "                                       \"postID\": post2postid(post), \n",
    "                                       \"SNSUserID\": SNSUser[(SNSUser[\"accountID\"].isin([post2snsuserid(post)])) & (SNSUser[\"SNSType\"] == \"Twitter\")].loc[:, [\"SNSUserID\"]].values[0][0], \n",
    "                                       \"content\":post2content(post), \n",
    "                                       \"favoriteCount\":post2favoritecount(post), \n",
    "                                       \"createdTime\":post2createdtime(post)}\n",
    "        taglist = post2tagtexthashtaglist(post)\n",
    "        for tag in taglist:\n",
    "            if Tag[(Tag[\"tagText\"].isin([tag])) & (Tag[\"tagType\"] == \"hashtag\")].shape[0] == 0:\n",
    "                Tag.loc[Tag.shape[0] + 1] = {\"tagID\": Tag.shape[0] + 1, \n",
    "                                             \"tagText\": tag, \n",
    "                                             \"tagType\": \"hashtag\"}\n",
    "            Post_Tag.loc[Post_Tag.shape[0] + 1] = {\"prtID\": Post_Tag.shape[0] + 1, \n",
    "                                                   \"PostSNSpostID\": Post.shape[0], \n",
    "                                                   \"TagTagID\": Tag[(Tag[\"tagText\"].isin([tag])) & (Tag[\"tagType\"] == \"hashtag\")].loc[:, [\"tagID\"]].values[0][0]}\n",
    "        taglist=post2tagtextmentionlist(post)\n",
    "        for tag in taglist:\n",
    "            if Tag[(Tag[\"tagText\"].isin([tag])) & (Tag[\"tagType\"] == \"mention\")].shape[0] == 0:\n",
    "                Tag.loc[Tag.shape[0] + 1] = {\"tagID\": Tag.shape[0] + 1, \n",
    "                                             \"tagText\": tag, \n",
    "                                             \"tagType\": \"mention\"}\n",
    "            Post_Tag.loc[Post_Tag.shape[0] + 1] = {\"prtID\": Post_Tag.shape[0] + 1, \n",
    "                                                   \"PostSNSpostID\": Post.shape[0], \n",
    "                                                   \"TagTagID\": Tag[(Tag[\"tagText\"].isin([tag])) & (Tag[\"tagType\"] == \"mention\")].loc[:, [\"tagID\"]].values[0][0]}\n",
    "    else:\n",
    "        Post.set_value(Post[Post[\"postID\"].isin([post2postid(post)])].loc[:, [\"SNSpostID\"]].values[0][0], \"favoriteCount\", post2favoritecount(post))"
   ]
  },
  {
   "cell_type": "code",
   "execution_count": 23,
   "metadata": {},
   "outputs": [],
   "source": [
    "# team saving function\n",
    "def saveteam(teamName, userName):\n",
    "    teamID = 0\n",
    "    teamIDtemp = 0\n",
    "    userExistFlag = True\n",
    "    if SNSUser[SNSUser[\"accountID\"].isin([user2accountid(anyname2user(userName))])].shape[0] == 0:\n",
    "        userExistFlag = False\n",
    "    savesnsuser(anyname2user(userName))\n",
    "    locationName = user2locationname(anyname2user(userName))\n",
    "    if Location[Location[\"locationName\"].isin([locationName])].shape[0] == 0:\n",
    "        Location.loc[Location.shape[0] + 1] = {\"locationID\": Location.shape[0] + 1, \n",
    "                                               \"locationName\": locationName}\n",
    "    if not userExistFlag:\n",
    "        Team.loc[Team.shape[0] + 1] = {\"teamID\": Team.shape[0] + 1, \n",
    "                                       \"teamName\": teamName, \n",
    "                                       \"locationID\": Location[Location[\"locationName\"].isin([locationName])].loc[:, [\"locationID\"]].values[0][0]}\n",
    "        teamIDtemp = Team.shape[0]\n",
    "        teamID = Team.shape[0]\n",
    "    else:\n",
    "        teamID = Team[Team[\"teamName\"].isin([teamName])].loc[:, [\"teamID\"]].values[0][0]\n",
    "        if (teamIDtemp != 0):\n",
    "            teamID = teamIDtemp\n",
    "        Team.set_value(teamID, \"locationID\", Location[Location[\"locationName\"].isin([locationName])].loc[:, [\"locationID\"]].values[0][0])\n",
    "    Team_SNSUser.loc[Team_SNSUser.shape[0] + 1] = {\"trsID\": Team_SNSUser.shape[0] + 1, \n",
    "                                                   \"TeamteamID\": teamID, \n",
    "                                                   \"SNSUserSNSUserID\": SNSUser[SNSUser[\"userName\"].isin([userName])].loc[:, [\"SNSUserID\"]].values[0][0]}\n",
    "    Team_SNSUser.drop_duplicates(subset=[\"TeamteamID\",\"SNSUserSNSUserID\"], keep='first', inplace=False)"
   ]
  },
  {
   "cell_type": "code",
   "execution_count": 24,
   "metadata": {},
   "outputs": [],
   "source": [
    "# player saving function\n",
    "def saveplayer(personName, userName):\n",
    "    personID = 0\n",
    "    personIDtemp = 0\n",
    "    userExistFlag = True\n",
    "    if SNSUser[SNSUser[\"accountID\"].isin([user2accountid(anyname2user(userName))])].shape[0] == 0:\n",
    "        userExistFlag = False\n",
    "    savesnsuser(anyname2user(userName))\n",
    "    locationName = user2locationname(anyname2user(userName))\n",
    "    if Location[Location[\"locationName\"].isin([locationName])].shape[0] == 0:\n",
    "        Location.loc[Location.shape[0] + 1] = {\"locationID\": Location.shape[0] + 1, \n",
    "                                               \"locationName\": locationName}\n",
    "    if not userExistFlag:\n",
    "        Person.loc[Person.shape[0] + 1] = {\"personID\": Person.shape[0] + 1, \n",
    "                                           \"personName\": personName, \n",
    "                                           \"locationID\": Location[Location[\"locationName\"].isin([locationName])].loc[:, [\"locationID\"]].values[0][0]}\n",
    "        Player.loc[Player.shape[0] + 1] = {\"personID\": Person.shape[0]}\n",
    "        personIDtemp = Person.shape[0]\n",
    "        personID = Person.shape[0]\n",
    "    else:\n",
    "        personID = Person[Person[\"personName\"].isin([personName])].loc[:, [\"personID\"]].values[0][0]\n",
    "        if (personIDtemp != 0):\n",
    "            personID = personIDtemp\n",
    "        Person.set_value(Person[Person[\"personName\"].isin([personName])].loc[:, [\"personID\"]].values[0][0], \"locationID\", Location[Location[\"locationName\"].isin([locationName])].loc[:, [\"locationID\"]].values[0][0])\n",
    "    Person_SNSUser.loc[Person_SNSUser.shape[0] + 1] = {\"prsID\": Person_SNSUser.shape[0] + 1, \n",
    "                                                       \"PersonpersonID\": personID, \n",
    "                                                       \"SNSUserSNSUserID\": SNSUser[SNSUser[\"userName\"].isin([userName])].loc[:, [\"SNSUserID\"]].values[0][0]}\n",
    "    Person_SNSUser.drop_duplicates(subset=[\"PersonpersonID\",\"SNSUserSNSUserID\"], keep='first', inplace=False)"
   ]
  },
  {
   "cell_type": "code",
   "execution_count": 25,
   "metadata": {},
   "outputs": [],
   "source": [
    "# save user's posts\n",
    "def saveposts(userName, number):\n",
    "    postlist = anyname2dayspostlist(userName,number)\n",
    "    for post in postlist:\n",
    "        savesnspost(post)"
   ]
  },
  {
   "cell_type": "code",
   "execution_count": 26,
   "metadata": {},
   "outputs": [],
   "source": [
    "# save posts with team #hashtag\n",
    "def saveteamhashtagposts(hashtag, number):\n",
    "    postlist = tagtexthashtag2postlist(hashtag, number)\n",
    "    for post in postlist:\n",
    "        user = anyname2user(post2snsuserid(post))\n",
    "        userName = user2username(user)\n",
    "        personName = user2name(user)\n",
    "        personID = 0\n",
    "        userExistFlag = True\n",
    "        if SNSUser[SNSUser[\"accountID\"].isin([user2accountid(anyname2user(userName))])].shape[0] == 0:\n",
    "            userExistFlag = False\n",
    "        personExistFlag = True\n",
    "        if Person[Person[\"personName\"].isin([personName])].shape[0] == 0: \n",
    "            personExistFlag = False\n",
    "        savesnsuser(anyname2user(userName))\n",
    "        locationName = user2locationname(anyname2user(userName))\n",
    "        if Location[Location[\"locationName\"].isin([locationName])].shape[0] == 0:\n",
    "            Location.loc[Location.shape[0] + 1] = {\"locationID\": Location.shape[0] + 1, \n",
    "                                                   \"locationName\": locationName}\n",
    "        if not personExistFlag:\n",
    "            Person.loc[Person.shape[0] + 1] = {\"personID\": Person.shape[0] + 1, \n",
    "                                               \"personName\": personName, \n",
    "                                               \"locationID\": Location[Location[\"locationName\"].isin([locationName])].loc[:, [\"locationID\"]].values[0][0]}\n",
    "            personID = Person.shape[0]\n",
    "        else:\n",
    "            personID = Person[Person[\"personName\"].isin([personName])].loc[:, [\"personID\"]].values[0][0]\n",
    "            Person.set_value(Person[Person[\"personName\"].isin([personName])].loc[:, [\"personID\"]].values[0][0], \"locationID\", Location[Location[\"locationName\"].isin([locationName])].loc[:, [\"locationID\"]].values[0][0])\n",
    "        if (not userExistFlag) | (not personExistFlag):\n",
    "            Person_SNSUser.loc[Person_SNSUser.shape[0] + 1] = {\"prsID\": Person_SNSUser.shape[0] + 1, \n",
    "                                                               \"PersonpersonID\": personID, \n",
    "                                                               \"SNSUserSNSUserID\": SNSUser[SNSUser[\"userName\"].isin([userName])].loc[:, [\"SNSUserID\"]].values[0][0]}\n",
    "            Person_SNSUser.drop_duplicates(subset=[\"PersonpersonID\",\"SNSUserSNSUserID\"], keep='first', inplace=False)\n",
    "        if Fan[Fan[\"personID\"].isin([personID])].shape[0] == 0:\n",
    "            Fan.loc[Fan.shape[0] + 1] = {\"personID\": personID}\n",
    "        teamsnsid = SNSUser[SNSUser[\"userName\"].isin([hashtag])].loc[:, [\"SNSUserID\"]].values[0][0]\n",
    "        teamteamid = Team_SNSUser[Team_SNSUser[\"SNSUserSNSUserID\"].isin([teamsnsid])].loc[:, [\"TeamteamID\"]].values[0][0]\n",
    "        teamName = Team[Team[\"teamID\"].isin([teamteamid])].loc[:, [\"teamName\"]].values[0][0]\n",
    "        Fan_Team.loc[Fan_Team.shape[0] + 1] = {\"frtID\": Fan_Team.shape[0] + 1, \n",
    "                                               \"FanpersonID\": personID, \n",
    "                                               \"TeamteamID\": Team[Team[\"teamName\"].isin([teamName])].loc[:, [\"teamID\"]].values[0][0]}\n",
    "        Fan_Team.drop_duplicates(subset=[\"FanpersonID\",\"TeamteamID\"], keep='first', inplace=False)\n",
    "        savesnspost(post)"
   ]
  },
  {
   "cell_type": "code",
   "execution_count": 27,
   "metadata": {},
   "outputs": [],
   "source": [
    "# save posts with player #hashtag\n",
    "def saveplayerhashtagposts(hashtag, number):\n",
    "    postlist = tagtexthashtag2postlist(hashtag, number)\n",
    "    for post in postlist:\n",
    "        user = anyname2user(post2snsuserid(post))\n",
    "        userName = user2username(user)\n",
    "        personName = user2name(user)\n",
    "        personID = 0\n",
    "        userExistFlag = True\n",
    "        if SNSUser[SNSUser[\"accountID\"].isin([user2accountid(anyname2user(userName))])].shape[0] == 0:\n",
    "            userExistFlag = False\n",
    "        personExistFlag = True\n",
    "        if Person[Person[\"personName\"].isin([personName])].shape[0] == 0: \n",
    "            personExistFlag = False\n",
    "        savesnsuser(anyname2user(userName))\n",
    "        locationName = user2locationname(anyname2user(userName))\n",
    "        if Location[Location[\"locationName\"].isin([locationName])].shape[0] == 0:\n",
    "            Location.loc[Location.shape[0] + 1] = {\"locationID\": Location.shape[0] + 1, \n",
    "                                                   \"locationName\": locationName}\n",
    "        if not personExistFlag:\n",
    "            Person.loc[Person.shape[0] + 1] = {\"personID\": Person.shape[0] + 1, \n",
    "                                               \"personName\": personName, \n",
    "                                               \"locationID\": Location[Location[\"locationName\"].isin([locationName])].loc[:, [\"locationID\"]].values[0][0]}\n",
    "            personID = Person.shape[0]\n",
    "        else:\n",
    "            personID = Person[Person[\"personName\"].isin([personName])].loc[:, [\"personID\"]].values[0][0]\n",
    "            Person.set_value(Person[Person[\"personName\"].isin([personName])].loc[:, [\"personID\"]].values[0][0], \"locationID\", Location[Location[\"locationName\"].isin([locationName])].loc[:, [\"locationID\"]].values[0][0])\n",
    "        if (not userExistFlag) | (not personExistFlag):\n",
    "            Person_SNSUser.loc[Person_SNSUser.shape[0] + 1] = {\"prsID\": Person_SNSUser.shape[0] + 1, \n",
    "                                                               \"PersonpersonID\": personID, \n",
    "                                                               \"SNSUserSNSUserID\": SNSUser[SNSUser[\"userName\"].isin([userName])].loc[:, [\"SNSUserID\"]].values[0][0]}\n",
    "            Person_SNSUser.drop_duplicates(subset=[\"PersonpersonID\",\"SNSUserSNSUserID\"], keep='first', inplace=False)\n",
    "        if Fan[Fan[\"personID\"].isin([personID])].shape[0] == 0:\n",
    "            Fan.loc[Fan.shape[0] + 1] = {\"personID\": personID}\n",
    "        playersnsid = SNSUser[SNSUser[\"userName\"].isin([hashtag])].loc[:, [\"SNSUserID\"]].values[0][0]\n",
    "        personpersonid = Person_SNSUser[Person_SNSUser[\"SNSUserSNSUserID\"].isin([playersnsid])].loc[:, [\"PersonpersonID\"]].values[0][0]\n",
    "        personName = Person[Person[\"personID\"].isin([personpersonid])].loc[:, [\"personName\"]].values[0][0]\n",
    "        Player_Fan.loc[Player_Fan.shape[0] + 1] = {\"prfID\": Player_Fan.shape[0] + 1, \n",
    "                                                   \"PlayerpersonID\": Person[Person[\"personName\"].isin([personName])].loc[:, [\"personID\"]].values[0][0], \n",
    "                                                   \"FanpersonID\": personID}\n",
    "        Player_Fan.drop_duplicates(subset=[\"PlayerpersonID\",\"FanpersonID\"], keep='first', inplace=False)\n",
    "        savesnspost(post)"
   ]
  },
  {
   "cell_type": "markdown",
   "metadata": {},
   "source": [
    "# Saving"
   ]
  },
  {
   "cell_type": "markdown",
   "metadata": {},
   "source": [
    "## save team and players"
   ]
  },
  {
   "cell_type": "code",
   "execution_count": 28,
   "metadata": {},
   "outputs": [
    {
     "name": "stdout",
     "output_type": "stream",
     "text": [
      "1\n"
     ]
    },
    {
     "name": "stderr",
     "output_type": "stream",
     "text": [
      "JSON Query to graphql/query: 429 Too Many Requests [retrying; skip with ^C]\n",
      "HTTP error code 429 was returned because too many queries occured in\n",
      "the last time. Please do not use Instagram in your browser or run\n",
      "multiple instances of Instaloader in parallel.\n",
      "GraphQL requests:\n",
      "  472f257a40c653c64c666ce877d59d2b\n",
      "    last 10 minutes: 179 requests\n",
      "    last 11 minutes: 179 requests\n",
      "    last 15 minutes: 179 requests\n",
      "    last 20 minutes: 179 requests\n",
      "    last 30 minutes: 179 requests\n",
      "    last 60 minutes: 179 requests\n"
     ]
    },
    {
     "name": "stdout",
     "output_type": "stream",
     "text": [
      "The request will be retried in 315 seconds, at 06:23.\n",
      "2\n",
      "\n",
      "Too many queries in the last time. Need to wait 307 seconds, until 06:34.\n",
      "3\n",
      "4\n",
      "5\n",
      "6\n"
     ]
    },
    {
     "name": "stderr",
     "output_type": "stream",
     "text": [
      "JSON Query to maxmuncy/: ('Connection aborted.', OSError(\"(54, 'ECONNRESET')\")) [retrying; skip with ^C]\n"
     ]
    },
    {
     "name": "stdout",
     "output_type": "stream",
     "text": [
      "7\n",
      "8\n",
      "9\n",
      "10\n",
      "11\n"
     ]
    },
    {
     "name": "stderr",
     "output_type": "stream",
     "text": [
      "JSON Query to explore/locations/3060/: ('Connection aborted.', OSError(\"(54, 'ECONNRESET')\")) [retrying; skip with ^C]\n"
     ]
    },
    {
     "name": "stdout",
     "output_type": "stream",
     "text": [
      "12\n"
     ]
    }
   ],
   "source": [
    "try:\n",
    "    saveteam(\"New York Yankees\", \"yankees\")\n",
    "    print(\"1\")\n",
    "    saveteam(\"Los Angeles Dodgers\", \"dodgers\")\n",
    "    print(\"2\")\n",
    "    saveteam(\"Tampa Bay Rays\", \"raysbaseball\")\n",
    "    print(\"3\")\n",
    "    saveplayer(\"Greg Bird\", \"_gregbird33\")\n",
    "    print(\"4\")\n",
    "    saveplayer(\"DJ LeMahieu\", \"dj_lemahieu\")\n",
    "    print(\"5\")\n",
    "    saveplayer(\"Zack Britton\", \"zbritton\")\n",
    "    print(\"6\")\n",
    "    saveplayer(\"Max Muncy\", \"maxmuncy\")\n",
    "    print(\"7\")\n",
    "    saveplayer(\"Julio Urías\", \"theteenager7\")\n",
    "    print(\"8\")\n",
    "    saveplayer(\"Cody Bellinger\", \"cody_bellinger\")\n",
    "    print(\"9\")\n",
    "    saveplayer(\"Christian Arroyo\", \"arroyoc22\")\n",
    "    print(\"10\")\n",
    "    saveplayer(\"Austin Meadows\", \"austinmeadows13\")\n",
    "    print(\"11\")\n",
    "    saveplayer(\"Guillermo Heredia\", \"heredia54\")\n",
    "    print(\"12\")\n",
    "except:\n",
    "    pass"
   ]
  },
  {
   "cell_type": "markdown",
   "metadata": {},
   "source": [
    "## save teams' and players' posts"
   ]
  },
  {
   "cell_type": "code",
   "execution_count": 29,
   "metadata": {},
   "outputs": [
    {
     "name": "stdout",
     "output_type": "stream",
     "text": [
      "1\n",
      "2\n",
      "3\n",
      "4\n",
      "5\n",
      "6\n",
      "7\n",
      "8\n",
      "9\n",
      "10\n",
      "11\n",
      "12\n"
     ]
    }
   ],
   "source": [
    "days = 1\n",
    "try:\n",
    "    saveposts(\"yankees\",days)\n",
    "    print(\"1\")\n",
    "    saveposts(\"dodgers\",days)\n",
    "    print(\"2\")\n",
    "    saveposts(\"raysbaseball\",days)\n",
    "    print(\"3\")\n",
    "    saveposts(\"_gregbird33\",days)\n",
    "    print(\"4\")\n",
    "    saveposts(\"dj_lemahieu\",days)\n",
    "    print(\"5\")\n",
    "    saveposts(\"zbritton\",days)\n",
    "    print(\"6\")\n",
    "    saveposts(\"maxmuncy\",days)\n",
    "    print(\"7\")\n",
    "    saveposts(\"theteenager7\",days)\n",
    "    print(\"8\")\n",
    "    saveposts(\"cody_bellinger\",days)\n",
    "    print(\"9\")\n",
    "    saveposts(\"arroyoc22\",days)\n",
    "    print(\"10\")\n",
    "    saveposts(\"austinmeadows13\",days)\n",
    "    print(\"11\")\n",
    "    saveposts(\"heredia54\",days)\n",
    "    print(\"12\")\n",
    "except:\n",
    "    pass"
   ]
  },
  {
   "cell_type": "markdown",
   "metadata": {},
   "source": [
    "## save tags posts"
   ]
  },
  {
   "cell_type": "code",
   "execution_count": 30,
   "metadata": {},
   "outputs": [
    {
     "name": "stdout",
     "output_type": "stream",
     "text": [
      "1\n",
      "2\n",
      "3\n",
      "\n",
      "Too many queries in the last time. Need to wait 163 seconds, until 07:14.\n",
      "\n",
      "Too many queries in the last time. Need to wait 17 seconds, until 07:15.\n",
      "\n",
      "Too many queries in the last time. Need to wait 15 seconds, until 07:15.\n",
      "4\n"
     ]
    }
   ],
   "source": [
    "postscount = 1\n",
    "try:\n",
    "    saveteamhashtagposts(\"yankees\", postscount)\n",
    "    print(\"1\")\n",
    "    saveteamhashtagposts(\"dodgers\", postscount)\n",
    "    print(\"2\")\n",
    "    saveteamhashtagposts(\"raysbaseball\", postscount)\n",
    "    print(\"3\")\n",
    "    saveplayerhashtagposts(\"_gregbird33\", postscount)\n",
    "    print(\"4\")\n",
    "    saveplayerhashtagposts(\"dj_lemahieu\", postscount)\n",
    "    print(\"5\")\n",
    "    saveplayerhashtagposts(\"zbritton\", postscount)\n",
    "    print(\"6\")\n",
    "    saveplayerhashtagposts(\"maxmuncy\", postscount)\n",
    "    print(\"7\")\n",
    "    saveplayerhashtagposts(\"theteenager7\", postscount)\n",
    "    print(\"8\")\n",
    "    saveplayerhashtagposts(\"cody_bellinger\", postscount)\n",
    "    print(\"9\")\n",
    "    saveplayerhashtagposts(\"arroyoc22\", postscount)\n",
    "    print(\"10\")\n",
    "    saveplayerhashtagposts(\"austinmeadows13\", postscount)\n",
    "    print(\"11\")\n",
    "    saveplayerhashtagposts(\"heredia54\", postscount)\n",
    "    print(\"12\")\n",
    "except:\n",
    "    pass"
   ]
  },
  {
   "cell_type": "markdown",
   "metadata": {},
   "source": [
    "# tables"
   ]
  },
  {
   "cell_type": "code",
   "execution_count": 31,
   "metadata": {},
   "outputs": [
    {
     "data": {
      "text/html": [
       "<div>\n",
       "<style scoped>\n",
       "    .dataframe tbody tr th:only-of-type {\n",
       "        vertical-align: middle;\n",
       "    }\n",
       "\n",
       "    .dataframe tbody tr th {\n",
       "        vertical-align: top;\n",
       "    }\n",
       "\n",
       "    .dataframe thead th {\n",
       "        text-align: right;\n",
       "    }\n",
       "</style>\n",
       "<table border=\"1\" class=\"dataframe\">\n",
       "  <thead>\n",
       "    <tr style=\"text-align: right;\">\n",
       "      <th></th>\n",
       "      <th>personID</th>\n",
       "    </tr>\n",
       "  </thead>\n",
       "  <tbody>\n",
       "    <tr>\n",
       "      <th>1</th>\n",
       "      <td>1</td>\n",
       "    </tr>\n",
       "    <tr>\n",
       "      <th>2</th>\n",
       "      <td>2</td>\n",
       "    </tr>\n",
       "    <tr>\n",
       "      <th>3</th>\n",
       "      <td>3</td>\n",
       "    </tr>\n",
       "    <tr>\n",
       "      <th>4</th>\n",
       "      <td>4</td>\n",
       "    </tr>\n",
       "    <tr>\n",
       "      <th>5</th>\n",
       "      <td>5</td>\n",
       "    </tr>\n",
       "  </tbody>\n",
       "</table>\n",
       "</div>"
      ],
      "text/plain": [
       "  personID\n",
       "1        1\n",
       "2        2\n",
       "3        3\n",
       "4        4\n",
       "5        5"
      ]
     },
     "execution_count": 31,
     "metadata": {},
     "output_type": "execute_result"
    }
   ],
   "source": [
    "Player.head()"
   ]
  },
  {
   "cell_type": "code",
   "execution_count": 32,
   "metadata": {},
   "outputs": [
    {
     "data": {
      "text/html": [
       "<div>\n",
       "<style scoped>\n",
       "    .dataframe tbody tr th:only-of-type {\n",
       "        vertical-align: middle;\n",
       "    }\n",
       "\n",
       "    .dataframe tbody tr th {\n",
       "        vertical-align: top;\n",
       "    }\n",
       "\n",
       "    .dataframe thead th {\n",
       "        text-align: right;\n",
       "    }\n",
       "</style>\n",
       "<table border=\"1\" class=\"dataframe\">\n",
       "  <thead>\n",
       "    <tr style=\"text-align: right;\">\n",
       "      <th></th>\n",
       "      <th>prfID</th>\n",
       "      <th>PlayerpersonID</th>\n",
       "      <th>FanpersonID</th>\n",
       "    </tr>\n",
       "  </thead>\n",
       "  <tbody>\n",
       "    <tr>\n",
       "      <th>1</th>\n",
       "      <td>1</td>\n",
       "      <td>1</td>\n",
       "      <td>13</td>\n",
       "    </tr>\n",
       "  </tbody>\n",
       "</table>\n",
       "</div>"
      ],
      "text/plain": [
       "  prfID PlayerpersonID FanpersonID\n",
       "1     1              1          13"
      ]
     },
     "execution_count": 32,
     "metadata": {},
     "output_type": "execute_result"
    }
   ],
   "source": [
    "Player_Fan.head()"
   ]
  },
  {
   "cell_type": "code",
   "execution_count": 33,
   "metadata": {},
   "outputs": [
    {
     "data": {
      "text/html": [
       "<div>\n",
       "<style scoped>\n",
       "    .dataframe tbody tr th:only-of-type {\n",
       "        vertical-align: middle;\n",
       "    }\n",
       "\n",
       "    .dataframe tbody tr th {\n",
       "        vertical-align: top;\n",
       "    }\n",
       "\n",
       "    .dataframe thead th {\n",
       "        text-align: right;\n",
       "    }\n",
       "</style>\n",
       "<table border=\"1\" class=\"dataframe\">\n",
       "  <thead>\n",
       "    <tr style=\"text-align: right;\">\n",
       "      <th></th>\n",
       "      <th>personID</th>\n",
       "    </tr>\n",
       "  </thead>\n",
       "  <tbody>\n",
       "    <tr>\n",
       "      <th>1</th>\n",
       "      <td>10</td>\n",
       "    </tr>\n",
       "    <tr>\n",
       "      <th>2</th>\n",
       "      <td>11</td>\n",
       "    </tr>\n",
       "    <tr>\n",
       "      <th>3</th>\n",
       "      <td>12</td>\n",
       "    </tr>\n",
       "    <tr>\n",
       "      <th>4</th>\n",
       "      <td>13</td>\n",
       "    </tr>\n",
       "  </tbody>\n",
       "</table>\n",
       "</div>"
      ],
      "text/plain": [
       "  personID\n",
       "1       10\n",
       "2       11\n",
       "3       12\n",
       "4       13"
      ]
     },
     "execution_count": 33,
     "metadata": {},
     "output_type": "execute_result"
    }
   ],
   "source": [
    "Fan.head()"
   ]
  },
  {
   "cell_type": "code",
   "execution_count": 34,
   "metadata": {},
   "outputs": [
    {
     "data": {
      "text/html": [
       "<div>\n",
       "<style scoped>\n",
       "    .dataframe tbody tr th:only-of-type {\n",
       "        vertical-align: middle;\n",
       "    }\n",
       "\n",
       "    .dataframe tbody tr th {\n",
       "        vertical-align: top;\n",
       "    }\n",
       "\n",
       "    .dataframe thead th {\n",
       "        text-align: right;\n",
       "    }\n",
       "</style>\n",
       "<table border=\"1\" class=\"dataframe\">\n",
       "  <thead>\n",
       "    <tr style=\"text-align: right;\">\n",
       "      <th></th>\n",
       "      <th>frtID</th>\n",
       "      <th>FanpersonID</th>\n",
       "      <th>TeamteamID</th>\n",
       "    </tr>\n",
       "  </thead>\n",
       "  <tbody>\n",
       "    <tr>\n",
       "      <th>1</th>\n",
       "      <td>1</td>\n",
       "      <td>10</td>\n",
       "      <td>1</td>\n",
       "    </tr>\n",
       "    <tr>\n",
       "      <th>2</th>\n",
       "      <td>2</td>\n",
       "      <td>11</td>\n",
       "      <td>2</td>\n",
       "    </tr>\n",
       "    <tr>\n",
       "      <th>3</th>\n",
       "      <td>3</td>\n",
       "      <td>12</td>\n",
       "      <td>3</td>\n",
       "    </tr>\n",
       "  </tbody>\n",
       "</table>\n",
       "</div>"
      ],
      "text/plain": [
       "  frtID FanpersonID TeamteamID\n",
       "1     1          10          1\n",
       "2     2          11          2\n",
       "3     3          12          3"
      ]
     },
     "execution_count": 34,
     "metadata": {},
     "output_type": "execute_result"
    }
   ],
   "source": [
    "Fan_Team.head()"
   ]
  },
  {
   "cell_type": "code",
   "execution_count": 35,
   "metadata": {},
   "outputs": [
    {
     "data": {
      "text/html": [
       "<div>\n",
       "<style scoped>\n",
       "    .dataframe tbody tr th:only-of-type {\n",
       "        vertical-align: middle;\n",
       "    }\n",
       "\n",
       "    .dataframe tbody tr th {\n",
       "        vertical-align: top;\n",
       "    }\n",
       "\n",
       "    .dataframe thead th {\n",
       "        text-align: right;\n",
       "    }\n",
       "</style>\n",
       "<table border=\"1\" class=\"dataframe\">\n",
       "  <thead>\n",
       "    <tr style=\"text-align: right;\">\n",
       "      <th></th>\n",
       "      <th>personID</th>\n",
       "      <th>personName</th>\n",
       "      <th>locationID</th>\n",
       "    </tr>\n",
       "  </thead>\n",
       "  <tbody>\n",
       "    <tr>\n",
       "      <th>1</th>\n",
       "      <td>1</td>\n",
       "      <td>Greg Bird</td>\n",
       "      <td>1</td>\n",
       "    </tr>\n",
       "    <tr>\n",
       "      <th>2</th>\n",
       "      <td>2</td>\n",
       "      <td>DJ LeMahieu</td>\n",
       "      <td>1</td>\n",
       "    </tr>\n",
       "    <tr>\n",
       "      <th>3</th>\n",
       "      <td>3</td>\n",
       "      <td>Zack Britton</td>\n",
       "      <td>1</td>\n",
       "    </tr>\n",
       "    <tr>\n",
       "      <th>4</th>\n",
       "      <td>4</td>\n",
       "      <td>Max Muncy</td>\n",
       "      <td>1</td>\n",
       "    </tr>\n",
       "    <tr>\n",
       "      <th>5</th>\n",
       "      <td>5</td>\n",
       "      <td>Julio Urías</td>\n",
       "      <td>1</td>\n",
       "    </tr>\n",
       "  </tbody>\n",
       "</table>\n",
       "</div>"
      ],
      "text/plain": [
       "  personID    personName locationID\n",
       "1        1     Greg Bird          1\n",
       "2        2   DJ LeMahieu          1\n",
       "3        3  Zack Britton          1\n",
       "4        4     Max Muncy          1\n",
       "5        5   Julio Urías          1"
      ]
     },
     "execution_count": 35,
     "metadata": {},
     "output_type": "execute_result"
    }
   ],
   "source": [
    "Person.head()"
   ]
  },
  {
   "cell_type": "code",
   "execution_count": 36,
   "metadata": {},
   "outputs": [
    {
     "data": {
      "text/html": [
       "<div>\n",
       "<style scoped>\n",
       "    .dataframe tbody tr th:only-of-type {\n",
       "        vertical-align: middle;\n",
       "    }\n",
       "\n",
       "    .dataframe tbody tr th {\n",
       "        vertical-align: top;\n",
       "    }\n",
       "\n",
       "    .dataframe thead th {\n",
       "        text-align: right;\n",
       "    }\n",
       "</style>\n",
       "<table border=\"1\" class=\"dataframe\">\n",
       "  <thead>\n",
       "    <tr style=\"text-align: right;\">\n",
       "      <th></th>\n",
       "      <th>teamID</th>\n",
       "      <th>teamName</th>\n",
       "      <th>locationID</th>\n",
       "    </tr>\n",
       "  </thead>\n",
       "  <tbody>\n",
       "    <tr>\n",
       "      <th>1</th>\n",
       "      <td>1</td>\n",
       "      <td>New York Yankees</td>\n",
       "      <td>1</td>\n",
       "    </tr>\n",
       "    <tr>\n",
       "      <th>2</th>\n",
       "      <td>2</td>\n",
       "      <td>Los Angeles Dodgers</td>\n",
       "      <td>1</td>\n",
       "    </tr>\n",
       "    <tr>\n",
       "      <th>3</th>\n",
       "      <td>3</td>\n",
       "      <td>Tampa Bay Rays</td>\n",
       "      <td>1</td>\n",
       "    </tr>\n",
       "  </tbody>\n",
       "</table>\n",
       "</div>"
      ],
      "text/plain": [
       "  teamID             teamName locationID\n",
       "1      1     New York Yankees          1\n",
       "2      2  Los Angeles Dodgers          1\n",
       "3      3       Tampa Bay Rays          1"
      ]
     },
     "execution_count": 36,
     "metadata": {},
     "output_type": "execute_result"
    }
   ],
   "source": [
    "Team.head()"
   ]
  },
  {
   "cell_type": "code",
   "execution_count": 37,
   "metadata": {},
   "outputs": [
    {
     "data": {
      "text/html": [
       "<div>\n",
       "<style scoped>\n",
       "    .dataframe tbody tr th:only-of-type {\n",
       "        vertical-align: middle;\n",
       "    }\n",
       "\n",
       "    .dataframe tbody tr th {\n",
       "        vertical-align: top;\n",
       "    }\n",
       "\n",
       "    .dataframe thead th {\n",
       "        text-align: right;\n",
       "    }\n",
       "</style>\n",
       "<table border=\"1\" class=\"dataframe\">\n",
       "  <thead>\n",
       "    <tr style=\"text-align: right;\">\n",
       "      <th></th>\n",
       "      <th>prsID</th>\n",
       "      <th>PersonpersonID</th>\n",
       "      <th>SNSUserSNSUserID</th>\n",
       "    </tr>\n",
       "  </thead>\n",
       "  <tbody>\n",
       "    <tr>\n",
       "      <th>1</th>\n",
       "      <td>1</td>\n",
       "      <td>1</td>\n",
       "      <td>4</td>\n",
       "    </tr>\n",
       "    <tr>\n",
       "      <th>2</th>\n",
       "      <td>2</td>\n",
       "      <td>2</td>\n",
       "      <td>5</td>\n",
       "    </tr>\n",
       "    <tr>\n",
       "      <th>3</th>\n",
       "      <td>3</td>\n",
       "      <td>3</td>\n",
       "      <td>6</td>\n",
       "    </tr>\n",
       "    <tr>\n",
       "      <th>4</th>\n",
       "      <td>4</td>\n",
       "      <td>4</td>\n",
       "      <td>7</td>\n",
       "    </tr>\n",
       "    <tr>\n",
       "      <th>5</th>\n",
       "      <td>5</td>\n",
       "      <td>5</td>\n",
       "      <td>8</td>\n",
       "    </tr>\n",
       "  </tbody>\n",
       "</table>\n",
       "</div>"
      ],
      "text/plain": [
       "  prsID PersonpersonID SNSUserSNSUserID\n",
       "1     1              1                4\n",
       "2     2              2                5\n",
       "3     3              3                6\n",
       "4     4              4                7\n",
       "5     5              5                8"
      ]
     },
     "execution_count": 37,
     "metadata": {},
     "output_type": "execute_result"
    }
   ],
   "source": [
    "Person_SNSUser.head()"
   ]
  },
  {
   "cell_type": "code",
   "execution_count": 38,
   "metadata": {},
   "outputs": [
    {
     "data": {
      "text/html": [
       "<div>\n",
       "<style scoped>\n",
       "    .dataframe tbody tr th:only-of-type {\n",
       "        vertical-align: middle;\n",
       "    }\n",
       "\n",
       "    .dataframe tbody tr th {\n",
       "        vertical-align: top;\n",
       "    }\n",
       "\n",
       "    .dataframe thead th {\n",
       "        text-align: right;\n",
       "    }\n",
       "</style>\n",
       "<table border=\"1\" class=\"dataframe\">\n",
       "  <thead>\n",
       "    <tr style=\"text-align: right;\">\n",
       "      <th></th>\n",
       "      <th>locationID</th>\n",
       "      <th>locationName</th>\n",
       "    </tr>\n",
       "  </thead>\n",
       "  <tbody>\n",
       "    <tr>\n",
       "      <th>1</th>\n",
       "      <td>1</td>\n",
       "      <td></td>\n",
       "    </tr>\n",
       "  </tbody>\n",
       "</table>\n",
       "</div>"
      ],
      "text/plain": [
       "  locationID locationName\n",
       "1          1             "
      ]
     },
     "execution_count": 38,
     "metadata": {},
     "output_type": "execute_result"
    }
   ],
   "source": [
    "Location.head()"
   ]
  },
  {
   "cell_type": "code",
   "execution_count": 39,
   "metadata": {},
   "outputs": [
    {
     "data": {
      "text/html": [
       "<div>\n",
       "<style scoped>\n",
       "    .dataframe tbody tr th:only-of-type {\n",
       "        vertical-align: middle;\n",
       "    }\n",
       "\n",
       "    .dataframe tbody tr th {\n",
       "        vertical-align: top;\n",
       "    }\n",
       "\n",
       "    .dataframe thead th {\n",
       "        text-align: right;\n",
       "    }\n",
       "</style>\n",
       "<table border=\"1\" class=\"dataframe\">\n",
       "  <thead>\n",
       "    <tr style=\"text-align: right;\">\n",
       "      <th></th>\n",
       "      <th>trsID</th>\n",
       "      <th>TeamteamID</th>\n",
       "      <th>SNSUserSNSUserID</th>\n",
       "    </tr>\n",
       "  </thead>\n",
       "  <tbody>\n",
       "    <tr>\n",
       "      <th>1</th>\n",
       "      <td>1</td>\n",
       "      <td>1</td>\n",
       "      <td>1</td>\n",
       "    </tr>\n",
       "    <tr>\n",
       "      <th>2</th>\n",
       "      <td>2</td>\n",
       "      <td>2</td>\n",
       "      <td>2</td>\n",
       "    </tr>\n",
       "    <tr>\n",
       "      <th>3</th>\n",
       "      <td>3</td>\n",
       "      <td>3</td>\n",
       "      <td>3</td>\n",
       "    </tr>\n",
       "  </tbody>\n",
       "</table>\n",
       "</div>"
      ],
      "text/plain": [
       "  trsID TeamteamID SNSUserSNSUserID\n",
       "1     1          1                1\n",
       "2     2          2                2\n",
       "3     3          3                3"
      ]
     },
     "execution_count": 39,
     "metadata": {},
     "output_type": "execute_result"
    }
   ],
   "source": [
    "Team_SNSUser.head()"
   ]
  },
  {
   "cell_type": "code",
   "execution_count": 40,
   "metadata": {},
   "outputs": [
    {
     "data": {
      "text/html": [
       "<div>\n",
       "<style scoped>\n",
       "    .dataframe tbody tr th:only-of-type {\n",
       "        vertical-align: middle;\n",
       "    }\n",
       "\n",
       "    .dataframe tbody tr th {\n",
       "        vertical-align: top;\n",
       "    }\n",
       "\n",
       "    .dataframe thead th {\n",
       "        text-align: right;\n",
       "    }\n",
       "</style>\n",
       "<table border=\"1\" class=\"dataframe\">\n",
       "  <thead>\n",
       "    <tr style=\"text-align: right;\">\n",
       "      <th></th>\n",
       "      <th>SNSUserID</th>\n",
       "      <th>SNSType</th>\n",
       "      <th>accountID</th>\n",
       "      <th>userName</th>\n",
       "      <th>followersCount</th>\n",
       "      <th>postsCount</th>\n",
       "    </tr>\n",
       "  </thead>\n",
       "  <tbody>\n",
       "    <tr>\n",
       "      <th>1</th>\n",
       "      <td>1</td>\n",
       "      <td>Twitter</td>\n",
       "      <td>46757590</td>\n",
       "      <td>yankees</td>\n",
       "      <td>2202290</td>\n",
       "      <td>5008</td>\n",
       "    </tr>\n",
       "    <tr>\n",
       "      <th>2</th>\n",
       "      <td>2</td>\n",
       "      <td>Twitter</td>\n",
       "      <td>46782831</td>\n",
       "      <td>dodgers</td>\n",
       "      <td>1938260</td>\n",
       "      <td>12181</td>\n",
       "    </tr>\n",
       "    <tr>\n",
       "      <th>3</th>\n",
       "      <td>3</td>\n",
       "      <td>Twitter</td>\n",
       "      <td>47288466</td>\n",
       "      <td>raysbaseball</td>\n",
       "      <td>264761</td>\n",
       "      <td>7638</td>\n",
       "    </tr>\n",
       "    <tr>\n",
       "      <th>4</th>\n",
       "      <td>4</td>\n",
       "      <td>Twitter</td>\n",
       "      <td>4479471161</td>\n",
       "      <td>_gregbird33</td>\n",
       "      <td>107617</td>\n",
       "      <td>46</td>\n",
       "    </tr>\n",
       "    <tr>\n",
       "      <th>5</th>\n",
       "      <td>5</td>\n",
       "      <td>Twitter</td>\n",
       "      <td>10499719502</td>\n",
       "      <td>dj_lemahieu</td>\n",
       "      <td>5733</td>\n",
       "      <td>3</td>\n",
       "    </tr>\n",
       "  </tbody>\n",
       "</table>\n",
       "</div>"
      ],
      "text/plain": [
       "  SNSUserID  SNSType    accountID      userName followersCount postsCount\n",
       "1         1  Twitter     46757590       yankees        2202290       5008\n",
       "2         2  Twitter     46782831       dodgers        1938260      12181\n",
       "3         3  Twitter     47288466  raysbaseball         264761       7638\n",
       "4         4  Twitter   4479471161   _gregbird33         107617         46\n",
       "5         5  Twitter  10499719502   dj_lemahieu           5733          3"
      ]
     },
     "execution_count": 40,
     "metadata": {},
     "output_type": "execute_result"
    }
   ],
   "source": [
    "SNSUser.head()"
   ]
  },
  {
   "cell_type": "code",
   "execution_count": 41,
   "metadata": {},
   "outputs": [
    {
     "data": {
      "text/html": [
       "<div>\n",
       "<style scoped>\n",
       "    .dataframe tbody tr th:only-of-type {\n",
       "        vertical-align: middle;\n",
       "    }\n",
       "\n",
       "    .dataframe tbody tr th {\n",
       "        vertical-align: top;\n",
       "    }\n",
       "\n",
       "    .dataframe thead th {\n",
       "        text-align: right;\n",
       "    }\n",
       "</style>\n",
       "<table border=\"1\" class=\"dataframe\">\n",
       "  <thead>\n",
       "    <tr style=\"text-align: right;\">\n",
       "      <th></th>\n",
       "      <th>SNSpostID</th>\n",
       "      <th>postID</th>\n",
       "      <th>SNSUserID</th>\n",
       "      <th>content</th>\n",
       "      <th>favoriteCount</th>\n",
       "      <th>createdTime</th>\n",
       "    </tr>\n",
       "  </thead>\n",
       "  <tbody>\n",
       "    <tr>\n",
       "      <th>1</th>\n",
       "      <td>1</td>\n",
       "      <td>2030199101733336830</td>\n",
       "      <td>2</td>\n",
       "      <td>Can we a do a friends night ?❤️</td>\n",
       "      <td>12119</td>\n",
       "      <td>2019-04-26 00:30:14</td>\n",
       "    </tr>\n",
       "    <tr>\n",
       "      <th>2</th>\n",
       "      <td>2</td>\n",
       "      <td>2030165521294879068</td>\n",
       "      <td>2</td>\n",
       "      <td>Amazing pic⚾️🔥</td>\n",
       "      <td>12088</td>\n",
       "      <td>2019-04-25 23:23:31</td>\n",
       "    </tr>\n",
       "    <tr>\n",
       "      <th>3</th>\n",
       "      <td>3</td>\n",
       "      <td>2030134237071760378</td>\n",
       "      <td>2</td>\n",
       "      <td>KJ keeps giving up the booty!!!</td>\n",
       "      <td>24924</td>\n",
       "      <td>2019-04-25 22:21:21</td>\n",
       "    </tr>\n",
       "    <tr>\n",
       "      <th>4</th>\n",
       "      <td>4</td>\n",
       "      <td>2030121918258333239</td>\n",
       "      <td>2</td>\n",
       "      <td>Bullpen was solid... they deserve credit, they...</td>\n",
       "      <td>23631</td>\n",
       "      <td>2019-04-25 21:56:53</td>\n",
       "    </tr>\n",
       "    <tr>\n",
       "      <th>5</th>\n",
       "      <td>5</td>\n",
       "      <td>2030113054754358984</td>\n",
       "      <td>2</td>\n",
       "      <td>@bodaciousbearr @manintheground lol the comments</td>\n",
       "      <td>40103</td>\n",
       "      <td>2019-04-25 21:39:16</td>\n",
       "    </tr>\n",
       "  </tbody>\n",
       "</table>\n",
       "</div>"
      ],
      "text/plain": [
       "  SNSpostID               postID SNSUserID  \\\n",
       "1         1  2030199101733336830         2   \n",
       "2         2  2030165521294879068         2   \n",
       "3         3  2030134237071760378         2   \n",
       "4         4  2030121918258333239         2   \n",
       "5         5  2030113054754358984         2   \n",
       "\n",
       "                                             content favoriteCount  \\\n",
       "1                    Can we a do a friends night ?❤️         12119   \n",
       "2                                     Amazing pic⚾️🔥         12088   \n",
       "3                    KJ keeps giving up the booty!!!         24924   \n",
       "4  Bullpen was solid... they deserve credit, they...         23631   \n",
       "5   @bodaciousbearr @manintheground lol the comments         40103   \n",
       "\n",
       "          createdTime  \n",
       "1 2019-04-26 00:30:14  \n",
       "2 2019-04-25 23:23:31  \n",
       "3 2019-04-25 22:21:21  \n",
       "4 2019-04-25 21:56:53  \n",
       "5 2019-04-25 21:39:16  "
      ]
     },
     "execution_count": 41,
     "metadata": {},
     "output_type": "execute_result"
    }
   ],
   "source": [
    "Post.head()"
   ]
  },
  {
   "cell_type": "code",
   "execution_count": 42,
   "metadata": {},
   "outputs": [
    {
     "data": {
      "text/html": [
       "<div>\n",
       "<style scoped>\n",
       "    .dataframe tbody tr th:only-of-type {\n",
       "        vertical-align: middle;\n",
       "    }\n",
       "\n",
       "    .dataframe tbody tr th {\n",
       "        vertical-align: top;\n",
       "    }\n",
       "\n",
       "    .dataframe thead th {\n",
       "        text-align: right;\n",
       "    }\n",
       "</style>\n",
       "<table border=\"1\" class=\"dataframe\">\n",
       "  <thead>\n",
       "    <tr style=\"text-align: right;\">\n",
       "      <th></th>\n",
       "      <th>prtID</th>\n",
       "      <th>PostSNSpostID</th>\n",
       "      <th>TagTagID</th>\n",
       "    </tr>\n",
       "  </thead>\n",
       "  <tbody>\n",
       "    <tr>\n",
       "      <th>1</th>\n",
       "      <td>1</td>\n",
       "      <td>1</td>\n",
       "      <td>1</td>\n",
       "    </tr>\n",
       "    <tr>\n",
       "      <th>2</th>\n",
       "      <td>2</td>\n",
       "      <td>2</td>\n",
       "      <td>2</td>\n",
       "    </tr>\n",
       "    <tr>\n",
       "      <th>3</th>\n",
       "      <td>3</td>\n",
       "      <td>3</td>\n",
       "      <td>2</td>\n",
       "    </tr>\n",
       "    <tr>\n",
       "      <th>4</th>\n",
       "      <td>4</td>\n",
       "      <td>3</td>\n",
       "      <td>3</td>\n",
       "    </tr>\n",
       "    <tr>\n",
       "      <th>5</th>\n",
       "      <td>5</td>\n",
       "      <td>6</td>\n",
       "      <td>4</td>\n",
       "    </tr>\n",
       "  </tbody>\n",
       "</table>\n",
       "</div>"
      ],
      "text/plain": [
       "  prtID PostSNSpostID TagTagID\n",
       "1     1             1        1\n",
       "2     2             2        2\n",
       "3     3             3        2\n",
       "4     4             3        3\n",
       "5     5             6        4"
      ]
     },
     "execution_count": 42,
     "metadata": {},
     "output_type": "execute_result"
    }
   ],
   "source": [
    "Post_Tag.head()"
   ]
  },
  {
   "cell_type": "code",
   "execution_count": 43,
   "metadata": {},
   "outputs": [
    {
     "data": {
      "text/html": [
       "<div>\n",
       "<style scoped>\n",
       "    .dataframe tbody tr th:only-of-type {\n",
       "        vertical-align: middle;\n",
       "    }\n",
       "\n",
       "    .dataframe tbody tr th {\n",
       "        vertical-align: top;\n",
       "    }\n",
       "\n",
       "    .dataframe thead th {\n",
       "        text-align: right;\n",
       "    }\n",
       "</style>\n",
       "<table border=\"1\" class=\"dataframe\">\n",
       "  <thead>\n",
       "    <tr style=\"text-align: right;\">\n",
       "      <th></th>\n",
       "      <th>tagID</th>\n",
       "      <th>tagText</th>\n",
       "      <th>tagType</th>\n",
       "    </tr>\n",
       "  </thead>\n",
       "  <tbody>\n",
       "    <tr>\n",
       "      <th>1</th>\n",
       "      <td>1</td>\n",
       "      <td>seinfeldtv</td>\n",
       "      <td>mention</td>\n",
       "    </tr>\n",
       "    <tr>\n",
       "      <th>2</th>\n",
       "      <td>2</td>\n",
       "      <td>dodgers</td>\n",
       "      <td>hashtag</td>\n",
       "    </tr>\n",
       "    <tr>\n",
       "      <th>3</th>\n",
       "      <td>3</td>\n",
       "      <td>ross_stripling</td>\n",
       "      <td>mention</td>\n",
       "    </tr>\n",
       "    <tr>\n",
       "      <th>4</th>\n",
       "      <td>4</td>\n",
       "      <td>kenleyjansen74</td>\n",
       "      <td>mention</td>\n",
       "    </tr>\n",
       "    <tr>\n",
       "      <th>5</th>\n",
       "      <td>5</td>\n",
       "      <td>dugie11</td>\n",
       "      <td>mention</td>\n",
       "    </tr>\n",
       "  </tbody>\n",
       "</table>\n",
       "</div>"
      ],
      "text/plain": [
       "  tagID         tagText  tagType\n",
       "1     1      seinfeldtv  mention\n",
       "2     2         dodgers  hashtag\n",
       "3     3  ross_stripling  mention\n",
       "4     4  kenleyjansen74  mention\n",
       "5     5         dugie11  mention"
      ]
     },
     "execution_count": 43,
     "metadata": {},
     "output_type": "execute_result"
    }
   ],
   "source": [
    "Tag.head()"
   ]
  },
  {
   "cell_type": "code",
   "execution_count": 44,
   "metadata": {},
   "outputs": [
    {
     "data": {
      "text/html": [
       "<div>\n",
       "<style scoped>\n",
       "    .dataframe tbody tr th:only-of-type {\n",
       "        vertical-align: middle;\n",
       "    }\n",
       "\n",
       "    .dataframe tbody tr th {\n",
       "        vertical-align: top;\n",
       "    }\n",
       "\n",
       "    .dataframe thead th {\n",
       "        text-align: right;\n",
       "    }\n",
       "</style>\n",
       "<table border=\"1\" class=\"dataframe\">\n",
       "  <thead>\n",
       "    <tr style=\"text-align: right;\">\n",
       "      <th></th>\n",
       "      <th>tagID</th>\n",
       "    </tr>\n",
       "  </thead>\n",
       "  <tbody>\n",
       "  </tbody>\n",
       "</table>\n",
       "</div>"
      ],
      "text/plain": [
       "Empty DataFrame\n",
       "Columns: [tagID]\n",
       "Index: []"
      ]
     },
     "execution_count": 44,
     "metadata": {},
     "output_type": "execute_result"
    }
   ],
   "source": [
    "DomainTag.head()"
   ]
  },
  {
   "cell_type": "code",
   "execution_count": 45,
   "metadata": {},
   "outputs": [
    {
     "data": {
      "text/html": [
       "<div>\n",
       "<style scoped>\n",
       "    .dataframe tbody tr th:only-of-type {\n",
       "        vertical-align: middle;\n",
       "    }\n",
       "\n",
       "    .dataframe tbody tr th {\n",
       "        vertical-align: top;\n",
       "    }\n",
       "\n",
       "    .dataframe thead th {\n",
       "        text-align: right;\n",
       "    }\n",
       "</style>\n",
       "<table border=\"1\" class=\"dataframe\">\n",
       "  <thead>\n",
       "    <tr style=\"text-align: right;\">\n",
       "      <th></th>\n",
       "      <th>tagID1</th>\n",
       "      <th>tagID2</th>\n",
       "    </tr>\n",
       "  </thead>\n",
       "  <tbody>\n",
       "  </tbody>\n",
       "</table>\n",
       "</div>"
      ],
      "text/plain": [
       "Empty DataFrame\n",
       "Columns: [tagID1, tagID2]\n",
       "Index: []"
      ]
     },
     "execution_count": 45,
     "metadata": {},
     "output_type": "execute_result"
    }
   ],
   "source": [
    "SynonymsTag.head()"
   ]
  },
  {
   "cell_type": "code",
   "execution_count": 46,
   "metadata": {},
   "outputs": [
    {
     "data": {
      "text/html": [
       "<div>\n",
       "<style scoped>\n",
       "    .dataframe tbody tr th:only-of-type {\n",
       "        vertical-align: middle;\n",
       "    }\n",
       "\n",
       "    .dataframe tbody tr th {\n",
       "        vertical-align: top;\n",
       "    }\n",
       "\n",
       "    .dataframe thead th {\n",
       "        text-align: right;\n",
       "    }\n",
       "</style>\n",
       "<table border=\"1\" class=\"dataframe\">\n",
       "  <thead>\n",
       "    <tr style=\"text-align: right;\">\n",
       "      <th></th>\n",
       "      <th>tagID1</th>\n",
       "      <th>tagID2</th>\n",
       "    </tr>\n",
       "  </thead>\n",
       "  <tbody>\n",
       "  </tbody>\n",
       "</table>\n",
       "</div>"
      ],
      "text/plain": [
       "Empty DataFrame\n",
       "Columns: [tagID1, tagID2]\n",
       "Index: []"
      ]
     },
     "execution_count": 46,
     "metadata": {},
     "output_type": "execute_result"
    }
   ],
   "source": [
    "MisspellingsTag.head()"
   ]
  },
  {
   "cell_type": "code",
   "execution_count": 47,
   "metadata": {},
   "outputs": [
    {
     "data": {
      "text/html": [
       "<div>\n",
       "<style scoped>\n",
       "    .dataframe tbody tr th:only-of-type {\n",
       "        vertical-align: middle;\n",
       "    }\n",
       "\n",
       "    .dataframe tbody tr th {\n",
       "        vertical-align: top;\n",
       "    }\n",
       "\n",
       "    .dataframe thead th {\n",
       "        text-align: right;\n",
       "    }\n",
       "</style>\n",
       "<table border=\"1\" class=\"dataframe\">\n",
       "  <thead>\n",
       "    <tr style=\"text-align: right;\">\n",
       "      <th></th>\n",
       "      <th>ttrID</th>\n",
       "      <th>TagCatagorycatagoryID</th>\n",
       "      <th>TagTagID</th>\n",
       "    </tr>\n",
       "  </thead>\n",
       "  <tbody>\n",
       "  </tbody>\n",
       "</table>\n",
       "</div>"
      ],
      "text/plain": [
       "Empty DataFrame\n",
       "Columns: [ttrID, TagCatagorycatagoryID, TagTagID]\n",
       "Index: []"
      ]
     },
     "execution_count": 47,
     "metadata": {},
     "output_type": "execute_result"
    }
   ],
   "source": [
    "TagCatagory_Tag.head()"
   ]
  },
  {
   "cell_type": "code",
   "execution_count": 48,
   "metadata": {},
   "outputs": [
    {
     "data": {
      "text/html": [
       "<div>\n",
       "<style scoped>\n",
       "    .dataframe tbody tr th:only-of-type {\n",
       "        vertical-align: middle;\n",
       "    }\n",
       "\n",
       "    .dataframe tbody tr th {\n",
       "        vertical-align: top;\n",
       "    }\n",
       "\n",
       "    .dataframe thead th {\n",
       "        text-align: right;\n",
       "    }\n",
       "</style>\n",
       "<table border=\"1\" class=\"dataframe\">\n",
       "  <thead>\n",
       "    <tr style=\"text-align: right;\">\n",
       "      <th></th>\n",
       "      <th>catagoryID</th>\n",
       "      <th>catagoryName</th>\n",
       "    </tr>\n",
       "  </thead>\n",
       "  <tbody>\n",
       "  </tbody>\n",
       "</table>\n",
       "</div>"
      ],
      "text/plain": [
       "Empty DataFrame\n",
       "Columns: [catagoryID, catagoryName]\n",
       "Index: []"
      ]
     },
     "execution_count": 48,
     "metadata": {},
     "output_type": "execute_result"
    }
   ],
   "source": [
    "TagCatagory.head()"
   ]
  },
  {
   "cell_type": "code",
   "execution_count": 49,
   "metadata": {},
   "outputs": [],
   "source": [
    "PlayerList = Player.values.tolist()\n",
    "Player_FanList = Player_Fan.values.tolist()\n",
    "FanList = Fan.values.tolist()\n",
    "Fan_TeamList = Fan_Team.values.tolist()\n",
    "PersonList = Person.values.tolist()\n",
    "TeamList = Team.values.tolist()\n",
    "Person_SNSUserList = Person_SNSUser.values.tolist()\n",
    "LocationList = Location.values.tolist()\n",
    "Team_SNSUserList = Team_SNSUser.values.tolist()\n",
    "SNSUserList = SNSUser.values.tolist()\n",
    "PostList = Post.values.tolist()\n",
    "Post_TagList = Post_Tag.values.tolist()\n",
    "TagList = Tag.values.tolist()\n",
    "DomainTagList = DomainTag.values.tolist()\n",
    "SynonymsTagList = SynonymsTag.values.tolist()\n",
    "MisspellingsTagList = MisspellingsTag.values.tolist()\n",
    "TagCatagory_TagList = TagCatagory_Tag.values.tolist()\n",
    "TagCatagoryList = TagCatagory.values.tolist()"
   ]
  },
  {
   "cell_type": "markdown",
   "metadata": {},
   "source": [
    "# Tagging"
   ]
  },
  {
   "cell_type": "markdown",
   "metadata": {},
   "source": [
    "## domain tag"
   ]
  },
  {
   "cell_type": "code",
   "execution_count": 51,
   "metadata": {},
   "outputs": [],
   "source": [
    "teamSNS=[[\"New York Yankees\", \"yankees\"],\n",
    "         [\"Los Angeles Dodgers\", \"dodgers\"],\n",
    "         [\"Tampa Bay Rays\", \"raysbaseball\"]]\n",
    "playerSNS=[[\"Greg Bird\", \"_gregbird33\"],\n",
    "           [\"DJ LeMahieu\", \"dj_lemahieu\"],\n",
    "           [\"Zack Britton\", \"zbritton\"],\n",
    "           [\"Max Muncy\", \"maxmuncy\"],\n",
    "           [\"Julio Urías\", \"theteenager7\"],\n",
    "           [\"Cody Bellinger\", \"cody_bellinger\"],\n",
    "           [\"Christian Arroyo\", \"arroyoc22\"],\n",
    "           [\"Austin Meadows\", \"austinmeadows13\"],\n",
    "           [\"Guillermo Heredia\", \"heredia54\"]]"
   ]
  },
  {
   "cell_type": "code",
   "execution_count": 52,
   "metadata": {},
   "outputs": [],
   "source": [
    "for tag in TagList:\n",
    "    if tag[2]==\"hashtag\":\n",
    "        for player in playerSNS:\n",
    "            if tag[1] in player[1]:\n",
    "                DomainTagList.append([tag[0]])\n",
    "        for team in teamSNS:\n",
    "            if tag[1] in team[1]:\n",
    "                DomainTagList.append([tag[0]])"
   ]
  },
  {
   "cell_type": "markdown",
   "metadata": {},
   "source": [
    "## synonyms tag"
   ]
  },
  {
   "cell_type": "code",
   "execution_count": 53,
   "metadata": {},
   "outputs": [
    {
     "data": {
      "text/plain": [
       "1"
      ]
     },
     "execution_count": 53,
     "metadata": {},
     "output_type": "execute_result"
    }
   ],
   "source": [
    "def tagcount1(tagid):\n",
    "    counter = 0\n",
    "    for pt in Post_TagList:\n",
    "        if pt[2]==tagid:\n",
    "            counter=counter+1\n",
    "    return counter\n",
    "tagcount1(5)"
   ]
  },
  {
   "cell_type": "code",
   "execution_count": 54,
   "metadata": {},
   "outputs": [
    {
     "data": {
      "text/plain": [
       "0"
      ]
     },
     "execution_count": 54,
     "metadata": {},
     "output_type": "execute_result"
    }
   ],
   "source": [
    "def tagcount2(tagid1, tagid2):\n",
    "    counter=0\n",
    "    tagid1list = []\n",
    "    for posttag in Post_TagList:\n",
    "        if posttag[2]==tagid1:\n",
    "            tagid1list.append(posttag[1])\n",
    "    tagid2list = []\n",
    "    for posttag in Post_TagList:\n",
    "        if posttag[2]==tagid2:\n",
    "            tagid2list.append(posttag[1])\n",
    "    for tagid1 in tagid1list:\n",
    "        for tagid2 in tagid2list:\n",
    "            if tagid1==tagid2:\n",
    "                counter=counter+1\n",
    "    return counter\n",
    "tagcount2(1,2)"
   ]
  },
  {
   "cell_type": "code",
   "execution_count": 56,
   "metadata": {},
   "outputs": [],
   "source": [
    "ratioleast = 0.75\n",
    "countleast = 10\n",
    "for tag1 in TagList:\n",
    "    if tag1[2] == \"hashtag\" and tagcount1(tag1[0])>countleast:    \n",
    "        for tag2 in TagList:\n",
    "            if tag2[2] == \"hashtag\" and tagcount1(tag2[0]>countleast):\n",
    "                if tag1 != tag2:\n",
    "                    tag1id = tag1[0]\n",
    "                    tag2id = tag2[0]\n",
    "                    f1 = tagcount1(tag1id)\n",
    "                    f2 = tagcount1(tag2id)\n",
    "                    f3 = tagcount2(tag1id, tag2id)\n",
    "                    if f3/f1 > ratioleast or f3/f2 >ratioleast:\n",
    "                        if tag1id > tag2id:\n",
    "                            temptagid = tag1id\n",
    "                            tag1id = tag2id\n",
    "                            tag2id = temptagid\n",
    "                        if [tag1id, tag2id] not in SynonymsTagList:\n",
    "                            SynonymsTagList.append([TagList[tag1id][1], TagList[tag2id][1]])"
   ]
  },
  {
   "cell_type": "markdown",
   "metadata": {},
   "source": [
    "## Misspelling Tag"
   ]
  },
  {
   "cell_type": "code",
   "execution_count": 57,
   "metadata": {},
   "outputs": [],
   "source": [
    "# Levenshtein distance calculation function\n",
    "# Reference: https://rosettacode.org/wiki/Levenshtein_distance#Python\n",
    "def ldistance(s1, s2):\n",
    "    if len(s1) > len(s2):\n",
    "        s1, s2 = s2, s1\n",
    "    distances = range(len(s1) + 1)\n",
    "    for index2, char2 in enumerate(s2):\n",
    "        newDistances = [index2 + 1]\n",
    "        for index1,char1 in enumerate(s1):\n",
    "            if char1 == char2:\n",
    "                newDistances.append(distances[index1])\n",
    "            else:\n",
    "                newDistances.append(1 + min((distances[index1],\n",
    "                                             distances[index1 + 1],\n",
    "                                             newDistances[-1])))\n",
    "        distances = newDistances\n",
    "    return distances[-1]"
   ]
  },
  {
   "cell_type": "code",
   "execution_count": 58,
   "metadata": {},
   "outputs": [],
   "source": [
    "d1ratioleast = 0.30\n",
    "d2ratioleast = 0.20\n",
    "d3ratioleast = 0.10\n",
    "for tag1 in TagList:\n",
    "    if tag1[2] == \"hashtag\":    \n",
    "        for tag2 in TagList:\n",
    "            if tag2[2] == \"hashtag\":\n",
    "                if tag1 != tag2:\n",
    "                    tag1id=tag1[0]\n",
    "                    tag2id=tag2[0]\n",
    "                    f1=tagcount1(tag1id)\n",
    "                    f2=tagcount1(tag2id)\n",
    "                    distance=ldistance(tag1[1],tag2[1])\n",
    "                    if distance<4:\n",
    "                        if distance==1:\n",
    "                            ratio=d1ratioleast\n",
    "                        if distance==2:\n",
    "                            ratio=d2ratioleast\n",
    "                        if distance==3:\n",
    "                            ratio=d3ratioleast\n",
    "                        if f1/f2<ratio or f2/f1<ratio:\n",
    "                            if f1>f2:\n",
    "                                temptag =tag1id\n",
    "                                tag1id=tag2id\n",
    "                                tag2id=temptag\n",
    "                                tempf=f1\n",
    "                                f1=f2\n",
    "                                f2=tempf\n",
    "                            misspt0list=[]\n",
    "                            for misspt in MisspellingsTagList:\n",
    "                                misspt0list.append(misspt[0])\n",
    "                            if not tag1id in misspt0list:\n",
    "                                 MisspellingsTagList.append([tag1id, tag2id])\n",
    "                            else:\n",
    "                                missptori = []\n",
    "                                for misspt in MisspellingsTagList:\n",
    "                                    if misspt[0] == tag1id:\n",
    "                                        missptori = misspt\n",
    "                                        break\n",
    "                                tagori1=\"\"\n",
    "                                tagori2=\"\"\n",
    "                                for tag in TagList:\n",
    "                                    if tag[0]==missptori[0]:\n",
    "                                        tagori1=tag[1]\n",
    "                                    if tag[0]==missptori[1]:\n",
    "                                        tagori2=tag[1]\n",
    "                                f1ori=tagcount1(missptori[0])\n",
    "                                f2ori=tagcount1(missptori[1])\n",
    "                                rori=f1ori/f2ori\n",
    "                                r=f1/f2\n",
    "                                distanceori=ldistance(tagori1,tagori2)\n",
    "                                if distance <distanceori:\n",
    "                                    counter=-1\n",
    "                                    for misspt in MisspellingsTagList:\n",
    "                                        counter=counter+1\n",
    "                                        if misspt[0]==tag1id:\n",
    "                                            break\n",
    "                                    MisspellingsTagList[counter]=[tag1id,tag2id]\n",
    "                                else:\n",
    "                                    if distance ==distanceori:\n",
    "                                        if r<rori:\n",
    "                                            counter=-1\n",
    "                                            for misspt in MisspellingsTagList:\n",
    "                                                counter=counter+1\n",
    "                                                if misspt[0]==tag1id:\n",
    "                                                    break\n",
    "                                            MisspellingsTagList[counter]=[tag1id,tag2id]             "
   ]
  },
  {
   "cell_type": "markdown",
   "metadata": {},
   "source": [
    "## TagCatagory"
   ]
  },
  {
   "cell_type": "code",
   "execution_count": 59,
   "metadata": {},
   "outputs": [],
   "source": [
    "TagCatagoryList=[[1,\"hashtag\"], \n",
    "                 [2,\"mention\"],\n",
    "                 [3,\"domaintag\"],\n",
    "                 [4,\"synonymstag\"],\n",
    "                 [5,\"misspellingstag\"]]"
   ]
  },
  {
   "cell_type": "markdown",
   "metadata": {},
   "source": [
    "## TagCatagory_Tag"
   ]
  },
  {
   "cell_type": "code",
   "execution_count": 60,
   "metadata": {},
   "outputs": [],
   "source": [
    "counter=0\n",
    "for tag in TagList:\n",
    "    if tag[2]==\"hashtag\":\n",
    "        counter=counter+1\n",
    "        TagCatagory_TagList.append([counter,1,tag[0]])\n",
    "    if tag[2]==\"mention\":\n",
    "        counter=counter+1\n",
    "        TagCatagory_TagList.append([counter,2,tag[0]])\n",
    "    domlist = []\n",
    "    for dom in DomainTagList:\n",
    "        domlist.append(dom[0])\n",
    "    if tag[0] in domlist:\n",
    "        counter=counter+1\n",
    "        TagCatagory_TagList.append([counter,3,tag[0]])\n",
    "    synlist=[]\n",
    "    for syn in SynonymsTagList:\n",
    "        synlist.append(syn[0])\n",
    "    if tag[0] in synlist:\n",
    "        counter=counter+1\n",
    "        TagCatagory_TagList.append([counter,4,tag[0]])\n",
    "    mislist=[]\n",
    "    for mis in MisspellingsTagList:\n",
    "        mislist.append(mis[0])\n",
    "    if tag[0] in mislist:\n",
    "        counter=counter+1\n",
    "        TagCatagory_TagList.append([counter,5,tag[0]])"
   ]
  },
  {
   "cell_type": "markdown",
   "metadata": {},
   "source": [
    "# Tagging dataframe"
   ]
  },
  {
   "cell_type": "code",
   "execution_count": 61,
   "metadata": {},
   "outputs": [],
   "source": [
    "def list2tuplelist(list):\n",
    "    tuplelist=[]\n",
    "    for row in list:\n",
    "        tuplelist.append(tuple(row))\n",
    "    return tuplelist"
   ]
  },
  {
   "cell_type": "code",
   "execution_count": 62,
   "metadata": {},
   "outputs": [],
   "source": [
    "labels=[\"tagID\"]\n",
    "DomainTag=pd.DataFrame.from_records(list2tuplelist(DomainTagList),columns=labels)"
   ]
  },
  {
   "cell_type": "code",
   "execution_count": 63,
   "metadata": {},
   "outputs": [
    {
     "data": {
      "text/html": [
       "<div>\n",
       "<style scoped>\n",
       "    .dataframe tbody tr th:only-of-type {\n",
       "        vertical-align: middle;\n",
       "    }\n",
       "\n",
       "    .dataframe tbody tr th {\n",
       "        vertical-align: top;\n",
       "    }\n",
       "\n",
       "    .dataframe thead th {\n",
       "        text-align: right;\n",
       "    }\n",
       "</style>\n",
       "<table border=\"1\" class=\"dataframe\">\n",
       "  <thead>\n",
       "    <tr style=\"text-align: right;\">\n",
       "      <th></th>\n",
       "      <th>tagID</th>\n",
       "    </tr>\n",
       "  </thead>\n",
       "  <tbody>\n",
       "    <tr>\n",
       "      <th>0</th>\n",
       "      <td>2</td>\n",
       "    </tr>\n",
       "    <tr>\n",
       "      <th>1</th>\n",
       "      <td>16</td>\n",
       "    </tr>\n",
       "    <tr>\n",
       "      <th>2</th>\n",
       "      <td>29</td>\n",
       "    </tr>\n",
       "    <tr>\n",
       "      <th>3</th>\n",
       "      <td>61</td>\n",
       "    </tr>\n",
       "    <tr>\n",
       "      <th>4</th>\n",
       "      <td>90</td>\n",
       "    </tr>\n",
       "  </tbody>\n",
       "</table>\n",
       "</div>"
      ],
      "text/plain": [
       "   tagID\n",
       "0      2\n",
       "1     16\n",
       "2     29\n",
       "3     61\n",
       "4     90"
      ]
     },
     "execution_count": 63,
     "metadata": {},
     "output_type": "execute_result"
    }
   ],
   "source": [
    "DomainTag.head()"
   ]
  },
  {
   "cell_type": "code",
   "execution_count": 64,
   "metadata": {},
   "outputs": [],
   "source": [
    "labels=[\"tagID1\",\"tagID2\"]\n",
    "SynonymsTag=pd.DataFrame.from_records(list2tuplelist(SynonymsTagList),columns=labels)"
   ]
  },
  {
   "cell_type": "code",
   "execution_count": 65,
   "metadata": {},
   "outputs": [
    {
     "data": {
      "text/html": [
       "<div>\n",
       "<style scoped>\n",
       "    .dataframe tbody tr th:only-of-type {\n",
       "        vertical-align: middle;\n",
       "    }\n",
       "\n",
       "    .dataframe tbody tr th {\n",
       "        vertical-align: top;\n",
       "    }\n",
       "\n",
       "    .dataframe thead th {\n",
       "        text-align: right;\n",
       "    }\n",
       "</style>\n",
       "<table border=\"1\" class=\"dataframe\">\n",
       "  <thead>\n",
       "    <tr style=\"text-align: right;\">\n",
       "      <th></th>\n",
       "      <th>tagID1</th>\n",
       "      <th>tagID2</th>\n",
       "    </tr>\n",
       "  </thead>\n",
       "  <tbody>\n",
       "  </tbody>\n",
       "</table>\n",
       "</div>"
      ],
      "text/plain": [
       "Empty DataFrame\n",
       "Columns: [tagID1, tagID2]\n",
       "Index: []"
      ]
     },
     "execution_count": 65,
     "metadata": {},
     "output_type": "execute_result"
    }
   ],
   "source": [
    "SynonymsTag.head()"
   ]
  },
  {
   "cell_type": "code",
   "execution_count": 66,
   "metadata": {},
   "outputs": [],
   "source": [
    "labels=[\"tagID1\",\"tagID2\"]\n",
    "MisspellingsTag=pd.DataFrame.from_records(list2tuplelist(MisspellingsTagList),columns=labels)"
   ]
  },
  {
   "cell_type": "code",
   "execution_count": 67,
   "metadata": {},
   "outputs": [
    {
     "data": {
      "text/html": [
       "<div>\n",
       "<style scoped>\n",
       "    .dataframe tbody tr th:only-of-type {\n",
       "        vertical-align: middle;\n",
       "    }\n",
       "\n",
       "    .dataframe tbody tr th {\n",
       "        vertical-align: top;\n",
       "    }\n",
       "\n",
       "    .dataframe thead th {\n",
       "        text-align: right;\n",
       "    }\n",
       "</style>\n",
       "<table border=\"1\" class=\"dataframe\">\n",
       "  <thead>\n",
       "    <tr style=\"text-align: right;\">\n",
       "      <th></th>\n",
       "      <th>tagID1</th>\n",
       "      <th>tagID2</th>\n",
       "    </tr>\n",
       "  </thead>\n",
       "  <tbody>\n",
       "  </tbody>\n",
       "</table>\n",
       "</div>"
      ],
      "text/plain": [
       "Empty DataFrame\n",
       "Columns: [tagID1, tagID2]\n",
       "Index: []"
      ]
     },
     "execution_count": 67,
     "metadata": {},
     "output_type": "execute_result"
    }
   ],
   "source": [
    "MisspellingsTag.head()"
   ]
  },
  {
   "cell_type": "code",
   "execution_count": 68,
   "metadata": {},
   "outputs": [],
   "source": [
    "labels=[\"trtID\",\"TagCatagorycatagoryID\",\"TagTagID\"]\n",
    "TagCatagory_Tag=pd.DataFrame.from_records(list2tuplelist(TagCatagory_TagList),columns=labels)"
   ]
  },
  {
   "cell_type": "code",
   "execution_count": 69,
   "metadata": {},
   "outputs": [
    {
     "data": {
      "text/html": [
       "<div>\n",
       "<style scoped>\n",
       "    .dataframe tbody tr th:only-of-type {\n",
       "        vertical-align: middle;\n",
       "    }\n",
       "\n",
       "    .dataframe tbody tr th {\n",
       "        vertical-align: top;\n",
       "    }\n",
       "\n",
       "    .dataframe thead th {\n",
       "        text-align: right;\n",
       "    }\n",
       "</style>\n",
       "<table border=\"1\" class=\"dataframe\">\n",
       "  <thead>\n",
       "    <tr style=\"text-align: right;\">\n",
       "      <th></th>\n",
       "      <th>trtID</th>\n",
       "      <th>TagCatagorycatagoryID</th>\n",
       "      <th>TagTagID</th>\n",
       "    </tr>\n",
       "  </thead>\n",
       "  <tbody>\n",
       "    <tr>\n",
       "      <th>0</th>\n",
       "      <td>1</td>\n",
       "      <td>2</td>\n",
       "      <td>1</td>\n",
       "    </tr>\n",
       "    <tr>\n",
       "      <th>1</th>\n",
       "      <td>2</td>\n",
       "      <td>1</td>\n",
       "      <td>2</td>\n",
       "    </tr>\n",
       "    <tr>\n",
       "      <th>2</th>\n",
       "      <td>3</td>\n",
       "      <td>3</td>\n",
       "      <td>2</td>\n",
       "    </tr>\n",
       "    <tr>\n",
       "      <th>3</th>\n",
       "      <td>4</td>\n",
       "      <td>2</td>\n",
       "      <td>3</td>\n",
       "    </tr>\n",
       "    <tr>\n",
       "      <th>4</th>\n",
       "      <td>5</td>\n",
       "      <td>2</td>\n",
       "      <td>4</td>\n",
       "    </tr>\n",
       "  </tbody>\n",
       "</table>\n",
       "</div>"
      ],
      "text/plain": [
       "   trtID  TagCatagorycatagoryID  TagTagID\n",
       "0      1                      2         1\n",
       "1      2                      1         2\n",
       "2      3                      3         2\n",
       "3      4                      2         3\n",
       "4      5                      2         4"
      ]
     },
     "execution_count": 69,
     "metadata": {},
     "output_type": "execute_result"
    }
   ],
   "source": [
    "TagCatagory_Tag.head()"
   ]
  },
  {
   "cell_type": "code",
   "execution_count": 70,
   "metadata": {},
   "outputs": [],
   "source": [
    "labels=[\"catagoryID\",\"catagoryName\"]\n",
    "TagCatagory=pd.DataFrame.from_records(list2tuplelist(TagCatagoryList),columns=labels)"
   ]
  },
  {
   "cell_type": "code",
   "execution_count": 71,
   "metadata": {},
   "outputs": [
    {
     "data": {
      "text/html": [
       "<div>\n",
       "<style scoped>\n",
       "    .dataframe tbody tr th:only-of-type {\n",
       "        vertical-align: middle;\n",
       "    }\n",
       "\n",
       "    .dataframe tbody tr th {\n",
       "        vertical-align: top;\n",
       "    }\n",
       "\n",
       "    .dataframe thead th {\n",
       "        text-align: right;\n",
       "    }\n",
       "</style>\n",
       "<table border=\"1\" class=\"dataframe\">\n",
       "  <thead>\n",
       "    <tr style=\"text-align: right;\">\n",
       "      <th></th>\n",
       "      <th>catagoryID</th>\n",
       "      <th>catagoryName</th>\n",
       "    </tr>\n",
       "  </thead>\n",
       "  <tbody>\n",
       "    <tr>\n",
       "      <th>0</th>\n",
       "      <td>1</td>\n",
       "      <td>hashtag</td>\n",
       "    </tr>\n",
       "    <tr>\n",
       "      <th>1</th>\n",
       "      <td>2</td>\n",
       "      <td>mention</td>\n",
       "    </tr>\n",
       "    <tr>\n",
       "      <th>2</th>\n",
       "      <td>3</td>\n",
       "      <td>domaintag</td>\n",
       "    </tr>\n",
       "    <tr>\n",
       "      <th>3</th>\n",
       "      <td>4</td>\n",
       "      <td>synonymstag</td>\n",
       "    </tr>\n",
       "    <tr>\n",
       "      <th>4</th>\n",
       "      <td>5</td>\n",
       "      <td>misspellingstag</td>\n",
       "    </tr>\n",
       "  </tbody>\n",
       "</table>\n",
       "</div>"
      ],
      "text/plain": [
       "   catagoryID     catagoryName\n",
       "0           1          hashtag\n",
       "1           2          mention\n",
       "2           3        domaintag\n",
       "3           4      synonymstag\n",
       "4           5  misspellingstag"
      ]
     },
     "execution_count": 71,
     "metadata": {},
     "output_type": "execute_result"
    }
   ],
   "source": [
    "TagCatagory.head()"
   ]
  },
  {
   "cell_type": "markdown",
   "metadata": {},
   "source": [
    "# export to csv"
   ]
  },
  {
   "cell_type": "code",
   "execution_count": 72,
   "metadata": {},
   "outputs": [],
   "source": [
    "#Player = pd.DataFrame(columns = [\"personID\"])\n",
    "Player.to_csv(r'Player.csv',index=False, encoding=\"utf-8-sig\")\n",
    "#Player_Fan = pd.DataFrame(columns = [\"prfID\", \"PlayerpersonID\", \"FanpersonID\"])\n",
    "Player_Fan.to_csv(r'Player_Fan.csv',index=False, encoding=\"utf-8-sig\")\n",
    "#Fan = pd.DataFrame(columns = [\"personID\"])\n",
    "Fan.to_csv(r'Fan.csv',index=False, encoding=\"utf-8-sig\")\n",
    "#Fan_Team = pd.DataFrame(columns = [\"frtID\", \"FanpersonID\", \"TeamteamID\"])\n",
    "Fan_Team.to_csv(r'Fan_Team.csv',index=False, encoding=\"utf-8-sig\")\n",
    "#Person = pd.DataFrame(columns = [\"personID\", \"personName\", \"locationID\"])\n",
    "Person.to_csv(r'Person.csv',index=False, encoding=\"utf-8-sig\")\n",
    "#Team = pd.DataFrame(columns = [\"teamID\", \"teamName\", \"locationID\"])\n",
    "Team.to_csv(r'Team.csv',index=False, encoding=\"utf-8-sig\")\n",
    "#Person_SNSUser = pd.DataFrame(columns = [\"prsID\", \"PersonpersonID\", \"SNSUserSNSUserID\"])\n",
    "Person_SNSUser.to_csv(r'Person_SNSUser.csv',index=False, encoding=\"utf-8-sig\")\n",
    "#Location = pd.DataFrame(columns = [\"locationID\", \"locationName\"])\n",
    "Location.to_csv(r'Location.csv',index=False, encoding=\"utf-8-sig\")\n",
    "#Team_SNSUser = pd.DataFrame(columns = [\"trsID\", \"TeamteamID\", \"SNSUserSNSUserID\"])\n",
    "Team_SNSUser.to_csv(r'Team_SNSUser.csv',index=False, encoding=\"utf-8-sig\")\n",
    "#SNSUser = pd.DataFrame(columns = [\"SNSUserID\", \"SNSType\", \"accountID\", \"userName\", \"followersCount\", \"postsCount\"])\n",
    "SNSUser.to_csv(r'SNSUser.csv',index=False, encoding=\"utf-8-sig\")\n",
    "#Post = pd.DataFrame(columns = [\"SNSpostID\", \"postID\", \"SNSUserID\", \"content\", \"favoriteCount\", \"createdTime\"])\n",
    "Post.to_csv(r'Post.csv',index=False, encoding=\"utf-8-sig\")\n",
    "#Post_Tag = pd.DataFrame(columns = [\"prtID\", \"PostSNSpostID\", \"TagTagID\"])\n",
    "Post_Tag.to_csv(r'Post_Tag.csv',index=False, encoding=\"utf-8-sig\")\n",
    "#Tag = pd.DataFrame(columns = [\"tagID\", \"tagText\", \"tagType\"])\n",
    "Tag.to_csv(r'Tag.csv',index=False, encoding=\"utf-8-sig\")\n",
    "#DomainTag = pd.DataFrame(columns = [\"tagID\"])\n",
    "DomainTag.to_csv(r'DomainTag.csv',index=False, encoding=\"utf-8-sig\")\n",
    "#SynonymsTag = pd.DataFrame(columns = [\"tagID1\", \"tagID2\"])\n",
    "SynonymsTag.to_csv(r'SynonymsTag.csv',index=False, encoding=\"utf-8-sig\")\n",
    "#MisspellingsTag = pd.DataFrame(columns = [\"tagID1\", \"tagID2\"])\n",
    "MisspellingsTag.to_csv(r'MisspellingsTag.csv',index=False, encoding=\"utf-8-sig\")\n",
    "#TagCatagory_Tag = pd.DataFrame(columns = [\"trtID\", \"TagCatagorycatagoryID\", \"TagTagID\"])\n",
    "TagCatagory_Tag.to_csv(r'TagCatagory_Tag.csv',index=False, encoding=\"utf-8-sig\")\n",
    "#TagCatagory = pd.DataFrame(columns = [\"catagoryID\", \"catagoryName\"])\n",
    "TagCatagory.to_csv(r'TagCatagory.csv',index=False, encoding=\"utf-8-sig\")"
   ]
  }
 ],
 "metadata": {
  "kernelspec": {
   "display_name": "Python 3",
   "language": "python",
   "name": "python3"
  },
  "language_info": {
   "codemirror_mode": {
    "name": "ipython",
    "version": 3
   },
   "file_extension": ".py",
   "mimetype": "text/x-python",
   "name": "python",
   "nbconvert_exporter": "python",
   "pygments_lexer": "ipython3",
   "version": "3.7.1"
  }
 },
 "nbformat": 4,
 "nbformat_minor": 2
}
